{
 "cells": [
  {
   "cell_type": "code",
   "execution_count": 1,
   "metadata": {},
   "outputs": [
    {
     "name": "stderr",
     "output_type": "stream",
     "text": [
      "/home/sean/anaconda3/envs/fastai/lib/python3.6/site-packages/sklearn/ensemble/weight_boosting.py:29: DeprecationWarning: numpy.core.umath_tests is an internal NumPy module and should not be imported. It will be removed in a future NumPy release.\n",
      "  from numpy.core.umath_tests import inner1d\n"
     ]
    },
    {
     "data": {
      "text/plain": [
       "(True, True)"
      ]
     },
     "execution_count": 1,
     "metadata": {},
     "output_type": "execute_result"
    }
   ],
   "source": [
    "%matplotlib inline\n",
    "%reload_ext autoreload\n",
    "%autoreload 2\n",
    "# from jupyterthemes import jtplot\n",
    "# jtplot.style()\n",
    "from segmenter import *\n",
    "from IPython.core.debugger import set_trace\n",
    "from fastai.conv_learner import *\n",
    "import create_csvs as cc\n",
    "torch.cuda.is_available(), torch.backends.cudnn.enabled"
   ]
  },
  {
   "cell_type": "code",
   "execution_count": 23,
   "metadata": {},
   "outputs": [
    {
     "name": "stdout",
     "output_type": "stream",
     "text": [
      "\u001b[0m\u001b[01;34mdermofit\u001b[0m/                        \u001b[01;32mtrain_multi_mel.csv\u001b[0m*\r\n",
      "\u001b[01;34mISIC\u001b[0m/                            \u001b[01;32mtrain_multi_Mel_half.csv\u001b[0m*\r\n",
      "\u001b[01;32misic18_p3_test_data\u001b[0m*             \u001b[01;32mtrain_multi_no_ia_nervi.csv\u001b[0m*\r\n",
      "\u001b[01;34misic_archive\u001b[0m/                    \u001b[01;32mtrain_multi_raw.csv\u001b[0m*\r\n",
      "\u001b[01;34mmodels\u001b[0m/                          \u001b[01;32mtrain_multi_raw_half_ia_nervi.csv\u001b[0m*\r\n",
      "\u001b[01;34mph2dataset\u001b[0m/                      \u001b[01;32mtrain_multi_raw_no_ia_nervi.csv\u001b[0m*\r\n",
      "\u001b[01;32mtest_isic17_dermofitLabels.csv\u001b[0m*  \u001b[01;32mtrain_multi_sk.csv\u001b[0m*\r\n",
      "\u001b[01;34mtmp\u001b[0m/                             \u001b[01;32mtrain_mutli_SK_half.csv\u001b[0m*\r\n",
      "\u001b[01;32mtrain_dermofit_isic17.csv\u001b[0m*       \u001b[01;32mtrain_seg_isic17_dermo.csv\u001b[0m*\r\n",
      "\u001b[01;32mtrain_Mel_seg_isic17_dermo.csv\u001b[0m*  \u001b[01;32mtrain_SK_seg_isic17_dermo.csv\u001b[0m*\r\n",
      "\u001b[01;32mtrain_multi.csv\u001b[0m*                 \u001b[01;32mtrain_test_Mel_seg_isic17_dermo.csv\u001b[0m*\r\n",
      "\u001b[01;32mtrain_multi_half_ia_nervi.csv\u001b[0m*   \u001b[01;32mval_isic17.csv\u001b[0m*\r\n"
     ]
    }
   ],
   "source": [
    "PATH = Path('/home/sean/hpc-home/skin_cancer/')\n",
    "test_folder = 'ISIC/ISIC-2017_Test_v2_Data_Classification/'\n",
    "test_csv = PATH / 'ISIC/test_isic17.csv'\n",
    "\n",
    "test_mel_p = PATH / 'ISIC/test_mel_17.csv'\n",
    "test_ker_p = PATH / 'ISIC/test_ker_17.csv'\n",
    "test_all_p = PATH / 'ISIC/test_all_17.csv'\n",
    "test_raw_p = PATH / 'ISIC/test_raw_17.csv'\n",
    "\n",
    "train_isic_derm = PATH / 'train_dermofit_isic17.csv'\n",
    "\n",
    "train_skp = PATH / 'train_multi_sk.csv'\n",
    "train_melp = PATH / 'train_multi_mel.csv'\n",
    "train_all = PATH / 'train_multi.csv'\n",
    "train_raw = PATH / 'train_multi_raw.csv'\n",
    "\n",
    "train_raw_half_ia_nervi = PATH / 'train_multi_raw_half_ia_nervi.csv'\n",
    "train_all_half_ia_nervi = PATH / 'train_multi_half_ia_nervi.csv'\n",
    "\n",
    "train_raw_no_ia_nervi = PATH / 'train_multi_raw_no_ia_nervi.csv'\n",
    "train_all_no_ia_nervi = PATH / 'train_multi_half_no_nervi.csv'\n",
    "\n",
    "train_sk_half = PATH / 'train_mutli_SK_half.csv'\n",
    "train_sk_seg = PATH / 'train_SK_seg_isic17_dermo.csv'\n",
    "\n",
    "%ls $PATH"
   ]
  },
  {
   "cell_type": "code",
   "execution_count": 5,
   "metadata": {},
   "outputs": [
    {
     "name": "stdout",
     "output_type": "stream",
     "text": [
      "--- Load ISIC 17 Train set\n",
      "nevus        1372\n",
      "melanoma      374\n",
      "keratosis     254\n",
      "Name: classes, dtype: int64\n",
      "                                               melanoma  keratosis   classes\n",
      "image                                                                       \n",
      "ISIC/ISIC-2017_Training_Data/ISIC_0000000.jpg         0          0     nevus\n",
      "ISIC/ISIC-2017_Training_Data/ISIC_0000001.jpg         0          0     nevus\n",
      "ISIC/ISIC-2017_Training_Data/ISIC_0000002.jpg         1          0  melanoma\n",
      "ISIC/ISIC-2017_Training_Data/ISIC_0000003.jpg         0          0     nevus\n",
      "ISIC/ISIC-2017_Training_Data/ISIC_0000004.jpg         1          0  melanoma\n",
      "--- Load ISIC Archive Dataset\n",
      "nevus        3335\n",
      "melanoma      701\n",
      "keratosis       9\n",
      "Name: classes, dtype: int64\n",
      "                                                  melanoma  keratosis  \\\n",
      "image                                                                   \n",
      "isic_archive/images/5436e3acbae478396759f0e5.jpg         0          0   \n",
      "isic_archive/images/5593f47b9fc3c131551460fc.jpg         0          0   \n",
      "isic_archive/images/5436e3f4bae478396759f4a6.jpg         0          0   \n",
      "isic_archive/images/558d637cbae47801cf734dbc.jpg         1          0   \n",
      "isic_archive/images/558d60e8bae47801cf7345b2.jpg         1          0   \n",
      "\n",
      "                                                   classes  \n",
      "image                                                       \n",
      "isic_archive/images/5436e3acbae478396759f0e5.jpg     nevus  \n",
      "isic_archive/images/5593f47b9fc3c131551460fc.jpg     nevus  \n",
      "isic_archive/images/5436e3f4bae478396759f4a6.jpg     nevus  \n",
      "isic_archive/images/558d637cbae47801cf734dbc.jpg  melanoma  \n",
      "isic_archive/images/558d60e8bae47801cf7345b2.jpg  melanoma  \n",
      "--- Load Dermofit Dataset\n",
      "True\n",
      "nevus        967\n",
      "keratosis    257\n",
      "melanoma      76\n",
      "Name: classes, dtype: int64\n",
      "                                 melanoma  keratosis classes\n",
      "dermofit/ALLBCC/D204a/D204a.png         0          0   nevus\n",
      "dermofit/ALLSCC/D222/D222.png           0          0   nevus\n",
      "dermofit/ALLML/D226b/D226b.png          0          0   nevus\n",
      "dermofit/ALLML/D226c/D226c.png          0          0   nevus\n",
      "dermofit/ALLML/D227/D227.png            0          0   nevus\n",
      "--- Load PH2 Dataset\n",
      "True\n",
      "nevus       80\n",
      "melanoma    40\n",
      "Name: classes, dtype: int64\n",
      "                                                    melanoma  keratosis  \\\n",
      "ph2dataset/PH2_Dataset_images/IMD003/IMD003_Der...         0          0   \n",
      "ph2dataset/PH2_Dataset_images/IMD009/IMD009_Der...         0          0   \n",
      "ph2dataset/PH2_Dataset_images/IMD016/IMD016_Der...         0          0   \n",
      "ph2dataset/PH2_Dataset_images/IMD022/IMD022_Der...         0          0   \n",
      "ph2dataset/PH2_Dataset_images/IMD024/IMD024_Der...         0          0   \n",
      "\n",
      "                                                   classes  \n",
      "ph2dataset/PH2_Dataset_images/IMD003/IMD003_Der...   nevus  \n",
      "ph2dataset/PH2_Dataset_images/IMD009/IMD009_Der...   nevus  \n",
      "ph2dataset/PH2_Dataset_images/IMD016/IMD016_Der...   nevus  \n",
      "ph2dataset/PH2_Dataset_images/IMD022/IMD022_Der...   nevus  \n",
      "ph2dataset/PH2_Dataset_images/IMD024/IMD024_Der...   nevus  \n",
      "--- Load ISIC 17 Validation\n",
      "nevus        78\n",
      "keratosis    42\n",
      "melanoma     30\n",
      "Name: classes, dtype: int64\n",
      "                                                 melanoma  keratosis classes\n",
      "image                                                                       \n",
      "ISIC/ISIC-2017_Validation_Data/ISIC_0001769.jpg         0          0   nevus\n",
      "ISIC/ISIC-2017_Validation_Data/ISIC_0001852.jpg         0          0   nevus\n",
      "ISIC/ISIC-2017_Validation_Data/ISIC_0001871.jpg         0          0   nevus\n",
      "ISIC/ISIC-2017_Validation_Data/ISIC_0003462.jpg         0          0   nevus\n",
      "ISIC/ISIC-2017_Validation_Data/ISIC_0003539.jpg         0          0   nevus\n",
      "\n",
      "------\n",
      "\n",
      "Multi Dataset Trainset... 7615 elements\n",
      "nevus        5832\n",
      "melanoma     1221\n",
      "keratosis     562\n",
      "Name: classes, dtype: int64\n",
      "                                               melanoma  keratosis   classes\n",
      "ISIC/ISIC-2017_Training_Data/ISIC_0000000.jpg         0          0     nevus\n",
      "ISIC/ISIC-2017_Training_Data/ISIC_0000001.jpg         0          0     nevus\n",
      "ISIC/ISIC-2017_Training_Data/ISIC_0000002.jpg         1          0  melanoma\n",
      "ISIC/ISIC-2017_Training_Data/ISIC_0000003.jpg         0          0     nevus\n",
      "ISIC/ISIC-2017_Training_Data/ISIC_0000004.jpg         1          0  melanoma\n"
     ]
    },
    {
     "data": {
      "text/plain": [
       "False"
      ]
     },
     "execution_count": 5,
     "metadata": {},
     "output_type": "execute_result"
    }
   ],
   "source": [
    "mtrain = cc.combine_training()\n",
    "mtrain.isnull().values.any()"
   ]
  },
  {
   "cell_type": "code",
   "execution_count": 12,
   "metadata": {},
   "outputs": [
    {
     "name": "stdout",
     "output_type": "stream",
     "text": [
      "0    6394\n",
      "1    1221\n",
      "Name: melanoma, dtype: int64\n",
      "0    7053\n",
      "1     562\n",
      "Name: keratosis, dtype: int64\n"
     ]
    },
    {
     "data": {
      "text/plain": [
       "<matplotlib.axes._subplots.AxesSubplot at 0x7fcd01dec3c8>"
      ]
     },
     "execution_count": 12,
     "metadata": {},
     "output_type": "execute_result"
    },
    {
     "data": {
      "image/png": "[encoded data removed]",
      "text/plain": [
       "<Figure size 432x288 with 1 Axes>"
      ]
     },
     "metadata": {
      "needs_background": "light"
     },
     "output_type": "display_data"
    }
   ],
   "source": [
    "print(mtrain['melanoma'].value_counts())\n",
    "print(mtrain['keratosis'].value_counts())\n",
    "\n",
    "mtrain['classes'].value_counts().plot(kind='barh')"
   ]
  },
  {
   "cell_type": "code",
   "execution_count": null,
   "metadata": {},
   "outputs": [],
   "source": []
  },
  {
   "cell_type": "code",
   "execution_count": 2,
   "metadata": {},
   "outputs": [
    {
     "name": "stdout",
     "output_type": "stream",
     "text": [
      "--- Load ISIC 17 Train set\n"
     ]
    },
    {
     "name": "stderr",
     "output_type": "stream",
     "text": [
      "/home/sean/anaconda3/envs/fastai/lib/python3.6/site-packages/pandas/core/indexing.py:189: SettingWithCopyWarning: \n",
      "A value is trying to be set on a copy of a slice from a DataFrame\n",
      "\n",
      "See the caveats in the documentation: http://pandas.pydata.org/pandas-docs/stable/indexing.html#indexing-view-versus-copy\n",
      "  self._setitem_with_indexer(indexer, value)\n"
     ]
    },
    {
     "name": "stdout",
     "output_type": "stream",
     "text": [
      "nevus        1372\n",
      "melanoma      374\n",
      "keratosis     254\n",
      "Name: classes, dtype: int64\n",
      "                                               melanoma  keratosis   classes\n",
      "image                                                                       \n",
      "ISIC/ISIC-2017_Training_Data/ISIC_0000000.jpg         0          0     nevus\n",
      "ISIC/ISIC-2017_Training_Data/ISIC_0000001.jpg         0          0     nevus\n",
      "ISIC/ISIC-2017_Training_Data/ISIC_0000002.jpg         1          0  melanoma\n",
      "ISIC/ISIC-2017_Training_Data/ISIC_0000003.jpg         0          0     nevus\n",
      "ISIC/ISIC-2017_Training_Data/ISIC_0000004.jpg         1          0  melanoma\n",
      "--- Load Half Nevus ISIC Archive Dataset\n",
      "nevus        1667\n",
      "melanoma      701\n",
      "keratosis       9\n",
      "Name: classes, dtype: int64\n",
      "                                                  melanoma  keratosis  \\\n",
      "image                                                                   \n",
      "isic_archive/images/5593f47b9fc3c131551460fc.jpg         0          0   \n",
      "isic_archive/images/5436e3f4bae478396759f4a6.jpg         0          0   \n",
      "isic_archive/images/558d637cbae47801cf734dbc.jpg         1          0   \n",
      "isic_archive/images/558d60e8bae47801cf7345b2.jpg         1          0   \n",
      "isic_archive/images/558d6437bae47801cf735209.jpg         0          0   \n",
      "\n",
      "                                                   classes  \n",
      "image                                                       \n",
      "isic_archive/images/5593f47b9fc3c131551460fc.jpg     nevus  \n",
      "isic_archive/images/5436e3f4bae478396759f4a6.jpg     nevus  \n",
      "isic_archive/images/558d637cbae47801cf734dbc.jpg  melanoma  \n",
      "isic_archive/images/558d60e8bae47801cf7345b2.jpg  melanoma  \n",
      "isic_archive/images/558d6437bae47801cf735209.jpg     nevus  \n",
      "--- Load Dermofit Dataset\n",
      "True\n",
      "nevus        967\n",
      "keratosis    257\n",
      "melanoma      76\n",
      "Name: classes, dtype: int64\n",
      "                                 melanoma  keratosis classes\n",
      "dermofit/ALLBCC/D204a/D204a.png         0          0   nevus\n",
      "dermofit/ALLSCC/D222/D222.png           0          0   nevus\n",
      "dermofit/ALLML/D226b/D226b.png          0          0   nevus\n",
      "dermofit/ALLML/D226c/D226c.png          0          0   nevus\n",
      "dermofit/ALLML/D227/D227.png            0          0   nevus\n",
      "--- Load PH2 Dataset\n",
      "True\n",
      "nevus       80\n",
      "melanoma    40\n",
      "Name: classes, dtype: int64\n",
      "                                                    melanoma  keratosis  \\\n",
      "ph2dataset/PH2_Dataset_images/IMD003/IMD003_Der...         0          0   \n",
      "ph2dataset/PH2_Dataset_images/IMD009/IMD009_Der...         0          0   \n",
      "ph2dataset/PH2_Dataset_images/IMD016/IMD016_Der...         0          0   \n",
      "ph2dataset/PH2_Dataset_images/IMD022/IMD022_Der...         0          0   \n",
      "ph2dataset/PH2_Dataset_images/IMD024/IMD024_Der...         0          0   \n",
      "\n",
      "                                                   classes  \n",
      "ph2dataset/PH2_Dataset_images/IMD003/IMD003_Der...   nevus  \n",
      "ph2dataset/PH2_Dataset_images/IMD009/IMD009_Der...   nevus  \n",
      "ph2dataset/PH2_Dataset_images/IMD016/IMD016_Der...   nevus  \n",
      "ph2dataset/PH2_Dataset_images/IMD022/IMD022_Der...   nevus  \n",
      "ph2dataset/PH2_Dataset_images/IMD024/IMD024_Der...   nevus  \n",
      "--- Load ISIC 17 Validation\n",
      "nevus        78\n",
      "keratosis    42\n",
      "melanoma     30\n",
      "Name: classes, dtype: int64\n",
      "                                                 melanoma  keratosis classes\n",
      "image                                                                       \n",
      "ISIC/ISIC-2017_Validation_Data/ISIC_0001769.jpg         0          0   nevus\n",
      "ISIC/ISIC-2017_Validation_Data/ISIC_0001852.jpg         0          0   nevus\n",
      "ISIC/ISIC-2017_Validation_Data/ISIC_0001871.jpg         0          0   nevus\n",
      "ISIC/ISIC-2017_Validation_Data/ISIC_0003462.jpg         0          0   nevus\n",
      "ISIC/ISIC-2017_Validation_Data/ISIC_0003539.jpg         0          0   nevus\n",
      "\n",
      "------\n",
      "\n",
      "Multi Dataset Trainset... 5947 elements\n",
      "nevus        4164\n",
      "melanoma     1221\n",
      "keratosis     562\n",
      "Name: classes, dtype: int64\n",
      "                                               melanoma  keratosis   classes\n",
      "ISIC/ISIC-2017_Training_Data/ISIC_0000000.jpg         0          0     nevus\n",
      "ISIC/ISIC-2017_Training_Data/ISIC_0000001.jpg         0          0     nevus\n",
      "ISIC/ISIC-2017_Training_Data/ISIC_0000002.jpg         1          0  melanoma\n",
      "ISIC/ISIC-2017_Training_Data/ISIC_0000003.jpg         0          0     nevus\n",
      "ISIC/ISIC-2017_Training_Data/ISIC_0000004.jpg         1          0  melanoma\n"
     ]
    },
    {
     "data": {
      "text/plain": [
       "False"
      ]
     },
     "execution_count": 2,
     "metadata": {},
     "output_type": "execute_result"
    }
   ],
   "source": [
    "mtrain_h = cc.combine_training(half_ia=True)\n",
    "mtrain_h.isnull().values.any()"
   ]
  },
  {
   "cell_type": "code",
   "execution_count": 6,
   "metadata": {},
   "outputs": [
    {
     "name": "stdout",
     "output_type": "stream",
     "text": [
      "0    4726\n",
      "1    1221\n",
      "Name: melanoma, dtype: int64\n",
      "0    5385\n",
      "1     562\n",
      "Name: keratosis, dtype: int64\n"
     ]
    },
    {
     "data": {
      "text/plain": [
       "<matplotlib.axes._subplots.AxesSubplot at 0x7efee5b71470>"
      ]
     },
     "execution_count": 6,
     "metadata": {},
     "output_type": "execute_result"
    },
    {
     "data": {
      "image/png": "[encoded data removed]",
      "text/plain": [
       "<Figure size 432x288 with 1 Axes>"
      ]
     },
     "metadata": {
      "needs_background": "light"
     },
     "output_type": "display_data"
    }
   ],
   "source": [
    "print(mtrain_h['melanoma'].value_counts())\n",
    "print(mtrain_h['keratosis'].value_counts())\n",
    "\n",
    "mtrain_h['classes'].value_counts().plot(kind='barh')\n",
    "mtrain['classes'].value_counts().plot(kind='barh')"
   ]
  }
 ],
 "metadata": {
  "kernelspec": {
   "display_name": "Python 3",
   "language": "python",
   "name": "python3"
  },
  "language_info": {
   "codemirror_mode": {
    "name": "ipython",
    "version": 3
   },
   "file_extension": ".py",
   "mimetype": "text/x-python",
   "name": "python",
   "nbconvert_exporter": "python",
   "pygments_lexer": "ipython3",
   "version": "3.6.5"
  }
 },
 "nbformat": 4,
 "nbformat_minor": 2
}
