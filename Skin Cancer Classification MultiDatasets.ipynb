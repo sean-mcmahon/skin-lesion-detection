{
 "cells": [
  {
   "cell_type": "code",
   "execution_count": 1,
   "metadata": {},
   "outputs": [
    {
     "name": "stderr",
     "output_type": "stream",
     "text": [
      "/home/sean/anaconda3/envs/fastai/lib/python3.6/site-packages/sklearn/ensemble/weight_boosting.py:29: DeprecationWarning: numpy.core.umath_tests is an internal NumPy module and should not be imported. It will be removed in a future NumPy release.\n",
      "  from numpy.core.umath_tests import inner1d\n"
     ]
    },
    {
     "data": {
      "text/plain": [
       "(True, True)"
      ]
     },
     "execution_count": 1,
     "metadata": {},
     "output_type": "execute_result"
    }
   ],
   "source": [
    "%reload_ext autoreload\n",
    "%autoreload 2\n",
    "%matplotlib inline\n",
    "from classifier import *\n",
    "torch.cuda.is_available(), torch.backends.cudnn.enabled"
   ]
  },
  {
   "cell_type": "code",
   "execution_count": 2,
   "metadata": {},
   "outputs": [
    {
     "name": "stdout",
     "output_type": "stream",
     "text": [
      "\u001b[0m\u001b[01;34mdermofit\u001b[0m/             \u001b[01;34mph2dataset\u001b[0m/                      \u001b[01;32mtrain_multi_mel.csv\u001b[0m*\r\n",
      "\u001b[01;34mISIC\u001b[0m/                 \u001b[01;32mtest_isic17_dermofitLabels.csv\u001b[0m*  \u001b[01;32mtrain_multi_raw.csv\u001b[0m*\r\n",
      "\u001b[01;32misic18_p3_test_data\u001b[0m*  \u001b[01;34mtmp\u001b[0m/                             \u001b[01;32mtrain_multi_sk.csv\u001b[0m*\r\n",
      "\u001b[01;34misic_archive\u001b[0m/         \u001b[01;32mtrain_dermofit_isic17.csv\u001b[0m*       \u001b[01;32mval_isic17.csv\u001b[0m*\r\n",
      "\u001b[01;34mmodels\u001b[0m/               \u001b[01;32mtrain_multi.csv\u001b[0m*\r\n"
     ]
    }
   ],
   "source": [
    "PATH = Path('/home/sean/hpc-home/skin_cancer/')\n",
    "test_folder = 'ISIC/ISIC-2017_Test_v2_Data_Classification/'\n",
    "test_csv = PATH / 'ISIC/test_isic17.csv'\n",
    "\n",
    "test_mel_p = PATH / 'ISIC/test_mel_17.csv'\n",
    "test_ker_p = PATH / 'ISIC/test_ker_17.csv'\n",
    "test_all_p = PATH / 'ISIC/test_all_17.csv'\n",
    "test_raw_p = PATH / 'ISIC/test_raw_17.csv'\n",
    "\n",
    "train_skp = PATH / 'train_multi_sk.csv'\n",
    "train_melp = PATH / 'train_multi_mel.csv'\n",
    "train_all = PATH / 'train_multi.csv'\n",
    "train_raw = PATH / 'train_multi_raw.csv'\n",
    "\n",
    "%ls $PATH"
   ]
  },
  {
   "cell_type": "code",
   "execution_count": null,
   "metadata": {},
   "outputs": [],
   "source": [
    "def add_class_col(df, cats=['melanoma', 'keratosis']):\n",
    "    df['class'] = np.nan\n",
    "    for c in cats:\n",
    "        print('adding %s to class' % c)\n",
    "        df['class'].iloc[df[c].nonzero()[0]] = c\n",
    "    df['class'].fillna('nevus', inplace=True)\n",
    "    df.head()\n",
    "    return df"
   ]
  },
  {
   "cell_type": "code",
   "execution_count": 5,
   "metadata": {},
   "outputs": [
    {
     "data": {
      "text/html": [
       "<div>\n",
       "<style scoped>\n",
       "    .dataframe tbody tr th:only-of-type {\n",
       "        vertical-align: middle;\n",
       "    }\n",
       "\n",
       "    .dataframe tbody tr th {\n",
       "        vertical-align: top;\n",
       "    }\n",
       "\n",
       "    .dataframe thead th {\n",
       "        text-align: right;\n",
       "    }\n",
       "</style>\n",
       "<table border=\"1\" class=\"dataframe\">\n",
       "  <thead>\n",
       "    <tr style=\"text-align: right;\">\n",
       "      <th></th>\n",
       "      <th>image</th>\n",
       "      <th>case</th>\n",
       "      <th>type</th>\n",
       "      <th>age</th>\n",
       "      <th>has_age</th>\n",
       "      <th>sex</th>\n",
       "      <th>has_sex</th>\n",
       "      <th>melanoma</th>\n",
       "      <th>keratosis</th>\n",
       "      <th>schedule</th>\n",
       "      <th>weight</th>\n",
       "      <th>dataset</th>\n",
       "    </tr>\n",
       "  </thead>\n",
       "  <tbody>\n",
       "    <tr>\n",
       "      <th>0</th>\n",
       "      <td>adl379</td>\n",
       "      <td>4A378379</td>\n",
       "      <td>d</td>\n",
       "      <td>45</td>\n",
       "      <td>1</td>\n",
       "      <td>female</td>\n",
       "      <td>1</td>\n",
       "      <td>0</td>\n",
       "      <td>0</td>\n",
       "      <td>2</td>\n",
       "      <td>3</td>\n",
       "      <td>atlas</td>\n",
       "    </tr>\n",
       "    <tr>\n",
       "      <th>1</th>\n",
       "      <td>ael455</td>\n",
       "      <td>4A454455</td>\n",
       "      <td>d</td>\n",
       "      <td>57</td>\n",
       "      <td>1</td>\n",
       "      <td>male</td>\n",
       "      <td>1</td>\n",
       "      <td>0</td>\n",
       "      <td>0</td>\n",
       "      <td>2</td>\n",
       "      <td>3</td>\n",
       "      <td>atlas</td>\n",
       "    </tr>\n",
       "    <tr>\n",
       "      <th>2</th>\n",
       "      <td>ael469</td>\n",
       "      <td>4A468469</td>\n",
       "      <td>d</td>\n",
       "      <td>68</td>\n",
       "      <td>1</td>\n",
       "      <td>female</td>\n",
       "      <td>1</td>\n",
       "      <td>0</td>\n",
       "      <td>0</td>\n",
       "      <td>1</td>\n",
       "      <td>3</td>\n",
       "      <td>atlas</td>\n",
       "    </tr>\n",
       "    <tr>\n",
       "      <th>3</th>\n",
       "      <td>ael502</td>\n",
       "      <td>4A501502</td>\n",
       "      <td>d</td>\n",
       "      <td>40</td>\n",
       "      <td>1</td>\n",
       "      <td>female</td>\n",
       "      <td>1</td>\n",
       "      <td>0</td>\n",
       "      <td>0</td>\n",
       "      <td>2</td>\n",
       "      <td>3</td>\n",
       "      <td>atlas</td>\n",
       "    </tr>\n",
       "    <tr>\n",
       "      <th>4</th>\n",
       "      <td>ael505</td>\n",
       "      <td>4A505505</td>\n",
       "      <td>d</td>\n",
       "      <td>65</td>\n",
       "      <td>1</td>\n",
       "      <td>male</td>\n",
       "      <td>1</td>\n",
       "      <td>0</td>\n",
       "      <td>0</td>\n",
       "      <td>2</td>\n",
       "      <td>3</td>\n",
       "      <td>atlas</td>\n",
       "    </tr>\n",
       "  </tbody>\n",
       "</table>\n",
       "</div>"
      ],
      "text/plain": [
       "    image      case type age  has_age     sex  has_sex  melanoma  keratosis  \\\n",
       "0  adl379  4A378379    d  45        1  female        1         0          0   \n",
       "1  ael455  4A454455    d  57        1    male        1         0          0   \n",
       "2  ael469  4A468469    d  68        1  female        1         0          0   \n",
       "3  ael502  4A501502    d  40        1  female        1         0          0   \n",
       "4  ael505  4A505505    d  65        1    male        1         0          0   \n",
       "\n",
       "   schedule  weight dataset  \n",
       "0         2       3   atlas  \n",
       "1         2       3   atlas  \n",
       "2         1       3   atlas  \n",
       "3         2       3   atlas  \n",
       "4         2       3   atlas  "
      ]
     },
     "execution_count": 5,
     "metadata": {},
     "output_type": "execute_result"
    }
   ],
   "source": [
    "dep = PATH / 'isic_archive/recod_titans_sub/data/deploy2017.txt'\n",
    "rec = pd.read_csv(dep)\n",
    "rec.columns = [ss.strip() for ss in rec.columns]\n",
    "rec = rec.apply(lambda x: x.str.strip() if x.dtype == \"object\" else x)\n",
    "rec.head()"
   ]
  },
  {
   "cell_type": "code",
   "execution_count": 8,
   "metadata": {},
   "outputs": [
    {
     "data": {
      "text/plain": [
       "isic         4045\n",
       "challenge    2000\n",
       "atlas        1988\n",
       "dermofit     1300\n",
       "irma          187\n",
       "ph2           120\n",
       "Name: dataset, dtype: int64"
      ]
     },
     "execution_count": 8,
     "metadata": {},
     "output_type": "execute_result"
    }
   ],
   "source": [
    "rec['dataset'].value_counts()"
   ]
  },
  {
   "cell_type": "code",
   "execution_count": 3,
   "metadata": {},
   "outputs": [
    {
     "data": {
      "text/plain": [
       "nevus                   393\n",
       "melanoma                117\n",
       "seborrheic_keratosis     90\n",
       "Name: classes, dtype: int64"
      ]
     },
     "execution_count": 3,
     "metadata": {},
     "output_type": "execute_result"
    }
   ],
   "source": [
    "test_df = pd.read_csv(test_csv)\n",
    "test_df['classes'].value_counts()"
   ]
  },
  {
   "cell_type": "code",
   "execution_count": 4,
   "metadata": {},
   "outputs": [
    {
     "data": {
      "text/html": [
       "<div>\n",
       "<style scoped>\n",
       "    .dataframe tbody tr th:only-of-type {\n",
       "        vertical-align: middle;\n",
       "    }\n",
       "\n",
       "    .dataframe tbody tr th {\n",
       "        vertical-align: top;\n",
       "    }\n",
       "\n",
       "    .dataframe thead th {\n",
       "        text-align: right;\n",
       "    }\n",
       "</style>\n",
       "<table border=\"1\" class=\"dataframe\">\n",
       "  <thead>\n",
       "    <tr style=\"text-align: right;\">\n",
       "      <th></th>\n",
       "      <th>classes</th>\n",
       "      <th>melanoma</th>\n",
       "      <th>keratosis</th>\n",
       "    </tr>\n",
       "    <tr>\n",
       "      <th>image_id</th>\n",
       "      <th></th>\n",
       "      <th></th>\n",
       "      <th></th>\n",
       "    </tr>\n",
       "  </thead>\n",
       "  <tbody>\n",
       "    <tr>\n",
       "      <th>ISIC/ISIC-2017_Test_v2_Data/ISIC_0012086.jpg</th>\n",
       "      <td>seborrheic_keratosis</td>\n",
       "      <td>0</td>\n",
       "      <td>0</td>\n",
       "    </tr>\n",
       "    <tr>\n",
       "      <th>ISIC/ISIC-2017_Test_v2_Data/ISIC_0012092.jpg</th>\n",
       "      <td>nevus</td>\n",
       "      <td>0</td>\n",
       "      <td>0</td>\n",
       "    </tr>\n",
       "    <tr>\n",
       "      <th>ISIC/ISIC-2017_Test_v2_Data/ISIC_0012095.jpg</th>\n",
       "      <td>nevus</td>\n",
       "      <td>0</td>\n",
       "      <td>0</td>\n",
       "    </tr>\n",
       "    <tr>\n",
       "      <th>ISIC/ISIC-2017_Test_v2_Data/ISIC_0012134.jpg</th>\n",
       "      <td>seborrheic_keratosis</td>\n",
       "      <td>0</td>\n",
       "      <td>0</td>\n",
       "    </tr>\n",
       "    <tr>\n",
       "      <th>ISIC/ISIC-2017_Test_v2_Data/ISIC_0012136.jpg</th>\n",
       "      <td>seborrheic_keratosis</td>\n",
       "      <td>0</td>\n",
       "      <td>0</td>\n",
       "    </tr>\n",
       "  </tbody>\n",
       "</table>\n",
       "</div>"
      ],
      "text/plain": [
       "                                                           classes  melanoma  \\\n",
       "image_id                                                                       \n",
       "ISIC/ISIC-2017_Test_v2_Data/ISIC_0012086.jpg  seborrheic_keratosis         0   \n",
       "ISIC/ISIC-2017_Test_v2_Data/ISIC_0012092.jpg                 nevus         0   \n",
       "ISIC/ISIC-2017_Test_v2_Data/ISIC_0012095.jpg                 nevus         0   \n",
       "ISIC/ISIC-2017_Test_v2_Data/ISIC_0012134.jpg  seborrheic_keratosis         0   \n",
       "ISIC/ISIC-2017_Test_v2_Data/ISIC_0012136.jpg  seborrheic_keratosis         0   \n",
       "\n",
       "                                              keratosis  \n",
       "image_id                                                 \n",
       "ISIC/ISIC-2017_Test_v2_Data/ISIC_0012086.jpg          0  \n",
       "ISIC/ISIC-2017_Test_v2_Data/ISIC_0012092.jpg          0  \n",
       "ISIC/ISIC-2017_Test_v2_Data/ISIC_0012095.jpg          0  \n",
       "ISIC/ISIC-2017_Test_v2_Data/ISIC_0012134.jpg          0  \n",
       "ISIC/ISIC-2017_Test_v2_Data/ISIC_0012136.jpg          0  "
      ]
     },
     "execution_count": 4,
     "metadata": {},
     "output_type": "execute_result"
    }
   ],
   "source": [
    "test_df['melanoma'] = (test_df['classes'] == 'melanoma').astype(int)\n",
    "test_df['keratosis'] = (test_df['classes'] == 'keratosis').astype(int)\n",
    "test_df.index = 'ISIC/ISIC-2017_Test_v2_Data/' + test_df['image_id'] + '.jpg'\n",
    "test_df.drop(columns=['image_id'], inplace=True)\n",
    "test_df.head()"
   ]
  },
  {
   "cell_type": "code",
   "execution_count": 126,
   "metadata": {},
   "outputs": [],
   "source": [
    "test_df.to_csv(test_raw_p)\n",
    "test_df_mel = test_df.drop(columns=['classes', 'keratosis'])\n",
    "test_df_ker = test_df.drop(columns=['classes', 'melanoma'])\n",
    "test_df_all = test_df.drop(columns=['keratosis', 'melanoma'])\n",
    "\n",
    "test_df_mel.to_csv(test_mel_p)\n",
    "test_df_ker.to_csv(test_ker_p)\n",
    "test_df_all.to_csv(test_all_p)"
   ]
  },
  {
   "cell_type": "code",
   "execution_count": 141,
   "metadata": {},
   "outputs": [
    {
     "data": {
      "text/plain": [
       "nevus                   393\n",
       "melanoma                117\n",
       "seborrheic_keratosis     90\n",
       "Name: classes, dtype: int64"
      ]
     },
     "execution_count": 141,
     "metadata": {},
     "output_type": "execute_result"
    },
    {
     "data": {
      "image/png": "[encoded data removed]",
      "text/plain": [
       "<Figure size 432x288 with 1 Axes>"
      ]
     },
     "metadata": {
      "needs_background": "light"
     },
     "output_type": "display_data"
    }
   ],
   "source": [
    "test_df['classes'].value_counts().plot(kind='barh')\n",
    "test_df['classes'].value_counts()"
   ]
  },
  {
   "cell_type": "code",
   "execution_count": 124,
   "metadata": {},
   "outputs": [
    {
     "data": {
      "text/plain": [
       "<matplotlib.axes._subplots.AxesSubplot at 0x7f4cb00a3198>"
      ]
     },
     "execution_count": 124,
     "metadata": {},
     "output_type": "execute_result"
    },
    {
     "data": {
      "image/png": "[encoded data removed]",
      "text/plain": [
       "<Figure size 432x288 with 1 Axes>"
      ]
     },
     "metadata": {
      "needs_background": "light"
     },
     "output_type": "display_data"
    }
   ],
   "source": [
    "test_df_mel['melanoma'].value_counts().plot(kind='barh')"
   ]
  },
  {
   "cell_type": "markdown",
   "metadata": {},
   "source": [
    "### Isic Archive data labels"
   ]
  },
  {
   "cell_type": "code",
   "execution_count": 6,
   "metadata": {},
   "outputs": [
    {
     "data": {
      "text/html": [
       "<div>\n",
       "<style scoped>\n",
       "    .dataframe tbody tr th:only-of-type {\n",
       "        vertical-align: middle;\n",
       "    }\n",
       "\n",
       "    .dataframe tbody tr th {\n",
       "        vertical-align: top;\n",
       "    }\n",
       "\n",
       "    .dataframe thead th {\n",
       "        text-align: right;\n",
       "    }\n",
       "</style>\n",
       "<table border=\"1\" class=\"dataframe\">\n",
       "  <thead>\n",
       "    <tr style=\"text-align: right;\">\n",
       "      <th></th>\n",
       "      <th>melanoma</th>\n",
       "      <th>keratosis</th>\n",
       "    </tr>\n",
       "    <tr>\n",
       "      <th>image</th>\n",
       "      <th></th>\n",
       "      <th></th>\n",
       "    </tr>\n",
       "  </thead>\n",
       "  <tbody>\n",
       "    <tr>\n",
       "      <th>isic_archive/images/5436e3acbae478396759f0e5.jpg</th>\n",
       "      <td>0</td>\n",
       "      <td>0</td>\n",
       "    </tr>\n",
       "    <tr>\n",
       "      <th>isic_archive/images/5593f47b9fc3c131551460fc.jpg</th>\n",
       "      <td>0</td>\n",
       "      <td>0</td>\n",
       "    </tr>\n",
       "    <tr>\n",
       "      <th>isic_archive/images/5436e3f4bae478396759f4a6.jpg</th>\n",
       "      <td>0</td>\n",
       "      <td>0</td>\n",
       "    </tr>\n",
       "    <tr>\n",
       "      <th>isic_archive/images/558d637cbae47801cf734dbc.jpg</th>\n",
       "      <td>1</td>\n",
       "      <td>0</td>\n",
       "    </tr>\n",
       "    <tr>\n",
       "      <th>isic_archive/images/558d60e8bae47801cf7345b2.jpg</th>\n",
       "      <td>1</td>\n",
       "      <td>0</td>\n",
       "    </tr>\n",
       "  </tbody>\n",
       "</table>\n",
       "</div>"
      ],
      "text/plain": [
       "                                                  melanoma  keratosis\n",
       "image                                                                \n",
       "isic_archive/images/5436e3acbae478396759f0e5.jpg         0          0\n",
       "isic_archive/images/5593f47b9fc3c131551460fc.jpg         0          0\n",
       "isic_archive/images/5436e3f4bae478396759f4a6.jpg         0          0\n",
       "isic_archive/images/558d637cbae47801cf734dbc.jpg         1          0\n",
       "isic_archive/images/558d60e8bae47801cf7345b2.jpg         1          0"
      ]
     },
     "execution_count": 6,
     "metadata": {},
     "output_type": "execute_result"
    }
   ],
   "source": [
    "def getds(data): return rec.loc[rec['dataset'] == data][['image', 'melanoma', 'keratosis']]\n",
    "ia = getds('isic')\n",
    "ia = ia[['melanoma', 'keratosis']].set_index('isic_archive/images/' + ia['image'] + '.jpg')\n",
    "ia.head()"
   ]
  },
  {
   "cell_type": "code",
   "execution_count": 16,
   "metadata": {},
   "outputs": [],
   "source": [
    "iap = PATH / 'isic_archive/images'\n",
    "ims = [iap / i for i in iap.glob('*.jpg')]"
   ]
  },
  {
   "cell_type": "code",
   "execution_count": 18,
   "metadata": {},
   "outputs": [],
   "source": [
    "# for i in ims:\n",
    "#     bn = i.with_suffix('').name\n",
    "#     if bn not in ia['image'].tolist():\n",
    "#         print(f'image not in labels - \"{bn}\"')"
   ]
  },
  {
   "cell_type": "markdown",
   "metadata": {},
   "source": [
    "### PH2 Data Labels"
   ]
  },
  {
   "cell_type": "code",
   "execution_count": 19,
   "metadata": {},
   "outputs": [
    {
     "data": {
      "text/html": [
       "<div>\n",
       "<style scoped>\n",
       "    .dataframe tbody tr th:only-of-type {\n",
       "        vertical-align: middle;\n",
       "    }\n",
       "\n",
       "    .dataframe tbody tr th {\n",
       "        vertical-align: top;\n",
       "    }\n",
       "\n",
       "    .dataframe thead th {\n",
       "        text-align: right;\n",
       "    }\n",
       "</style>\n",
       "<table border=\"1\" class=\"dataframe\">\n",
       "  <thead>\n",
       "    <tr style=\"text-align: right;\">\n",
       "      <th></th>\n",
       "      <th>image</th>\n",
       "      <th>melanoma</th>\n",
       "      <th>keratosis</th>\n",
       "    </tr>\n",
       "  </thead>\n",
       "  <tbody>\n",
       "    <tr>\n",
       "      <th>8220</th>\n",
       "      <td>IMD003</td>\n",
       "      <td>0</td>\n",
       "      <td>0</td>\n",
       "    </tr>\n",
       "    <tr>\n",
       "      <th>8221</th>\n",
       "      <td>IMD009</td>\n",
       "      <td>0</td>\n",
       "      <td>0</td>\n",
       "    </tr>\n",
       "    <tr>\n",
       "      <th>8222</th>\n",
       "      <td>IMD016</td>\n",
       "      <td>0</td>\n",
       "      <td>0</td>\n",
       "    </tr>\n",
       "    <tr>\n",
       "      <th>8223</th>\n",
       "      <td>IMD022</td>\n",
       "      <td>0</td>\n",
       "      <td>0</td>\n",
       "    </tr>\n",
       "    <tr>\n",
       "      <th>8224</th>\n",
       "      <td>IMD024</td>\n",
       "      <td>0</td>\n",
       "      <td>0</td>\n",
       "    </tr>\n",
       "  </tbody>\n",
       "</table>\n",
       "</div>"
      ],
      "text/plain": [
       "       image  melanoma  keratosis\n",
       "8220  IMD003         0          0\n",
       "8221  IMD009         0          0\n",
       "8222  IMD016         0          0\n",
       "8223  IMD022         0          0\n",
       "8224  IMD024         0          0"
      ]
     },
     "execution_count": 19,
     "metadata": {},
     "output_type": "execute_result"
    }
   ],
   "source": [
    "pdf = getds('ph2')\n",
    "pdf.head()"
   ]
  },
  {
   "cell_type": "code",
   "execution_count": 20,
   "metadata": {},
   "outputs": [
    {
     "data": {
      "text/plain": [
       "True"
      ]
     },
     "execution_count": 20,
     "metadata": {},
     "output_type": "execute_result"
    }
   ],
   "source": [
    "pims = pdf['image'].tolist()\n",
    "pims = ['ph2dataset/PH2_Dataset_images/'+i+f'/{i}_Dermoscopic_Image/{i}.bmp' for i in pims]\n",
    "all([(PATH / ss).exists() for ss in pims])"
   ]
  },
  {
   "cell_type": "code",
   "execution_count": 21,
   "metadata": {},
   "outputs": [
    {
     "data": {
      "text/html": [
       "<div>\n",
       "<style scoped>\n",
       "    .dataframe tbody tr th:only-of-type {\n",
       "        vertical-align: middle;\n",
       "    }\n",
       "\n",
       "    .dataframe tbody tr th {\n",
       "        vertical-align: top;\n",
       "    }\n",
       "\n",
       "    .dataframe thead th {\n",
       "        text-align: right;\n",
       "    }\n",
       "</style>\n",
       "<table border=\"1\" class=\"dataframe\">\n",
       "  <thead>\n",
       "    <tr style=\"text-align: right;\">\n",
       "      <th></th>\n",
       "      <th>melanoma</th>\n",
       "      <th>keratosis</th>\n",
       "    </tr>\n",
       "  </thead>\n",
       "  <tbody>\n",
       "    <tr>\n",
       "      <th>ph2dataset/PH2_Dataset_images/IMD003/IMD003_Dermoscopic_Image/IMD003.bmp</th>\n",
       "      <td>0</td>\n",
       "      <td>0</td>\n",
       "    </tr>\n",
       "    <tr>\n",
       "      <th>ph2dataset/PH2_Dataset_images/IMD009/IMD009_Dermoscopic_Image/IMD009.bmp</th>\n",
       "      <td>0</td>\n",
       "      <td>0</td>\n",
       "    </tr>\n",
       "    <tr>\n",
       "      <th>ph2dataset/PH2_Dataset_images/IMD016/IMD016_Dermoscopic_Image/IMD016.bmp</th>\n",
       "      <td>0</td>\n",
       "      <td>0</td>\n",
       "    </tr>\n",
       "    <tr>\n",
       "      <th>ph2dataset/PH2_Dataset_images/IMD022/IMD022_Dermoscopic_Image/IMD022.bmp</th>\n",
       "      <td>0</td>\n",
       "      <td>0</td>\n",
       "    </tr>\n",
       "    <tr>\n",
       "      <th>ph2dataset/PH2_Dataset_images/IMD024/IMD024_Dermoscopic_Image/IMD024.bmp</th>\n",
       "      <td>0</td>\n",
       "      <td>0</td>\n",
       "    </tr>\n",
       "  </tbody>\n",
       "</table>\n",
       "</div>"
      ],
      "text/plain": [
       "                                                    melanoma  keratosis\n",
       "ph2dataset/PH2_Dataset_images/IMD003/IMD003_Der...         0          0\n",
       "ph2dataset/PH2_Dataset_images/IMD009/IMD009_Der...         0          0\n",
       "ph2dataset/PH2_Dataset_images/IMD016/IMD016_Der...         0          0\n",
       "ph2dataset/PH2_Dataset_images/IMD022/IMD022_Der...         0          0\n",
       "ph2dataset/PH2_Dataset_images/IMD024/IMD024_Der...         0          0"
      ]
     },
     "execution_count": 21,
     "metadata": {},
     "output_type": "execute_result"
    }
   ],
   "source": [
    "pdf.index = pims\n",
    "pdf = pdf[['melanoma', 'keratosis']]\n",
    "pdf.head()"
   ]
  },
  {
   "cell_type": "markdown",
   "metadata": {},
   "source": [
    "### Dermofit Data Labels"
   ]
  },
  {
   "cell_type": "code",
   "execution_count": 22,
   "metadata": {},
   "outputs": [
    {
     "data": {
      "text/html": [
       "<div>\n",
       "<style scoped>\n",
       "    .dataframe tbody tr th:only-of-type {\n",
       "        vertical-align: middle;\n",
       "    }\n",
       "\n",
       "    .dataframe tbody tr th {\n",
       "        vertical-align: top;\n",
       "    }\n",
       "\n",
       "    .dataframe thead th {\n",
       "        text-align: right;\n",
       "    }\n",
       "</style>\n",
       "<table border=\"1\" class=\"dataframe\">\n",
       "  <thead>\n",
       "    <tr style=\"text-align: right;\">\n",
       "      <th></th>\n",
       "      <th>image</th>\n",
       "      <th>melanoma</th>\n",
       "      <th>keratosis</th>\n",
       "    </tr>\n",
       "  </thead>\n",
       "  <tbody>\n",
       "    <tr>\n",
       "      <th>8340</th>\n",
       "      <td>D204a</td>\n",
       "      <td>0</td>\n",
       "      <td>0</td>\n",
       "    </tr>\n",
       "    <tr>\n",
       "      <th>8341</th>\n",
       "      <td>D222</td>\n",
       "      <td>0</td>\n",
       "      <td>0</td>\n",
       "    </tr>\n",
       "    <tr>\n",
       "      <th>8342</th>\n",
       "      <td>D226b</td>\n",
       "      <td>0</td>\n",
       "      <td>0</td>\n",
       "    </tr>\n",
       "    <tr>\n",
       "      <th>8343</th>\n",
       "      <td>D226c</td>\n",
       "      <td>0</td>\n",
       "      <td>0</td>\n",
       "    </tr>\n",
       "    <tr>\n",
       "      <th>8344</th>\n",
       "      <td>D227</td>\n",
       "      <td>0</td>\n",
       "      <td>0</td>\n",
       "    </tr>\n",
       "  </tbody>\n",
       "</table>\n",
       "</div>"
      ],
      "text/plain": [
       "      image  melanoma  keratosis\n",
       "8340  D204a         0          0\n",
       "8341   D222         0          0\n",
       "8342  D226b         0          0\n",
       "8343  D226c         0          0\n",
       "8344   D227         0          0"
      ]
     },
     "execution_count": 22,
     "metadata": {},
     "output_type": "execute_result"
    }
   ],
   "source": [
    "ddf = getds('dermofit')\n",
    "ddf.head()"
   ]
  },
  {
   "cell_type": "markdown",
   "metadata": {},
   "source": [
    "To get the paths.\n",
    "\n",
    "1 Could get all the image paths with os.walk and match to the image id in the DF. \n",
    "\n",
    "2 Could lookup the image id in a dermofit text file to find it. \n",
    "\n",
    "3 Generate the labels myself for Mel vs Ker?"
   ]
  },
  {
   "cell_type": "code",
   "execution_count": 23,
   "metadata": {},
   "outputs": [
    {
     "data": {
      "text/html": [
       "<div>\n",
       "<style scoped>\n",
       "    .dataframe tbody tr th:only-of-type {\n",
       "        vertical-align: middle;\n",
       "    }\n",
       "\n",
       "    .dataframe tbody tr th {\n",
       "        vertical-align: top;\n",
       "    }\n",
       "\n",
       "    .dataframe thead th {\n",
       "        text-align: right;\n",
       "    }\n",
       "</style>\n",
       "<table border=\"1\" class=\"dataframe\">\n",
       "  <thead>\n",
       "    <tr style=\"text-align: right;\">\n",
       "      <th></th>\n",
       "      <th>image</th>\n",
       "      <th>class</th>\n",
       "    </tr>\n",
       "  </thead>\n",
       "  <tbody>\n",
       "    <tr>\n",
       "      <th>0</th>\n",
       "      <td>ALLBCC/D204a/D204a</td>\n",
       "      <td>BCC</td>\n",
       "    </tr>\n",
       "    <tr>\n",
       "      <th>1</th>\n",
       "      <td>ALLSCC/D222/D222</td>\n",
       "      <td>SCC</td>\n",
       "    </tr>\n",
       "    <tr>\n",
       "      <th>2</th>\n",
       "      <td>ALLML/D226b/D226b</td>\n",
       "      <td>ML</td>\n",
       "    </tr>\n",
       "    <tr>\n",
       "      <th>3</th>\n",
       "      <td>ALLML/D226c/D226c</td>\n",
       "      <td>ML</td>\n",
       "    </tr>\n",
       "    <tr>\n",
       "      <th>4</th>\n",
       "      <td>ALLML/D227/D227</td>\n",
       "      <td>ML</td>\n",
       "    </tr>\n",
       "  </tbody>\n",
       "</table>\n",
       "</div>"
      ],
      "text/plain": [
       "                image class\n",
       "0  ALLBCC/D204a/D204a   BCC\n",
       "1    ALLSCC/D222/D222   SCC\n",
       "2   ALLML/D226b/D226b    ML\n",
       "3   ALLML/D226c/D226c    ML\n",
       "4     ALLML/D227/D227    ML"
      ]
     },
     "execution_count": 23,
     "metadata": {},
     "output_type": "execute_result"
    }
   ],
   "source": [
    "ddf_t = pd.read_csv(PATH / 'dermofit/train.csv')\n",
    "ddf_t.columns = ['image', 'class']\n",
    "ddf_t.head()"
   ]
  },
  {
   "cell_type": "code",
   "execution_count": 24,
   "metadata": {},
   "outputs": [
    {
     "data": {
      "text/plain": [
       "True"
      ]
     },
     "execution_count": 24,
     "metadata": {},
     "output_type": "execute_result"
    }
   ],
   "source": [
    "ddf_ids = ddf['image'].tolist()\n",
    "ddf_pths = ddf_t['image'].tolist()\n",
    "[os.path.basename(ss) for ss in ddf_pths] == ddf_ids"
   ]
  },
  {
   "cell_type": "code",
   "execution_count": 25,
   "metadata": {},
   "outputs": [
    {
     "data": {
      "text/plain": [
       "True"
      ]
     },
     "execution_count": 25,
     "metadata": {},
     "output_type": "execute_result"
    }
   ],
   "source": [
    "dermfit_image_id = ['dermofit/' + i + '.png' for i in ddf_pths]\n",
    "all([(PATH / i).exists() for i in dermfit_image_id])"
   ]
  },
  {
   "cell_type": "code",
   "execution_count": 26,
   "metadata": {},
   "outputs": [
    {
     "data": {
      "text/html": [
       "<div>\n",
       "<style scoped>\n",
       "    .dataframe tbody tr th:only-of-type {\n",
       "        vertical-align: middle;\n",
       "    }\n",
       "\n",
       "    .dataframe tbody tr th {\n",
       "        vertical-align: top;\n",
       "    }\n",
       "\n",
       "    .dataframe thead th {\n",
       "        text-align: right;\n",
       "    }\n",
       "</style>\n",
       "<table border=\"1\" class=\"dataframe\">\n",
       "  <thead>\n",
       "    <tr style=\"text-align: right;\">\n",
       "      <th></th>\n",
       "      <th>melanoma</th>\n",
       "      <th>keratosis</th>\n",
       "    </tr>\n",
       "  </thead>\n",
       "  <tbody>\n",
       "    <tr>\n",
       "      <th>dermofit/ALLBCC/D204a/D204a.png</th>\n",
       "      <td>0</td>\n",
       "      <td>0</td>\n",
       "    </tr>\n",
       "    <tr>\n",
       "      <th>dermofit/ALLSCC/D222/D222.png</th>\n",
       "      <td>0</td>\n",
       "      <td>0</td>\n",
       "    </tr>\n",
       "    <tr>\n",
       "      <th>dermofit/ALLML/D226b/D226b.png</th>\n",
       "      <td>0</td>\n",
       "      <td>0</td>\n",
       "    </tr>\n",
       "    <tr>\n",
       "      <th>dermofit/ALLML/D226c/D226c.png</th>\n",
       "      <td>0</td>\n",
       "      <td>0</td>\n",
       "    </tr>\n",
       "    <tr>\n",
       "      <th>dermofit/ALLML/D227/D227.png</th>\n",
       "      <td>0</td>\n",
       "      <td>0</td>\n",
       "    </tr>\n",
       "  </tbody>\n",
       "</table>\n",
       "</div>"
      ],
      "text/plain": [
       "                                 melanoma  keratosis\n",
       "dermofit/ALLBCC/D204a/D204a.png         0          0\n",
       "dermofit/ALLSCC/D222/D222.png           0          0\n",
       "dermofit/ALLML/D226b/D226b.png          0          0\n",
       "dermofit/ALLML/D226c/D226c.png          0          0\n",
       "dermofit/ALLML/D227/D227.png            0          0"
      ]
     },
     "execution_count": 26,
     "metadata": {},
     "output_type": "execute_result"
    }
   ],
   "source": [
    "ddf = ddf[['melanoma', 'keratosis']]\n",
    "ddf.index = dermfit_image_id\n",
    "ddf.head()"
   ]
  },
  {
   "cell_type": "markdown",
   "metadata": {},
   "source": [
    "### ISIC 2017 Training Data"
   ]
  },
  {
   "cell_type": "code",
   "execution_count": 28,
   "metadata": {},
   "outputs": [
    {
     "data": {
      "text/html": [
       "<div>\n",
       "<style scoped>\n",
       "    .dataframe tbody tr th:only-of-type {\n",
       "        vertical-align: middle;\n",
       "    }\n",
       "\n",
       "    .dataframe tbody tr th {\n",
       "        vertical-align: top;\n",
       "    }\n",
       "\n",
       "    .dataframe thead th {\n",
       "        text-align: right;\n",
       "    }\n",
       "</style>\n",
       "<table border=\"1\" class=\"dataframe\">\n",
       "  <thead>\n",
       "    <tr style=\"text-align: right;\">\n",
       "      <th></th>\n",
       "      <th>melanoma</th>\n",
       "      <th>keratosis</th>\n",
       "    </tr>\n",
       "    <tr>\n",
       "      <th>image</th>\n",
       "      <th></th>\n",
       "      <th></th>\n",
       "    </tr>\n",
       "  </thead>\n",
       "  <tbody>\n",
       "    <tr>\n",
       "      <th>ISIC/ISIC-2017_Training_Data/ISIC_0000000.jpg</th>\n",
       "      <td>0</td>\n",
       "      <td>0</td>\n",
       "    </tr>\n",
       "    <tr>\n",
       "      <th>ISIC/ISIC-2017_Training_Data/ISIC_0000001.jpg</th>\n",
       "      <td>0</td>\n",
       "      <td>0</td>\n",
       "    </tr>\n",
       "    <tr>\n",
       "      <th>ISIC/ISIC-2017_Training_Data/ISIC_0000002.jpg</th>\n",
       "      <td>1</td>\n",
       "      <td>0</td>\n",
       "    </tr>\n",
       "    <tr>\n",
       "      <th>ISIC/ISIC-2017_Training_Data/ISIC_0000003.jpg</th>\n",
       "      <td>0</td>\n",
       "      <td>0</td>\n",
       "    </tr>\n",
       "    <tr>\n",
       "      <th>ISIC/ISIC-2017_Training_Data/ISIC_0000004.jpg</th>\n",
       "      <td>1</td>\n",
       "      <td>0</td>\n",
       "    </tr>\n",
       "  </tbody>\n",
       "</table>\n",
       "</div>"
      ],
      "text/plain": [
       "                                               melanoma  keratosis\n",
       "image                                                             \n",
       "ISIC/ISIC-2017_Training_Data/ISIC_0000000.jpg         0          0\n",
       "ISIC/ISIC-2017_Training_Data/ISIC_0000001.jpg         0          0\n",
       "ISIC/ISIC-2017_Training_Data/ISIC_0000002.jpg         1          0\n",
       "ISIC/ISIC-2017_Training_Data/ISIC_0000003.jpg         0          0\n",
       "ISIC/ISIC-2017_Training_Data/ISIC_0000004.jpg         1          0"
      ]
     },
     "execution_count": 28,
     "metadata": {},
     "output_type": "execute_result"
    }
   ],
   "source": [
    "ict = getds('challenge')\n",
    "ict.index = 'ISIC/ISIC-2017_Training_Data/' + ict['image'] + '.jpg'\n",
    "ict = ict[['melanoma', 'keratosis']]\n",
    "ict.head()"
   ]
  },
  {
   "cell_type": "markdown",
   "metadata": {},
   "source": [
    "### ISIC 2017 Validation Data"
   ]
  },
  {
   "cell_type": "code",
   "execution_count": 29,
   "metadata": {},
   "outputs": [
    {
     "data": {
      "text/html": [
       "<div>\n",
       "<style scoped>\n",
       "    .dataframe tbody tr th:only-of-type {\n",
       "        vertical-align: middle;\n",
       "    }\n",
       "\n",
       "    .dataframe tbody tr th {\n",
       "        vertical-align: top;\n",
       "    }\n",
       "\n",
       "    .dataframe thead th {\n",
       "        text-align: right;\n",
       "    }\n",
       "</style>\n",
       "<table border=\"1\" class=\"dataframe\">\n",
       "  <thead>\n",
       "    <tr style=\"text-align: right;\">\n",
       "      <th></th>\n",
       "      <th>melanoma</th>\n",
       "      <th>keratosis</th>\n",
       "    </tr>\n",
       "    <tr>\n",
       "      <th>image</th>\n",
       "      <th></th>\n",
       "      <th></th>\n",
       "    </tr>\n",
       "  </thead>\n",
       "  <tbody>\n",
       "    <tr>\n",
       "      <th>ISIC/ISIC-2017_Validation_Data/ISIC_0001769.jpg</th>\n",
       "      <td>0</td>\n",
       "      <td>0</td>\n",
       "    </tr>\n",
       "    <tr>\n",
       "      <th>ISIC/ISIC-2017_Validation_Data/ISIC_0001852.jpg</th>\n",
       "      <td>0</td>\n",
       "      <td>0</td>\n",
       "    </tr>\n",
       "    <tr>\n",
       "      <th>ISIC/ISIC-2017_Validation_Data/ISIC_0001871.jpg</th>\n",
       "      <td>0</td>\n",
       "      <td>0</td>\n",
       "    </tr>\n",
       "    <tr>\n",
       "      <th>ISIC/ISIC-2017_Validation_Data/ISIC_0003462.jpg</th>\n",
       "      <td>0</td>\n",
       "      <td>0</td>\n",
       "    </tr>\n",
       "    <tr>\n",
       "      <th>ISIC/ISIC-2017_Validation_Data/ISIC_0003539.jpg</th>\n",
       "      <td>0</td>\n",
       "      <td>0</td>\n",
       "    </tr>\n",
       "  </tbody>\n",
       "</table>\n",
       "</div>"
      ],
      "text/plain": [
       "                                                 melanoma  keratosis\n",
       "image                                                               \n",
       "ISIC/ISIC-2017_Validation_Data/ISIC_0001769.jpg         0          0\n",
       "ISIC/ISIC-2017_Validation_Data/ISIC_0001852.jpg         0          0\n",
       "ISIC/ISIC-2017_Validation_Data/ISIC_0001871.jpg         0          0\n",
       "ISIC/ISIC-2017_Validation_Data/ISIC_0003462.jpg         0          0\n",
       "ISIC/ISIC-2017_Validation_Data/ISIC_0003539.jpg         0          0"
      ]
     },
     "execution_count": 29,
     "metadata": {},
     "output_type": "execute_result"
    }
   ],
   "source": [
    "icv = pd.read_csv(PATH / 'val_isic17.csv')\n",
    "icv.columns = ['image', 'class']\n",
    "\n",
    "icv['melanoma'] = (icv['class'] == 'MEL').astype(int)\n",
    "icv['keratosis'] = (icv['class'] == 'SK').astype(int)\n",
    "icv.set_index(icv['image'], inplace=True)\n",
    "\n",
    "icv.drop(columns=['class', 'image'], inplace=True)\n",
    "icv.head()"
   ]
  },
  {
   "cell_type": "code",
   "execution_count": 30,
   "metadata": {},
   "outputs": [
    {
     "data": {
      "text/plain": [
       "150"
      ]
     },
     "execution_count": 30,
     "metadata": {},
     "output_type": "execute_result"
    }
   ],
   "source": [
    "len(icv)"
   ]
  },
  {
   "cell_type": "markdown",
   "metadata": {},
   "source": [
    "### Combine all DFs and get Idx for validation set"
   ]
  },
  {
   "cell_type": "code",
   "execution_count": 128,
   "metadata": {},
   "outputs": [
    {
     "data": {
      "text/html": [
       "<div>\n",
       "<style scoped>\n",
       "    .dataframe tbody tr th:only-of-type {\n",
       "        vertical-align: middle;\n",
       "    }\n",
       "\n",
       "    .dataframe tbody tr th {\n",
       "        vertical-align: top;\n",
       "    }\n",
       "\n",
       "    .dataframe thead th {\n",
       "        text-align: right;\n",
       "    }\n",
       "</style>\n",
       "<table border=\"1\" class=\"dataframe\">\n",
       "  <thead>\n",
       "    <tr style=\"text-align: right;\">\n",
       "      <th></th>\n",
       "      <th>melanoma</th>\n",
       "      <th>keratosis</th>\n",
       "    </tr>\n",
       "  </thead>\n",
       "  <tbody>\n",
       "    <tr>\n",
       "      <th>isic_archive/images/5436e3acbae478396759f0e5.jpg</th>\n",
       "      <td>0</td>\n",
       "      <td>0</td>\n",
       "    </tr>\n",
       "    <tr>\n",
       "      <th>isic_archive/images/5593f47b9fc3c131551460fc.jpg</th>\n",
       "      <td>0</td>\n",
       "      <td>0</td>\n",
       "    </tr>\n",
       "    <tr>\n",
       "      <th>isic_archive/images/5436e3f4bae478396759f4a6.jpg</th>\n",
       "      <td>0</td>\n",
       "      <td>0</td>\n",
       "    </tr>\n",
       "    <tr>\n",
       "      <th>isic_archive/images/558d637cbae47801cf734dbc.jpg</th>\n",
       "      <td>1</td>\n",
       "      <td>0</td>\n",
       "    </tr>\n",
       "    <tr>\n",
       "      <th>isic_archive/images/558d60e8bae47801cf7345b2.jpg</th>\n",
       "      <td>1</td>\n",
       "      <td>0</td>\n",
       "    </tr>\n",
       "  </tbody>\n",
       "</table>\n",
       "</div>"
      ],
      "text/plain": [
       "                                                  melanoma  keratosis\n",
       "isic_archive/images/5436e3acbae478396759f0e5.jpg         0          0\n",
       "isic_archive/images/5593f47b9fc3c131551460fc.jpg         0          0\n",
       "isic_archive/images/5436e3f4bae478396759f4a6.jpg         0          0\n",
       "isic_archive/images/558d637cbae47801cf734dbc.jpg         1          0\n",
       "isic_archive/images/558d60e8bae47801cf7345b2.jpg         1          0"
      ]
     },
     "execution_count": 128,
     "metadata": {},
     "output_type": "execute_result"
    }
   ],
   "source": [
    "train_df = pd.concat([ia, pdf, ddf, icv])\n",
    "train_df.head()\n",
    "# len(train_csv)"
   ]
  },
  {
   "cell_type": "code",
   "execution_count": 129,
   "metadata": {},
   "outputs": [
    {
     "data": {
      "text/plain": [
       "5615"
      ]
     },
     "execution_count": 129,
     "metadata": {},
     "output_type": "execute_result"
    }
   ],
   "source": [
    "len(train_df)"
   ]
  },
  {
   "cell_type": "code",
   "execution_count": 130,
   "metadata": {},
   "outputs": [
    {
     "data": {
      "text/html": [
       "<div>\n",
       "<style scoped>\n",
       "    .dataframe tbody tr th:only-of-type {\n",
       "        vertical-align: middle;\n",
       "    }\n",
       "\n",
       "    .dataframe tbody tr th {\n",
       "        vertical-align: top;\n",
       "    }\n",
       "\n",
       "    .dataframe thead th {\n",
       "        text-align: right;\n",
       "    }\n",
       "</style>\n",
       "<table border=\"1\" class=\"dataframe\">\n",
       "  <thead>\n",
       "    <tr style=\"text-align: right;\">\n",
       "      <th></th>\n",
       "      <th>melanoma</th>\n",
       "      <th>keratosis</th>\n",
       "    </tr>\n",
       "  </thead>\n",
       "  <tbody>\n",
       "    <tr>\n",
       "      <th>ISIC/ISIC-2017_Validation_Data/ISIC_0001769.jpg</th>\n",
       "      <td>0</td>\n",
       "      <td>0</td>\n",
       "    </tr>\n",
       "    <tr>\n",
       "      <th>ISIC/ISIC-2017_Validation_Data/ISIC_0001852.jpg</th>\n",
       "      <td>0</td>\n",
       "      <td>0</td>\n",
       "    </tr>\n",
       "    <tr>\n",
       "      <th>ISIC/ISIC-2017_Validation_Data/ISIC_0001871.jpg</th>\n",
       "      <td>0</td>\n",
       "      <td>0</td>\n",
       "    </tr>\n",
       "    <tr>\n",
       "      <th>ISIC/ISIC-2017_Validation_Data/ISIC_0003462.jpg</th>\n",
       "      <td>0</td>\n",
       "      <td>0</td>\n",
       "    </tr>\n",
       "    <tr>\n",
       "      <th>ISIC/ISIC-2017_Validation_Data/ISIC_0003539.jpg</th>\n",
       "      <td>0</td>\n",
       "      <td>0</td>\n",
       "    </tr>\n",
       "    <tr>\n",
       "      <th>ISIC/ISIC-2017_Validation_Data/ISIC_0003582.jpg</th>\n",
       "      <td>0</td>\n",
       "      <td>0</td>\n",
       "    </tr>\n",
       "    <tr>\n",
       "      <th>ISIC/ISIC-2017_Validation_Data/ISIC_0003657.jpg</th>\n",
       "      <td>0</td>\n",
       "      <td>0</td>\n",
       "    </tr>\n",
       "    <tr>\n",
       "      <th>ISIC/ISIC-2017_Validation_Data/ISIC_0003805.jpg</th>\n",
       "      <td>0</td>\n",
       "      <td>0</td>\n",
       "    </tr>\n",
       "    <tr>\n",
       "      <th>ISIC/ISIC-2017_Validation_Data/ISIC_0004337.jpg</th>\n",
       "      <td>0</td>\n",
       "      <td>0</td>\n",
       "    </tr>\n",
       "    <tr>\n",
       "      <th>ISIC/ISIC-2017_Validation_Data/ISIC_0006651.jpg</th>\n",
       "      <td>0</td>\n",
       "      <td>0</td>\n",
       "    </tr>\n",
       "    <tr>\n",
       "      <th>ISIC/ISIC-2017_Validation_Data/ISIC_0006671.jpg</th>\n",
       "      <td>0</td>\n",
       "      <td>0</td>\n",
       "    </tr>\n",
       "    <tr>\n",
       "      <th>ISIC/ISIC-2017_Validation_Data/ISIC_0006815.jpg</th>\n",
       "      <td>0</td>\n",
       "      <td>0</td>\n",
       "    </tr>\n",
       "    <tr>\n",
       "      <th>ISIC/ISIC-2017_Validation_Data/ISIC_0006914.jpg</th>\n",
       "      <td>0</td>\n",
       "      <td>0</td>\n",
       "    </tr>\n",
       "    <tr>\n",
       "      <th>ISIC/ISIC-2017_Validation_Data/ISIC_0007141.jpg</th>\n",
       "      <td>0</td>\n",
       "      <td>0</td>\n",
       "    </tr>\n",
       "    <tr>\n",
       "      <th>ISIC/ISIC-2017_Validation_Data/ISIC_0007156.jpg</th>\n",
       "      <td>0</td>\n",
       "      <td>0</td>\n",
       "    </tr>\n",
       "    <tr>\n",
       "      <th>ISIC/ISIC-2017_Validation_Data/ISIC_0007235.jpg</th>\n",
       "      <td>0</td>\n",
       "      <td>0</td>\n",
       "    </tr>\n",
       "    <tr>\n",
       "      <th>ISIC/ISIC-2017_Validation_Data/ISIC_0007241.jpg</th>\n",
       "      <td>0</td>\n",
       "      <td>0</td>\n",
       "    </tr>\n",
       "    <tr>\n",
       "      <th>ISIC/ISIC-2017_Validation_Data/ISIC_0007332.jpg</th>\n",
       "      <td>0</td>\n",
       "      <td>0</td>\n",
       "    </tr>\n",
       "    <tr>\n",
       "      <th>ISIC/ISIC-2017_Validation_Data/ISIC_0007344.jpg</th>\n",
       "      <td>0</td>\n",
       "      <td>0</td>\n",
       "    </tr>\n",
       "    <tr>\n",
       "      <th>ISIC/ISIC-2017_Validation_Data/ISIC_0007528.jpg</th>\n",
       "      <td>0</td>\n",
       "      <td>0</td>\n",
       "    </tr>\n",
       "    <tr>\n",
       "      <th>ISIC/ISIC-2017_Validation_Data/ISIC_0007796.jpg</th>\n",
       "      <td>0</td>\n",
       "      <td>0</td>\n",
       "    </tr>\n",
       "    <tr>\n",
       "      <th>ISIC/ISIC-2017_Validation_Data/ISIC_0008025.jpg</th>\n",
       "      <td>0</td>\n",
       "      <td>0</td>\n",
       "    </tr>\n",
       "    <tr>\n",
       "      <th>ISIC/ISIC-2017_Validation_Data/ISIC_0008524.jpg</th>\n",
       "      <td>0</td>\n",
       "      <td>0</td>\n",
       "    </tr>\n",
       "    <tr>\n",
       "      <th>ISIC/ISIC-2017_Validation_Data/ISIC_0009995.jpg</th>\n",
       "      <td>0</td>\n",
       "      <td>0</td>\n",
       "    </tr>\n",
       "    <tr>\n",
       "      <th>ISIC/ISIC-2017_Validation_Data/ISIC_0010459.jpg</th>\n",
       "      <td>0</td>\n",
       "      <td>0</td>\n",
       "    </tr>\n",
       "    <tr>\n",
       "      <th>ISIC/ISIC-2017_Validation_Data/ISIC_0012099.jpg</th>\n",
       "      <td>1</td>\n",
       "      <td>0</td>\n",
       "    </tr>\n",
       "    <tr>\n",
       "      <th>ISIC/ISIC-2017_Validation_Data/ISIC_0012109.jpg</th>\n",
       "      <td>0</td>\n",
       "      <td>0</td>\n",
       "    </tr>\n",
       "    <tr>\n",
       "      <th>ISIC/ISIC-2017_Validation_Data/ISIC_0012126.jpg</th>\n",
       "      <td>0</td>\n",
       "      <td>0</td>\n",
       "    </tr>\n",
       "    <tr>\n",
       "      <th>ISIC/ISIC-2017_Validation_Data/ISIC_0012127.jpg</th>\n",
       "      <td>0</td>\n",
       "      <td>0</td>\n",
       "    </tr>\n",
       "    <tr>\n",
       "      <th>ISIC/ISIC-2017_Validation_Data/ISIC_0012143.jpg</th>\n",
       "      <td>0</td>\n",
       "      <td>1</td>\n",
       "    </tr>\n",
       "    <tr>\n",
       "      <th>...</th>\n",
       "      <td>...</td>\n",
       "      <td>...</td>\n",
       "    </tr>\n",
       "    <tr>\n",
       "      <th>ISIC/ISIC-2017_Validation_Data/ISIC_0014633.jpg</th>\n",
       "      <td>0</td>\n",
       "      <td>1</td>\n",
       "    </tr>\n",
       "    <tr>\n",
       "      <th>ISIC/ISIC-2017_Validation_Data/ISIC_0014635.jpg</th>\n",
       "      <td>0</td>\n",
       "      <td>1</td>\n",
       "    </tr>\n",
       "    <tr>\n",
       "      <th>ISIC/ISIC-2017_Validation_Data/ISIC_0014637.jpg</th>\n",
       "      <td>0</td>\n",
       "      <td>1</td>\n",
       "    </tr>\n",
       "    <tr>\n",
       "      <th>ISIC/ISIC-2017_Validation_Data/ISIC_0014688.jpg</th>\n",
       "      <td>1</td>\n",
       "      <td>0</td>\n",
       "    </tr>\n",
       "    <tr>\n",
       "      <th>ISIC/ISIC-2017_Validation_Data/ISIC_0014712.jpg</th>\n",
       "      <td>0</td>\n",
       "      <td>1</td>\n",
       "    </tr>\n",
       "    <tr>\n",
       "      <th>ISIC/ISIC-2017_Validation_Data/ISIC_0014809.jpg</th>\n",
       "      <td>1</td>\n",
       "      <td>0</td>\n",
       "    </tr>\n",
       "    <tr>\n",
       "      <th>ISIC/ISIC-2017_Validation_Data/ISIC_0014829.jpg</th>\n",
       "      <td>0</td>\n",
       "      <td>0</td>\n",
       "    </tr>\n",
       "    <tr>\n",
       "      <th>ISIC/ISIC-2017_Validation_Data/ISIC_0014857.jpg</th>\n",
       "      <td>1</td>\n",
       "      <td>0</td>\n",
       "    </tr>\n",
       "    <tr>\n",
       "      <th>ISIC/ISIC-2017_Validation_Data/ISIC_0014931.jpg</th>\n",
       "      <td>1</td>\n",
       "      <td>0</td>\n",
       "    </tr>\n",
       "    <tr>\n",
       "      <th>ISIC/ISIC-2017_Validation_Data/ISIC_0014937.jpg</th>\n",
       "      <td>0</td>\n",
       "      <td>0</td>\n",
       "    </tr>\n",
       "    <tr>\n",
       "      <th>ISIC/ISIC-2017_Validation_Data/ISIC_0014945.jpg</th>\n",
       "      <td>0</td>\n",
       "      <td>0</td>\n",
       "    </tr>\n",
       "    <tr>\n",
       "      <th>ISIC/ISIC-2017_Validation_Data/ISIC_0014946.jpg</th>\n",
       "      <td>1</td>\n",
       "      <td>0</td>\n",
       "    </tr>\n",
       "    <tr>\n",
       "      <th>ISIC/ISIC-2017_Validation_Data/ISIC_0014979.jpg</th>\n",
       "      <td>1</td>\n",
       "      <td>0</td>\n",
       "    </tr>\n",
       "    <tr>\n",
       "      <th>ISIC/ISIC-2017_Validation_Data/ISIC_0014985.jpg</th>\n",
       "      <td>1</td>\n",
       "      <td>0</td>\n",
       "    </tr>\n",
       "    <tr>\n",
       "      <th>ISIC/ISIC-2017_Validation_Data/ISIC_0014989.jpg</th>\n",
       "      <td>0</td>\n",
       "      <td>0</td>\n",
       "    </tr>\n",
       "    <tr>\n",
       "      <th>ISIC/ISIC-2017_Validation_Data/ISIC_0015043.jpg</th>\n",
       "      <td>0</td>\n",
       "      <td>0</td>\n",
       "    </tr>\n",
       "    <tr>\n",
       "      <th>ISIC/ISIC-2017_Validation_Data/ISIC_0015062.jpg</th>\n",
       "      <td>0</td>\n",
       "      <td>1</td>\n",
       "    </tr>\n",
       "    <tr>\n",
       "      <th>ISIC/ISIC-2017_Validation_Data/ISIC_0015124.jpg</th>\n",
       "      <td>1</td>\n",
       "      <td>0</td>\n",
       "    </tr>\n",
       "    <tr>\n",
       "      <th>ISIC/ISIC-2017_Validation_Data/ISIC_0015144.jpg</th>\n",
       "      <td>0</td>\n",
       "      <td>0</td>\n",
       "    </tr>\n",
       "    <tr>\n",
       "      <th>ISIC/ISIC-2017_Validation_Data/ISIC_0015211.jpg</th>\n",
       "      <td>0</td>\n",
       "      <td>0</td>\n",
       "    </tr>\n",
       "    <tr>\n",
       "      <th>ISIC/ISIC-2017_Validation_Data/ISIC_0015243.jpg</th>\n",
       "      <td>1</td>\n",
       "      <td>0</td>\n",
       "    </tr>\n",
       "    <tr>\n",
       "      <th>ISIC/ISIC-2017_Validation_Data/ISIC_0015256.jpg</th>\n",
       "      <td>1</td>\n",
       "      <td>0</td>\n",
       "    </tr>\n",
       "    <tr>\n",
       "      <th>ISIC/ISIC-2017_Validation_Data/ISIC_0015313.jpg</th>\n",
       "      <td>0</td>\n",
       "      <td>0</td>\n",
       "    </tr>\n",
       "    <tr>\n",
       "      <th>ISIC/ISIC-2017_Validation_Data/ISIC_0015372.jpg</th>\n",
       "      <td>0</td>\n",
       "      <td>0</td>\n",
       "    </tr>\n",
       "    <tr>\n",
       "      <th>ISIC/ISIC-2017_Validation_Data/ISIC_0015401.jpg</th>\n",
       "      <td>0</td>\n",
       "      <td>0</td>\n",
       "    </tr>\n",
       "    <tr>\n",
       "      <th>ISIC/ISIC-2017_Validation_Data/ISIC_0015443.jpg</th>\n",
       "      <td>0</td>\n",
       "      <td>0</td>\n",
       "    </tr>\n",
       "    <tr>\n",
       "      <th>ISIC/ISIC-2017_Validation_Data/ISIC_0015445.jpg</th>\n",
       "      <td>0</td>\n",
       "      <td>0</td>\n",
       "    </tr>\n",
       "    <tr>\n",
       "      <th>ISIC/ISIC-2017_Validation_Data/ISIC_0015483.jpg</th>\n",
       "      <td>0</td>\n",
       "      <td>0</td>\n",
       "    </tr>\n",
       "    <tr>\n",
       "      <th>ISIC/ISIC-2017_Validation_Data/ISIC_0015496.jpg</th>\n",
       "      <td>0</td>\n",
       "      <td>0</td>\n",
       "    </tr>\n",
       "    <tr>\n",
       "      <th>ISIC/ISIC-2017_Validation_Data/ISIC_0015627.jpg</th>\n",
       "      <td>0</td>\n",
       "      <td>0</td>\n",
       "    </tr>\n",
       "  </tbody>\n",
       "</table>\n",
       "<p>150 rows × 2 columns</p>\n",
       "</div>"
      ],
      "text/plain": [
       "                                                 melanoma  keratosis\n",
       "ISIC/ISIC-2017_Validation_Data/ISIC_0001769.jpg         0          0\n",
       "ISIC/ISIC-2017_Validation_Data/ISIC_0001852.jpg         0          0\n",
       "ISIC/ISIC-2017_Validation_Data/ISIC_0001871.jpg         0          0\n",
       "ISIC/ISIC-2017_Validation_Data/ISIC_0003462.jpg         0          0\n",
       "ISIC/ISIC-2017_Validation_Data/ISIC_0003539.jpg         0          0\n",
       "ISIC/ISIC-2017_Validation_Data/ISIC_0003582.jpg         0          0\n",
       "ISIC/ISIC-2017_Validation_Data/ISIC_0003657.jpg         0          0\n",
       "ISIC/ISIC-2017_Validation_Data/ISIC_0003805.jpg         0          0\n",
       "ISIC/ISIC-2017_Validation_Data/ISIC_0004337.jpg         0          0\n",
       "ISIC/ISIC-2017_Validation_Data/ISIC_0006651.jpg         0          0\n",
       "ISIC/ISIC-2017_Validation_Data/ISIC_0006671.jpg         0          0\n",
       "ISIC/ISIC-2017_Validation_Data/ISIC_0006815.jpg         0          0\n",
       "ISIC/ISIC-2017_Validation_Data/ISIC_0006914.jpg         0          0\n",
       "ISIC/ISIC-2017_Validation_Data/ISIC_0007141.jpg         0          0\n",
       "ISIC/ISIC-2017_Validation_Data/ISIC_0007156.jpg         0          0\n",
       "ISIC/ISIC-2017_Validation_Data/ISIC_0007235.jpg         0          0\n",
       "ISIC/ISIC-2017_Validation_Data/ISIC_0007241.jpg         0          0\n",
       "ISIC/ISIC-2017_Validation_Data/ISIC_0007332.jpg         0          0\n",
       "ISIC/ISIC-2017_Validation_Data/ISIC_0007344.jpg         0          0\n",
       "ISIC/ISIC-2017_Validation_Data/ISIC_0007528.jpg         0          0\n",
       "ISIC/ISIC-2017_Validation_Data/ISIC_0007796.jpg         0          0\n",
       "ISIC/ISIC-2017_Validation_Data/ISIC_0008025.jpg         0          0\n",
       "ISIC/ISIC-2017_Validation_Data/ISIC_0008524.jpg         0          0\n",
       "ISIC/ISIC-2017_Validation_Data/ISIC_0009995.jpg         0          0\n",
       "ISIC/ISIC-2017_Validation_Data/ISIC_0010459.jpg         0          0\n",
       "ISIC/ISIC-2017_Validation_Data/ISIC_0012099.jpg         1          0\n",
       "ISIC/ISIC-2017_Validation_Data/ISIC_0012109.jpg         0          0\n",
       "ISIC/ISIC-2017_Validation_Data/ISIC_0012126.jpg         0          0\n",
       "ISIC/ISIC-2017_Validation_Data/ISIC_0012127.jpg         0          0\n",
       "ISIC/ISIC-2017_Validation_Data/ISIC_0012143.jpg         0          1\n",
       "...                                                   ...        ...\n",
       "ISIC/ISIC-2017_Validation_Data/ISIC_0014633.jpg         0          1\n",
       "ISIC/ISIC-2017_Validation_Data/ISIC_0014635.jpg         0          1\n",
       "ISIC/ISIC-2017_Validation_Data/ISIC_0014637.jpg         0          1\n",
       "ISIC/ISIC-2017_Validation_Data/ISIC_0014688.jpg         1          0\n",
       "ISIC/ISIC-2017_Validation_Data/ISIC_0014712.jpg         0          1\n",
       "ISIC/ISIC-2017_Validation_Data/ISIC_0014809.jpg         1          0\n",
       "ISIC/ISIC-2017_Validation_Data/ISIC_0014829.jpg         0          0\n",
       "ISIC/ISIC-2017_Validation_Data/ISIC_0014857.jpg         1          0\n",
       "ISIC/ISIC-2017_Validation_Data/ISIC_0014931.jpg         1          0\n",
       "ISIC/ISIC-2017_Validation_Data/ISIC_0014937.jpg         0          0\n",
       "ISIC/ISIC-2017_Validation_Data/ISIC_0014945.jpg         0          0\n",
       "ISIC/ISIC-2017_Validation_Data/ISIC_0014946.jpg         1          0\n",
       "ISIC/ISIC-2017_Validation_Data/ISIC_0014979.jpg         1          0\n",
       "ISIC/ISIC-2017_Validation_Data/ISIC_0014985.jpg         1          0\n",
       "ISIC/ISIC-2017_Validation_Data/ISIC_0014989.jpg         0          0\n",
       "ISIC/ISIC-2017_Validation_Data/ISIC_0015043.jpg         0          0\n",
       "ISIC/ISIC-2017_Validation_Data/ISIC_0015062.jpg         0          1\n",
       "ISIC/ISIC-2017_Validation_Data/ISIC_0015124.jpg         1          0\n",
       "ISIC/ISIC-2017_Validation_Data/ISIC_0015144.jpg         0          0\n",
       "ISIC/ISIC-2017_Validation_Data/ISIC_0015211.jpg         0          0\n",
       "ISIC/ISIC-2017_Validation_Data/ISIC_0015243.jpg         1          0\n",
       "ISIC/ISIC-2017_Validation_Data/ISIC_0015256.jpg         1          0\n",
       "ISIC/ISIC-2017_Validation_Data/ISIC_0015313.jpg         0          0\n",
       "ISIC/ISIC-2017_Validation_Data/ISIC_0015372.jpg         0          0\n",
       "ISIC/ISIC-2017_Validation_Data/ISIC_0015401.jpg         0          0\n",
       "ISIC/ISIC-2017_Validation_Data/ISIC_0015443.jpg         0          0\n",
       "ISIC/ISIC-2017_Validation_Data/ISIC_0015445.jpg         0          0\n",
       "ISIC/ISIC-2017_Validation_Data/ISIC_0015483.jpg         0          0\n",
       "ISIC/ISIC-2017_Validation_Data/ISIC_0015496.jpg         0          0\n",
       "ISIC/ISIC-2017_Validation_Data/ISIC_0015627.jpg         0          0\n",
       "\n",
       "[150 rows x 2 columns]"
      ]
     },
     "execution_count": 130,
     "metadata": {},
     "output_type": "execute_result"
    }
   ],
   "source": [
    "train_df.iloc[-150:]"
   ]
  },
  {
   "cell_type": "code",
   "execution_count": 131,
   "metadata": {},
   "outputs": [
    {
     "data": {
      "text/plain": [
       "5615"
      ]
     },
     "execution_count": 131,
     "metadata": {},
     "output_type": "execute_result"
    }
   ],
   "source": [
    "val_idx = list(range(len(train_df) - 150, len(train_df)))\n",
    "# len(train_df) = 5615\n",
    "len(train_df)"
   ]
  },
  {
   "cell_type": "code",
   "execution_count": null,
   "metadata": {},
   "outputs": [],
   "source": [
    "train_df.iloc(:-150)"
   ]
  },
  {
   "cell_type": "code",
   "execution_count": 132,
   "metadata": {},
   "outputs": [
    {
     "data": {
      "text/plain": [
       "0    4768\n",
       "1     847\n",
       "Name: melanoma, dtype: int64"
      ]
     },
     "execution_count": 132,
     "metadata": {},
     "output_type": "execute_result"
    },
    {
     "data": {
      "image/png": "[encoded data removed]",
      "text/plain": [
       "<Figure size 432x288 with 1 Axes>"
      ]
     },
     "metadata": {
      "needs_background": "light"
     },
     "output_type": "display_data"
    }
   ],
   "source": [
    "train_df['melanoma'].value_counts().plot(kind='barh')\n",
    "train_df['melanoma'].value_counts()"
   ]
  },
  {
   "cell_type": "code",
   "execution_count": 134,
   "metadata": {},
   "outputs": [
    {
     "data": {
      "text/plain": [
       "0    5307\n",
       "1     308\n",
       "Name: keratosis, dtype: int64"
      ]
     },
     "execution_count": 134,
     "metadata": {},
     "output_type": "execute_result"
    },
    {
     "data": {
      "image/png": "[encoded data removed]",
      "text/plain": [
       "<Figure size 432x288 with 1 Axes>"
      ]
     },
     "metadata": {
      "needs_background": "light"
     },
     "output_type": "display_data"
    }
   ],
   "source": [
    "train_df['keratosis'].value_counts().plot(kind='barh')\n",
    "train_df['keratosis'].value_counts()"
   ]
  },
  {
   "cell_type": "code",
   "execution_count": 133,
   "metadata": {},
   "outputs": [
    {
     "data": {
      "text/html": [
       "<div>\n",
       "<style scoped>\n",
       "    .dataframe tbody tr th:only-of-type {\n",
       "        vertical-align: middle;\n",
       "    }\n",
       "\n",
       "    .dataframe tbody tr th {\n",
       "        vertical-align: top;\n",
       "    }\n",
       "\n",
       "    .dataframe thead th {\n",
       "        text-align: right;\n",
       "    }\n",
       "</style>\n",
       "<table border=\"1\" class=\"dataframe\">\n",
       "  <thead>\n",
       "    <tr style=\"text-align: right;\">\n",
       "      <th></th>\n",
       "      <th>melanoma</th>\n",
       "      <th>keratosis</th>\n",
       "    </tr>\n",
       "  </thead>\n",
       "  <tbody>\n",
       "    <tr>\n",
       "      <th>isic_archive/images/5436e3acbae478396759f0e5.jpg</th>\n",
       "      <td>0</td>\n",
       "      <td>0</td>\n",
       "    </tr>\n",
       "    <tr>\n",
       "      <th>isic_archive/images/5593f47b9fc3c131551460fc.jpg</th>\n",
       "      <td>0</td>\n",
       "      <td>0</td>\n",
       "    </tr>\n",
       "    <tr>\n",
       "      <th>isic_archive/images/5436e3f4bae478396759f4a6.jpg</th>\n",
       "      <td>0</td>\n",
       "      <td>0</td>\n",
       "    </tr>\n",
       "    <tr>\n",
       "      <th>isic_archive/images/558d637cbae47801cf734dbc.jpg</th>\n",
       "      <td>1</td>\n",
       "      <td>0</td>\n",
       "    </tr>\n",
       "    <tr>\n",
       "      <th>isic_archive/images/558d60e8bae47801cf7345b2.jpg</th>\n",
       "      <td>1</td>\n",
       "      <td>0</td>\n",
       "    </tr>\n",
       "  </tbody>\n",
       "</table>\n",
       "</div>"
      ],
      "text/plain": [
       "                                                  melanoma  keratosis\n",
       "isic_archive/images/5436e3acbae478396759f0e5.jpg         0          0\n",
       "isic_archive/images/5593f47b9fc3c131551460fc.jpg         0          0\n",
       "isic_archive/images/5436e3f4bae478396759f4a6.jpg         0          0\n",
       "isic_archive/images/558d637cbae47801cf734dbc.jpg         1          0\n",
       "isic_archive/images/558d60e8bae47801cf7345b2.jpg         1          0"
      ]
     },
     "execution_count": 133,
     "metadata": {},
     "output_type": "execute_result"
    }
   ],
   "source": [
    "train_df.head()"
   ]
  },
  {
   "cell_type": "code",
   "execution_count": 135,
   "metadata": {},
   "outputs": [],
   "source": [
    "cats = ['melanoma', 'keratosis']\n",
    "# train_df[cats]\n",
    "# nonzero_indexs = train_df['melanoma'].apply(np.nonzero)\n",
    "# nonzero_indexs[1]\n",
    "# train_df['melanoma'].nonzero()[0]"
   ]
  },
  {
   "cell_type": "code",
   "execution_count": 81,
   "metadata": {},
   "outputs": [
    {
     "data": {
      "text/plain": [
       "isic_archive/images/5593f47b9fc3c131551460fc.jpg    0\n",
       "isic_archive/images/5436e3f4bae478396759f4a6.jpg    0\n",
       "isic_archive/images/558d637cbae47801cf734dbc.jpg    1\n",
       "isic_archive/images/558d60e8bae47801cf7345b2.jpg    1\n",
       "Name: melanoma, dtype: int64"
      ]
     },
     "execution_count": 81,
     "metadata": {},
     "output_type": "execute_result"
    }
   ],
   "source": [
    "train_df['melanoma'].iloc[1:5]"
   ]
  },
  {
   "cell_type": "code",
   "execution_count": 136,
   "metadata": {},
   "outputs": [
    {
     "name": "stdout",
     "output_type": "stream",
     "text": [
      "adding melanoma to class\n",
      "adding keratosis to class\n"
     ]
    },
    {
     "name": "stderr",
     "output_type": "stream",
     "text": [
      "/home/sean/anaconda3/envs/fastai/lib/python3.6/site-packages/pandas/core/indexing.py:189: SettingWithCopyWarning: \n",
      "A value is trying to be set on a copy of a slice from a DataFrame\n",
      "\n",
      "See the caveats in the documentation: http://pandas.pydata.org/pandas-docs/stable/indexing.html#indexing-view-versus-copy\n",
      "  self._setitem_with_indexer(indexer, value)\n"
     ]
    },
    {
     "data": {
      "text/html": [
       "<div>\n",
       "<style scoped>\n",
       "    .dataframe tbody tr th:only-of-type {\n",
       "        vertical-align: middle;\n",
       "    }\n",
       "\n",
       "    .dataframe tbody tr th {\n",
       "        vertical-align: top;\n",
       "    }\n",
       "\n",
       "    .dataframe thead th {\n",
       "        text-align: right;\n",
       "    }\n",
       "</style>\n",
       "<table border=\"1\" class=\"dataframe\">\n",
       "  <thead>\n",
       "    <tr style=\"text-align: right;\">\n",
       "      <th></th>\n",
       "      <th>melanoma</th>\n",
       "      <th>keratosis</th>\n",
       "      <th>class</th>\n",
       "    </tr>\n",
       "  </thead>\n",
       "  <tbody>\n",
       "    <tr>\n",
       "      <th>isic_archive/images/5436e3acbae478396759f0e5.jpg</th>\n",
       "      <td>0</td>\n",
       "      <td>0</td>\n",
       "      <td>nevus</td>\n",
       "    </tr>\n",
       "    <tr>\n",
       "      <th>isic_archive/images/5593f47b9fc3c131551460fc.jpg</th>\n",
       "      <td>0</td>\n",
       "      <td>0</td>\n",
       "      <td>nevus</td>\n",
       "    </tr>\n",
       "    <tr>\n",
       "      <th>isic_archive/images/5436e3f4bae478396759f4a6.jpg</th>\n",
       "      <td>0</td>\n",
       "      <td>0</td>\n",
       "      <td>nevus</td>\n",
       "    </tr>\n",
       "    <tr>\n",
       "      <th>isic_archive/images/558d637cbae47801cf734dbc.jpg</th>\n",
       "      <td>1</td>\n",
       "      <td>0</td>\n",
       "      <td>melanoma</td>\n",
       "    </tr>\n",
       "    <tr>\n",
       "      <th>isic_archive/images/558d60e8bae47801cf7345b2.jpg</th>\n",
       "      <td>1</td>\n",
       "      <td>0</td>\n",
       "      <td>melanoma</td>\n",
       "    </tr>\n",
       "  </tbody>\n",
       "</table>\n",
       "</div>"
      ],
      "text/plain": [
       "                                                  melanoma  keratosis  \\\n",
       "isic_archive/images/5436e3acbae478396759f0e5.jpg         0          0   \n",
       "isic_archive/images/5593f47b9fc3c131551460fc.jpg         0          0   \n",
       "isic_archive/images/5436e3f4bae478396759f4a6.jpg         0          0   \n",
       "isic_archive/images/558d637cbae47801cf734dbc.jpg         1          0   \n",
       "isic_archive/images/558d60e8bae47801cf7345b2.jpg         1          0   \n",
       "\n",
       "                                                     class  \n",
       "isic_archive/images/5436e3acbae478396759f0e5.jpg     nevus  \n",
       "isic_archive/images/5593f47b9fc3c131551460fc.jpg     nevus  \n",
       "isic_archive/images/5436e3f4bae478396759f4a6.jpg     nevus  \n",
       "isic_archive/images/558d637cbae47801cf734dbc.jpg  melanoma  \n",
       "isic_archive/images/558d60e8bae47801cf7345b2.jpg  melanoma  "
      ]
     },
     "execution_count": 136,
     "metadata": {},
     "output_type": "execute_result"
    }
   ],
   "source": [
    "train_df['class'] = np.nan\n",
    "for c in cats:\n",
    "    print('adding %s to class' % c)\n",
    "    train_df['class'].iloc[train_df[c].nonzero()[0]] = c\n",
    "train_df['class'].fillna('nevus', inplace=True)\n",
    "train_df.head()"
   ]
  },
  {
   "cell_type": "code",
   "execution_count": 137,
   "metadata": {},
   "outputs": [
    {
     "data": {
      "text/html": [
       "<div>\n",
       "<style scoped>\n",
       "    .dataframe tbody tr th:only-of-type {\n",
       "        vertical-align: middle;\n",
       "    }\n",
       "\n",
       "    .dataframe tbody tr th {\n",
       "        vertical-align: top;\n",
       "    }\n",
       "\n",
       "    .dataframe thead th {\n",
       "        text-align: right;\n",
       "    }\n",
       "</style>\n",
       "<table border=\"1\" class=\"dataframe\">\n",
       "  <thead>\n",
       "    <tr style=\"text-align: right;\">\n",
       "      <th></th>\n",
       "      <th>melanoma</th>\n",
       "      <th>keratosis</th>\n",
       "      <th>class</th>\n",
       "    </tr>\n",
       "  </thead>\n",
       "  <tbody>\n",
       "    <tr>\n",
       "      <th>isic_archive/images/5436e3acbae478396759f0e5.jpg</th>\n",
       "      <td>0</td>\n",
       "      <td>0</td>\n",
       "      <td>nevus</td>\n",
       "    </tr>\n",
       "    <tr>\n",
       "      <th>isic_archive/images/5593f47b9fc3c131551460fc.jpg</th>\n",
       "      <td>0</td>\n",
       "      <td>0</td>\n",
       "      <td>nevus</td>\n",
       "    </tr>\n",
       "    <tr>\n",
       "      <th>isic_archive/images/5436e3f4bae478396759f4a6.jpg</th>\n",
       "      <td>0</td>\n",
       "      <td>0</td>\n",
       "      <td>nevus</td>\n",
       "    </tr>\n",
       "    <tr>\n",
       "      <th>isic_archive/images/558d637cbae47801cf734dbc.jpg</th>\n",
       "      <td>1</td>\n",
       "      <td>0</td>\n",
       "      <td>melanoma</td>\n",
       "    </tr>\n",
       "    <tr>\n",
       "      <th>isic_archive/images/558d60e8bae47801cf7345b2.jpg</th>\n",
       "      <td>1</td>\n",
       "      <td>0</td>\n",
       "      <td>melanoma</td>\n",
       "    </tr>\n",
       "  </tbody>\n",
       "</table>\n",
       "</div>"
      ],
      "text/plain": [
       "                                                  melanoma  keratosis  \\\n",
       "isic_archive/images/5436e3acbae478396759f0e5.jpg         0          0   \n",
       "isic_archive/images/5593f47b9fc3c131551460fc.jpg         0          0   \n",
       "isic_archive/images/5436e3f4bae478396759f4a6.jpg         0          0   \n",
       "isic_archive/images/558d637cbae47801cf734dbc.jpg         1          0   \n",
       "isic_archive/images/558d60e8bae47801cf7345b2.jpg         1          0   \n",
       "\n",
       "                                                     class  \n",
       "isic_archive/images/5436e3acbae478396759f0e5.jpg     nevus  \n",
       "isic_archive/images/5593f47b9fc3c131551460fc.jpg     nevus  \n",
       "isic_archive/images/5436e3f4bae478396759f4a6.jpg     nevus  \n",
       "isic_archive/images/558d637cbae47801cf734dbc.jpg  melanoma  \n",
       "isic_archive/images/558d60e8bae47801cf7345b2.jpg  melanoma  "
      ]
     },
     "execution_count": 137,
     "metadata": {},
     "output_type": "execute_result"
    }
   ],
   "source": [
    "# train_df.drop(columns='classes', inplace=True)\n",
    "train_df.head()"
   ]
  },
  {
   "cell_type": "code",
   "execution_count": 139,
   "metadata": {},
   "outputs": [],
   "source": [
    "train_df.to_csv(train_raw)\n",
    "\n",
    "train_df.drop(columns=['keratosis', 'melanoma']).to_csv(train_all)\n",
    "\n",
    "train_mel = train_df.drop(columns=['keratosis', 'class'])\n",
    "train_mel.to_csv(train_melp)\n",
    "\n",
    "train_sk = train_df.drop(columns=['melanoma', 'class'])\n",
    "train_sk.to_csv(train_skp)"
   ]
  },
  {
   "cell_type": "code",
   "execution_count": 140,
   "metadata": {},
   "outputs": [
    {
     "data": {
      "text/plain": [
       "nevus        4460\n",
       "melanoma      847\n",
       "keratosis     308\n",
       "Name: class, dtype: int64"
      ]
     },
     "execution_count": 140,
     "metadata": {},
     "output_type": "execute_result"
    },
    {
     "data": {
      "image/png": "[encoded data removed]",
      "text/plain": [
       "<Figure size 432x288 with 1 Axes>"
      ]
     },
     "metadata": {
      "needs_background": "light"
     },
     "output_type": "display_data"
    }
   ],
   "source": [
    "train_df['class'].value_counts().plot(kind='barh')\n",
    "train_df['class'].value_counts()"
   ]
  },
  {
   "cell_type": "markdown",
   "metadata": {},
   "source": [
    "## Load Data and Train"
   ]
  },
  {
   "cell_type": "code",
   "execution_count": 107,
   "metadata": {},
   "outputs": [],
   "source": [
    "# The network architecture to use, resnet34 is a good start, will get better performance with resnext50 or inceptionv4\n",
    "arch=resnet34\n",
    "# image size\n",
    "sz=224\n",
    "bs=64\n",
    "\n",
    "# Dataset augmentations\n",
    "tfms = tfms_from_model(arch, sz, aug_tfms=transforms_top_down)\n",
    "# The dataloader, used for training and evaluation, has numerous useful functions for:\n",
    "# loading data, preprocessing, batching, obtaining basic stats, and more\n",
    "data = ImageClassifierData.from_csv(PATH, '', train_all, tfms=tfms,\n",
    "                    suffix='', bs=bs, test_name=test_folder, val_idxs=val_idx)"
   ]
  },
  {
   "cell_type": "code",
   "execution_count": 108,
   "metadata": {},
   "outputs": [
    {
     "data": {
      "text/plain": [
       "['Nevus_or_Other', 'keratosis', 'melanoma']"
      ]
     },
     "execution_count": 108,
     "metadata": {},
     "output_type": "execute_result"
    }
   ],
   "source": [
    "data.classes"
   ]
  },
  {
   "cell_type": "code",
   "execution_count": 113,
   "metadata": {},
   "outputs": [
    {
     "name": "stdout",
     "output_type": "stream",
     "text": [
      "Dataset has: ['Nevus_or_Other', 'keratosis', 'melanoma'] classes\n"
     ]
    },
    {
     "data": {
      "application/vnd.jupyter.widget-view+json": {
       "model_id": "be0d5ae5007949d88b994e3b283f917c",
       "version_major": 2,
       "version_minor": 0
      },
      "text/plain": [
       "HBox(children=(IntProgress(value=0, description='Epoch', max=1), HTML(value='')))"
      ]
     },
     "metadata": {},
     "output_type": "display_data"
    },
    {
     "name": "stdout",
     "output_type": "stream",
     "text": [
      " 85%|████████▍ | 73/86 [00:05<00:01, 12.68it/s, loss=1.32]\n",
      "                                                          \r"
     ]
    },
    {
     "data": {
      "image/png": "[encoded data removed]",
      "text/plain": [
       "<Figure size 432x288 with 1 Axes>"
      ]
     },
     "metadata": {
      "needs_background": "light"
     },
     "output_type": "display_data"
    }
   ],
   "source": [
    "tr = trainer(data, arch, sn='toy_train_3cls')\n",
    "tr.lr_find()"
   ]
  },
  {
   "cell_type": "code",
   "execution_count": 114,
   "metadata": {},
   "outputs": [
    {
     "data": {
      "application/vnd.jupyter.widget-view+json": {
       "model_id": "3803580bbb4f4bbfa4a7c96c2b1dd827",
       "version_major": 2,
       "version_minor": 0
      },
      "text/plain": [
       "HBox(children=(IntProgress(value=0, description='Epoch', max=4), HTML(value='')))"
      ]
     },
     "metadata": {},
     "output_type": "display_data"
    },
    {
     "name": "stdout",
     "output_type": "stream",
     "text": [
      "epoch      trn_loss   val_loss   accuracy                  \n",
      "    0      0.635019   1.760249   0.566667  \n",
      "    1      0.531201   2.340154   0.533333                  \n",
      "    2      0.464564   1.519413   0.553333                  \n",
      "    3      0.41874    1.603589   0.526667                  \n",
      "\n"
     ]
    },
    {
     "data": {
      "application/vnd.jupyter.widget-view+json": {
       "model_id": "a1d725d25a3a463ea2a7d2be63738dc0",
       "version_major": 2,
       "version_minor": 0
      },
      "text/plain": [
       "HBox(children=(IntProgress(value=0, description='Epoch', max=3), HTML(value='')))"
      ]
     },
     "metadata": {},
     "output_type": "display_data"
    },
    {
     "name": "stdout",
     "output_type": "stream",
     "text": [
      "epoch      trn_loss   val_loss   accuracy                  \n",
      "    0      0.367917   1.615076   0.573333  \n",
      "    1      0.335529   1.569482   0.58                      \n",
      "    2      0.329267   1.510798   0.566667                  \n",
      "\n",
      "Saved weights as \"toy_train_3cls\"\n"
     ]
    }
   ],
   "source": [
    "tr.set_lr(5e-2)\n",
    "tr.init_train()"
   ]
  },
  {
   "cell_type": "code",
   "execution_count": 192,
   "metadata": {},
   "outputs": [],
   "source": [
    "# for i in range(min(len(data.classes),10)): sample_ims(PATH, i, data)"
   ]
  },
  {
   "cell_type": "markdown",
   "metadata": {},
   "source": [
    "## Setup and Train Network"
   ]
  },
  {
   "cell_type": "code",
   "execution_count": 193,
   "metadata": {},
   "outputs": [
    {
     "name": "stdout",
     "output_type": "stream",
     "text": [
      "100%|██████████| 86/86 [05:40<00:00,  3.96s/it]\n",
      "100%|██████████| 3/3 [00:28<00:00,  9.58s/it]\n",
      "100%|██████████| 10/10 [02:00<00:00, 12.04s/it]\n"
     ]
    }
   ],
   "source": [
    "learn = ConvLearner.pretrained(arch, data, precompute=True)"
   ]
  },
  {
   "cell_type": "code",
   "execution_count": 194,
   "metadata": {},
   "outputs": [
    {
     "data": {
      "application/vnd.jupyter.widget-view+json": {
       "model_id": "e2b58f7dbe5f41858d0d2218059e21fa",
       "version_major": 2,
       "version_minor": 0
      },
      "text/plain": [
       "HBox(children=(IntProgress(value=0, description='Epoch', max=1), HTML(value='')))"
      ]
     },
     "metadata": {},
     "output_type": "display_data"
    },
    {
     "name": "stdout",
     "output_type": "stream",
     "text": [
      " 85%|████████▍ | 73/86 [00:06<00:01, 11.18it/s, loss=1.03] \n",
      "                                                          \r"
     ]
    },
    {
     "data": {
      "image/png": "[encoded data removed]",
      "text/plain": [
       "<Figure size 432x288 with 1 Axes>"
      ]
     },
     "metadata": {
      "needs_background": "light"
     },
     "output_type": "display_data"
    }
   ],
   "source": [
    "lrf=learn.lr_find()\n",
    "learn.sched.plot()"
   ]
  },
  {
   "cell_type": "code",
   "execution_count": 195,
   "metadata": {},
   "outputs": [
    {
     "data": {
      "application/vnd.jupyter.widget-view+json": {
       "model_id": "157e330c9c634629a47023af7baaf096",
       "version_major": 2,
       "version_minor": 0
      },
      "text/plain": [
       "HBox(children=(IntProgress(value=0, description='Epoch', max=4), HTML(value='')))"
      ]
     },
     "metadata": {},
     "output_type": "display_data"
    },
    {
     "name": "stdout",
     "output_type": "stream",
     "text": [
      "epoch      trn_loss   val_loss   accuracy                  \n",
      "    0      0.645109   1.153685   0.706667  \n",
      "    1      0.448732   0.486336   0.773333                  \n",
      "    2      0.347546   0.462144   0.8                       \n",
      "    3      0.288915   0.457796   0.826667                  \n",
      "\n"
     ]
    },
    {
     "data": {
      "text/plain": [
       "[array([0.4578]), 0.8266666634877523]"
      ]
     },
     "execution_count": 195,
     "metadata": {},
     "output_type": "execute_result"
    }
   ],
   "source": [
    "learn.fit(1e-1, 4)"
   ]
  },
  {
   "cell_type": "code",
   "execution_count": 196,
   "metadata": {},
   "outputs": [
    {
     "data": {
      "application/vnd.jupyter.widget-view+json": {
       "model_id": "1816acd87d2f489e8995d25d10d0f5c5",
       "version_major": 2,
       "version_minor": 0
      },
      "text/plain": [
       "HBox(children=(IntProgress(value=0, description='Epoch', max=3), HTML(value='')))"
      ]
     },
     "metadata": {},
     "output_type": "display_data"
    },
    {
     "name": "stdout",
     "output_type": "stream",
     "text": [
      "epoch      trn_loss   val_loss   accuracy                  \n",
      "    0      0.255034   0.448638   0.833333  \n",
      "    1      0.241961   0.466086   0.813333                  \n",
      "    2      0.249191   0.47212    0.82                      \n",
      "\n"
     ]
    },
    {
     "data": {
      "text/plain": [
       "[array([0.47212]), 0.8200000007947286]"
      ]
     },
     "execution_count": 196,
     "metadata": {},
     "output_type": "execute_result"
    }
   ],
   "source": [
    "learn.fit(1e-1, 3, cycle_len=1)"
   ]
  },
  {
   "cell_type": "code",
   "execution_count": 197,
   "metadata": {},
   "outputs": [],
   "source": [
    "learn.save('224_multi_part3_1')"
   ]
  },
  {
   "cell_type": "code",
   "execution_count": 200,
   "metadata": {},
   "outputs": [
    {
     "data": {
      "application/vnd.jupyter.widget-view+json": {
       "model_id": "93b293854f924162abd9475fba920582",
       "version_major": 2,
       "version_minor": 0
      },
      "text/plain": [
       "HBox(children=(IntProgress(value=0, description='Epoch', max=1), HTML(value='')))"
      ]
     },
     "metadata": {},
     "output_type": "display_data"
    },
    {
     "name": "stdout",
     "output_type": "stream",
     "text": [
      " 93%|█████████▎| 80/86 [02:50<00:12,  2.13s/it, loss=0.634]"
     ]
    },
    {
     "data": {
      "image/png": "[encoded data removed]",
      "text/plain": [
       "<Figure size 432x288 with 1 Axes>"
      ]
     },
     "metadata": {
      "needs_background": "light"
     },
     "output_type": "display_data"
    }
   ],
   "source": [
    "learn.precompute = False\n",
    "lrf=learn.lr_find()\n",
    "learn.sched.plot()"
   ]
  },
  {
   "cell_type": "code",
   "execution_count": 201,
   "metadata": {},
   "outputs": [
    {
     "data": {
      "application/vnd.jupyter.widget-view+json": {
       "model_id": "7ccd2038132045488d4a4034507ecc73",
       "version_major": 2,
       "version_minor": 0
      },
      "text/plain": [
       "HBox(children=(IntProgress(value=0, description='Epoch', max=3), HTML(value='')))"
      ]
     },
     "metadata": {},
     "output_type": "display_data"
    },
    {
     "name": "stdout",
     "output_type": "stream",
     "text": [
      "epoch      trn_loss   val_loss   accuracy                  \n",
      "    0      0.269895   0.482738   0.813333  \n",
      "    1      0.257247   0.467752   0.82                      \n",
      "    2      0.252182   0.473153   0.813333                  \n"
     ]
    },
    {
     "data": {
      "text/plain": [
       "[array([0.47315]), 0.813333334128062]"
      ]
     },
     "execution_count": 201,
     "metadata": {},
     "output_type": "execute_result"
    }
   ],
   "source": [
    "learn.fit(1e-2, 2, cycle_len=1, cycle_mult=2)"
   ]
  },
  {
   "cell_type": "code",
   "execution_count": 202,
   "metadata": {},
   "outputs": [
    {
     "data": {
      "application/vnd.jupyter.widget-view+json": {
       "model_id": "7576375b7e434dd6859c3b9acc1517b0",
       "version_major": 2,
       "version_minor": 0
      },
      "text/plain": [
       "HBox(children=(IntProgress(value=0, description='Epoch', max=24), HTML(value='')))"
      ]
     },
     "metadata": {},
     "output_type": "display_data"
    },
    {
     "name": "stdout",
     "output_type": "stream",
     "text": [
      "epoch      trn_loss   val_loss   accuracy                  \n",
      "    0      0.320758   0.414514   0.826667  \n",
      "    1      0.276458   0.408954   0.84                      \n",
      "    2      0.265311   0.418435   0.82                      \n",
      "    3      0.256885   0.414706   0.833333                  \n",
      "    4      0.257364   0.409248   0.833333                  \n",
      "    5      0.241426   0.411671   0.846667                  \n",
      "    6      0.243927   0.409673   0.846667                  \n",
      "    7      0.229314   0.416766   0.826667                  \n",
      "    8      0.219436   0.410767   0.84                      \n",
      "    9      0.221191   0.411044   0.82                      \n",
      "    10     0.213018   0.404931   0.833333                  \n",
      "    11     0.203224   0.410033   0.833333                  \n",
      "    12     0.204563   0.413692   0.84                      \n",
      "    13     0.201655   0.405102   0.82                      \n",
      " 40%|███▉      | 34/86 [01:22<02:06,  2.43s/it, loss=0.197]"
     ]
    },
    {
     "ename": "KeyboardInterrupt",
     "evalue": "",
     "output_type": "error",
     "traceback": [
      "\u001b[0;31m---------------------------------------------------------------------------\u001b[0m",
      "\u001b[0;31mKeyboardInterrupt\u001b[0m                         Traceback (most recent call last)",
      "\u001b[0;32m<ipython-input-202-3ec6fafc170a>\u001b[0m in \u001b[0;36m<module>\u001b[0;34m\u001b[0m\n\u001b[1;32m      1\u001b[0m \u001b[0mlearn\u001b[0m\u001b[0;34m.\u001b[0m\u001b[0munfreeze\u001b[0m\u001b[0;34m(\u001b[0m\u001b[0;34m)\u001b[0m\u001b[0;34m\u001b[0m\u001b[0m\n\u001b[1;32m      2\u001b[0m \u001b[0mlr\u001b[0m\u001b[0;34m=\u001b[0m\u001b[0mnp\u001b[0m\u001b[0;34m.\u001b[0m\u001b[0marray\u001b[0m\u001b[0;34m(\u001b[0m\u001b[0;34m[\u001b[0m\u001b[0;36m1e-4\u001b[0m\u001b[0;34m,\u001b[0m\u001b[0;36m1e-3\u001b[0m\u001b[0;34m,\u001b[0m\u001b[0;36m1e-2\u001b[0m\u001b[0;34m]\u001b[0m\u001b[0;34m)\u001b[0m\u001b[0;34m\u001b[0m\u001b[0m\n\u001b[0;32m----> 3\u001b[0;31m \u001b[0mlearn\u001b[0m\u001b[0;34m.\u001b[0m\u001b[0mfit\u001b[0m\u001b[0;34m(\u001b[0m\u001b[0mlr\u001b[0m\u001b[0;34m,\u001b[0m \u001b[0;36m8\u001b[0m\u001b[0;34m,\u001b[0m \u001b[0mcycle_len\u001b[0m\u001b[0;34m=\u001b[0m\u001b[0;36m3\u001b[0m\u001b[0;34m)\u001b[0m\u001b[0;34m\u001b[0m\u001b[0m\n\u001b[0m",
      "\u001b[0;32m~/src/fastai/courses/projects/fastai/learner.py\u001b[0m in \u001b[0;36mfit\u001b[0;34m(self, lrs, n_cycle, wds, **kwargs)\u001b[0m\n\u001b[1;32m    300\u001b[0m         \u001b[0mself\u001b[0m\u001b[0;34m.\u001b[0m\u001b[0msched\u001b[0m \u001b[0;34m=\u001b[0m \u001b[0;32mNone\u001b[0m\u001b[0;34m\u001b[0m\u001b[0m\n\u001b[1;32m    301\u001b[0m         \u001b[0mlayer_opt\u001b[0m \u001b[0;34m=\u001b[0m \u001b[0mself\u001b[0m\u001b[0;34m.\u001b[0m\u001b[0mget_layer_opt\u001b[0m\u001b[0;34m(\u001b[0m\u001b[0mlrs\u001b[0m\u001b[0;34m,\u001b[0m \u001b[0mwds\u001b[0m\u001b[0;34m)\u001b[0m\u001b[0;34m\u001b[0m\u001b[0m\n\u001b[0;32m--> 302\u001b[0;31m         \u001b[0;32mreturn\u001b[0m \u001b[0mself\u001b[0m\u001b[0;34m.\u001b[0m\u001b[0mfit_gen\u001b[0m\u001b[0;34m(\u001b[0m\u001b[0mself\u001b[0m\u001b[0;34m.\u001b[0m\u001b[0mmodel\u001b[0m\u001b[0;34m,\u001b[0m \u001b[0mself\u001b[0m\u001b[0;34m.\u001b[0m\u001b[0mdata\u001b[0m\u001b[0;34m,\u001b[0m \u001b[0mlayer_opt\u001b[0m\u001b[0;34m,\u001b[0m \u001b[0mn_cycle\u001b[0m\u001b[0;34m,\u001b[0m \u001b[0;34m**\u001b[0m\u001b[0mkwargs\u001b[0m\u001b[0;34m)\u001b[0m\u001b[0;34m\u001b[0m\u001b[0m\n\u001b[0m\u001b[1;32m    303\u001b[0m \u001b[0;34m\u001b[0m\u001b[0m\n\u001b[1;32m    304\u001b[0m     \u001b[0;32mdef\u001b[0m \u001b[0mwarm_up\u001b[0m\u001b[0;34m(\u001b[0m\u001b[0mself\u001b[0m\u001b[0;34m,\u001b[0m \u001b[0mlr\u001b[0m\u001b[0;34m,\u001b[0m \u001b[0mwds\u001b[0m\u001b[0;34m=\u001b[0m\u001b[0;32mNone\u001b[0m\u001b[0;34m)\u001b[0m\u001b[0;34m:\u001b[0m\u001b[0;34m\u001b[0m\u001b[0m\n",
      "\u001b[0;32m~/src/fastai/courses/projects/fastai/learner.py\u001b[0m in \u001b[0;36mfit_gen\u001b[0;34m(self, model, data, layer_opt, n_cycle, cycle_len, cycle_mult, cycle_save_name, best_save_name, use_clr, use_clr_beta, metrics, callbacks, use_wd_sched, norm_wds, wds_sched_mult, use_swa, swa_start, swa_eval_freq, **kwargs)\u001b[0m\n\u001b[1;32m    247\u001b[0m             \u001b[0mmetrics\u001b[0m\u001b[0;34m=\u001b[0m\u001b[0mmetrics\u001b[0m\u001b[0;34m,\u001b[0m \u001b[0mcallbacks\u001b[0m\u001b[0;34m=\u001b[0m\u001b[0mcallbacks\u001b[0m\u001b[0;34m,\u001b[0m \u001b[0mreg_fn\u001b[0m\u001b[0;34m=\u001b[0m\u001b[0mself\u001b[0m\u001b[0;34m.\u001b[0m\u001b[0mreg_fn\u001b[0m\u001b[0;34m,\u001b[0m \u001b[0mclip\u001b[0m\u001b[0;34m=\u001b[0m\u001b[0mself\u001b[0m\u001b[0;34m.\u001b[0m\u001b[0mclip\u001b[0m\u001b[0;34m,\u001b[0m \u001b[0mfp16\u001b[0m\u001b[0;34m=\u001b[0m\u001b[0mself\u001b[0m\u001b[0;34m.\u001b[0m\u001b[0mfp16\u001b[0m\u001b[0;34m,\u001b[0m\u001b[0;34m\u001b[0m\u001b[0m\n\u001b[1;32m    248\u001b[0m             \u001b[0mswa_model\u001b[0m\u001b[0;34m=\u001b[0m\u001b[0mself\u001b[0m\u001b[0;34m.\u001b[0m\u001b[0mswa_model\u001b[0m \u001b[0;32mif\u001b[0m \u001b[0muse_swa\u001b[0m \u001b[0;32melse\u001b[0m \u001b[0;32mNone\u001b[0m\u001b[0;34m,\u001b[0m \u001b[0mswa_start\u001b[0m\u001b[0;34m=\u001b[0m\u001b[0mswa_start\u001b[0m\u001b[0;34m,\u001b[0m\u001b[0;34m\u001b[0m\u001b[0m\n\u001b[0;32m--> 249\u001b[0;31m             swa_eval_freq=swa_eval_freq, **kwargs)\n\u001b[0m\u001b[1;32m    250\u001b[0m \u001b[0;34m\u001b[0m\u001b[0m\n\u001b[1;32m    251\u001b[0m     \u001b[0;32mdef\u001b[0m \u001b[0mget_layer_groups\u001b[0m\u001b[0;34m(\u001b[0m\u001b[0mself\u001b[0m\u001b[0;34m)\u001b[0m\u001b[0;34m:\u001b[0m \u001b[0;32mreturn\u001b[0m \u001b[0mself\u001b[0m\u001b[0;34m.\u001b[0m\u001b[0mmodels\u001b[0m\u001b[0;34m.\u001b[0m\u001b[0mget_layer_groups\u001b[0m\u001b[0;34m(\u001b[0m\u001b[0;34m)\u001b[0m\u001b[0;34m\u001b[0m\u001b[0m\n",
      "\u001b[0;32m~/src/fastai/courses/projects/fastai/model.py\u001b[0m in \u001b[0;36mfit\u001b[0;34m(model, data, n_epochs, opt, crit, metrics, callbacks, stepper, swa_model, swa_start, swa_eval_freq, visualize, **kwargs)\u001b[0m\n\u001b[1;32m    136\u001b[0m         \u001b[0;32mif\u001b[0m \u001b[0mall_val\u001b[0m\u001b[0;34m:\u001b[0m \u001b[0mval_iter\u001b[0m \u001b[0;34m=\u001b[0m \u001b[0mIterBatch\u001b[0m\u001b[0;34m(\u001b[0m\u001b[0mcur_data\u001b[0m\u001b[0;34m.\u001b[0m\u001b[0mval_dl\u001b[0m\u001b[0;34m)\u001b[0m\u001b[0;34m\u001b[0m\u001b[0m\n\u001b[1;32m    137\u001b[0m \u001b[0;34m\u001b[0m\u001b[0m\n\u001b[0;32m--> 138\u001b[0;31m         \u001b[0;32mfor\u001b[0m \u001b[0;34m(\u001b[0m\u001b[0;34m*\u001b[0m\u001b[0mx\u001b[0m\u001b[0;34m,\u001b[0m\u001b[0my\u001b[0m\u001b[0;34m)\u001b[0m \u001b[0;32min\u001b[0m \u001b[0mt\u001b[0m\u001b[0;34m:\u001b[0m\u001b[0;34m\u001b[0m\u001b[0m\n\u001b[0m\u001b[1;32m    139\u001b[0m             \u001b[0mbatch_num\u001b[0m \u001b[0;34m+=\u001b[0m \u001b[0;36m1\u001b[0m\u001b[0;34m\u001b[0m\u001b[0m\n\u001b[1;32m    140\u001b[0m             \u001b[0;32mfor\u001b[0m \u001b[0mcb\u001b[0m \u001b[0;32min\u001b[0m \u001b[0mcallbacks\u001b[0m\u001b[0;34m:\u001b[0m \u001b[0mcb\u001b[0m\u001b[0;34m.\u001b[0m\u001b[0mon_batch_begin\u001b[0m\u001b[0;34m(\u001b[0m\u001b[0;34m)\u001b[0m\u001b[0;34m\u001b[0m\u001b[0m\n",
      "\u001b[0;32m~/anaconda3/envs/fastai/lib/python3.6/site-packages/tqdm/_tqdm.py\u001b[0m in \u001b[0;36m__iter__\u001b[0;34m(self)\u001b[0m\n\u001b[1;32m    928\u001b[0m \"\"\", fp_write=getattr(self.fp, 'write', sys.stderr.write))\n\u001b[1;32m    929\u001b[0m \u001b[0;34m\u001b[0m\u001b[0m\n\u001b[0;32m--> 930\u001b[0;31m             \u001b[0;32mfor\u001b[0m \u001b[0mobj\u001b[0m \u001b[0;32min\u001b[0m \u001b[0miterable\u001b[0m\u001b[0;34m:\u001b[0m\u001b[0;34m\u001b[0m\u001b[0m\n\u001b[0m\u001b[1;32m    931\u001b[0m                 \u001b[0;32myield\u001b[0m \u001b[0mobj\u001b[0m\u001b[0;34m\u001b[0m\u001b[0m\n\u001b[1;32m    932\u001b[0m                 \u001b[0;31m# Update and possibly print the progressbar.\u001b[0m\u001b[0;34m\u001b[0m\u001b[0;34m\u001b[0m\u001b[0m\n",
      "\u001b[0;32m~/src/fastai/courses/projects/fastai/dataloader.py\u001b[0m in \u001b[0;36m__iter__\u001b[0;34m(self)\u001b[0m\n\u001b[1;32m     86\u001b[0m                 \u001b[0;31m# avoid py3.6 issue where queue is infinite and can result in memory exhaustion\u001b[0m\u001b[0;34m\u001b[0m\u001b[0;34m\u001b[0m\u001b[0m\n\u001b[1;32m     87\u001b[0m                 \u001b[0;32mfor\u001b[0m \u001b[0mc\u001b[0m \u001b[0;32min\u001b[0m \u001b[0mchunk_iter\u001b[0m\u001b[0;34m(\u001b[0m\u001b[0miter\u001b[0m\u001b[0;34m(\u001b[0m\u001b[0mself\u001b[0m\u001b[0;34m.\u001b[0m\u001b[0mbatch_sampler\u001b[0m\u001b[0;34m)\u001b[0m\u001b[0;34m,\u001b[0m \u001b[0mself\u001b[0m\u001b[0;34m.\u001b[0m\u001b[0mnum_workers\u001b[0m\u001b[0;34m*\u001b[0m\u001b[0;36m10\u001b[0m\u001b[0;34m)\u001b[0m\u001b[0;34m:\u001b[0m\u001b[0;34m\u001b[0m\u001b[0m\n\u001b[0;32m---> 88\u001b[0;31m                     \u001b[0;32mfor\u001b[0m \u001b[0mbatch\u001b[0m \u001b[0;32min\u001b[0m \u001b[0me\u001b[0m\u001b[0;34m.\u001b[0m\u001b[0mmap\u001b[0m\u001b[0;34m(\u001b[0m\u001b[0mself\u001b[0m\u001b[0;34m.\u001b[0m\u001b[0mget_batch\u001b[0m\u001b[0;34m,\u001b[0m \u001b[0mc\u001b[0m\u001b[0;34m)\u001b[0m\u001b[0;34m:\u001b[0m\u001b[0;34m\u001b[0m\u001b[0m\n\u001b[0m\u001b[1;32m     89\u001b[0m                         \u001b[0;32myield\u001b[0m \u001b[0mget_tensor\u001b[0m\u001b[0;34m(\u001b[0m\u001b[0mbatch\u001b[0m\u001b[0;34m,\u001b[0m \u001b[0mself\u001b[0m\u001b[0;34m.\u001b[0m\u001b[0mpin_memory\u001b[0m\u001b[0;34m,\u001b[0m \u001b[0mself\u001b[0m\u001b[0;34m.\u001b[0m\u001b[0mhalf\u001b[0m\u001b[0;34m)\u001b[0m\u001b[0;34m\u001b[0m\u001b[0m\n\u001b[1;32m     90\u001b[0m \u001b[0;34m\u001b[0m\u001b[0m\n",
      "\u001b[0;32m~/anaconda3/envs/fastai/lib/python3.6/concurrent/futures/_base.py\u001b[0m in \u001b[0;36mresult_iterator\u001b[0;34m()\u001b[0m\n\u001b[1;32m    584\u001b[0m                     \u001b[0;31m# Careful not to keep a reference to the popped future\u001b[0m\u001b[0;34m\u001b[0m\u001b[0;34m\u001b[0m\u001b[0m\n\u001b[1;32m    585\u001b[0m                     \u001b[0;32mif\u001b[0m \u001b[0mtimeout\u001b[0m \u001b[0;32mis\u001b[0m \u001b[0;32mNone\u001b[0m\u001b[0;34m:\u001b[0m\u001b[0;34m\u001b[0m\u001b[0m\n\u001b[0;32m--> 586\u001b[0;31m                         \u001b[0;32myield\u001b[0m \u001b[0mfs\u001b[0m\u001b[0;34m.\u001b[0m\u001b[0mpop\u001b[0m\u001b[0;34m(\u001b[0m\u001b[0;34m)\u001b[0m\u001b[0;34m.\u001b[0m\u001b[0mresult\u001b[0m\u001b[0;34m(\u001b[0m\u001b[0;34m)\u001b[0m\u001b[0;34m\u001b[0m\u001b[0m\n\u001b[0m\u001b[1;32m    587\u001b[0m                     \u001b[0;32melse\u001b[0m\u001b[0;34m:\u001b[0m\u001b[0;34m\u001b[0m\u001b[0m\n\u001b[1;32m    588\u001b[0m                         \u001b[0;32myield\u001b[0m \u001b[0mfs\u001b[0m\u001b[0;34m.\u001b[0m\u001b[0mpop\u001b[0m\u001b[0;34m(\u001b[0m\u001b[0;34m)\u001b[0m\u001b[0;34m.\u001b[0m\u001b[0mresult\u001b[0m\u001b[0;34m(\u001b[0m\u001b[0mend_time\u001b[0m \u001b[0;34m-\u001b[0m \u001b[0mtime\u001b[0m\u001b[0;34m.\u001b[0m\u001b[0mtime\u001b[0m\u001b[0;34m(\u001b[0m\u001b[0;34m)\u001b[0m\u001b[0;34m)\u001b[0m\u001b[0;34m\u001b[0m\u001b[0m\n",
      "\u001b[0;32m~/anaconda3/envs/fastai/lib/python3.6/concurrent/futures/_base.py\u001b[0m in \u001b[0;36mresult\u001b[0;34m(self, timeout)\u001b[0m\n\u001b[1;32m    425\u001b[0m                 \u001b[0;32mreturn\u001b[0m \u001b[0mself\u001b[0m\u001b[0;34m.\u001b[0m\u001b[0m__get_result\u001b[0m\u001b[0;34m(\u001b[0m\u001b[0;34m)\u001b[0m\u001b[0;34m\u001b[0m\u001b[0m\n\u001b[1;32m    426\u001b[0m \u001b[0;34m\u001b[0m\u001b[0m\n\u001b[0;32m--> 427\u001b[0;31m             \u001b[0mself\u001b[0m\u001b[0;34m.\u001b[0m\u001b[0m_condition\u001b[0m\u001b[0;34m.\u001b[0m\u001b[0mwait\u001b[0m\u001b[0;34m(\u001b[0m\u001b[0mtimeout\u001b[0m\u001b[0;34m)\u001b[0m\u001b[0;34m\u001b[0m\u001b[0m\n\u001b[0m\u001b[1;32m    428\u001b[0m \u001b[0;34m\u001b[0m\u001b[0m\n\u001b[1;32m    429\u001b[0m             \u001b[0;32mif\u001b[0m \u001b[0mself\u001b[0m\u001b[0;34m.\u001b[0m\u001b[0m_state\u001b[0m \u001b[0;32min\u001b[0m \u001b[0;34m[\u001b[0m\u001b[0mCANCELLED\u001b[0m\u001b[0;34m,\u001b[0m \u001b[0mCANCELLED_AND_NOTIFIED\u001b[0m\u001b[0;34m]\u001b[0m\u001b[0;34m:\u001b[0m\u001b[0;34m\u001b[0m\u001b[0m\n",
      "\u001b[0;32m~/anaconda3/envs/fastai/lib/python3.6/threading.py\u001b[0m in \u001b[0;36mwait\u001b[0;34m(self, timeout)\u001b[0m\n\u001b[1;32m    293\u001b[0m         \u001b[0;32mtry\u001b[0m\u001b[0;34m:\u001b[0m    \u001b[0;31m# restore state no matter what (e.g., KeyboardInterrupt)\u001b[0m\u001b[0;34m\u001b[0m\u001b[0m\n\u001b[1;32m    294\u001b[0m             \u001b[0;32mif\u001b[0m \u001b[0mtimeout\u001b[0m \u001b[0;32mis\u001b[0m \u001b[0;32mNone\u001b[0m\u001b[0;34m:\u001b[0m\u001b[0;34m\u001b[0m\u001b[0m\n\u001b[0;32m--> 295\u001b[0;31m                 \u001b[0mwaiter\u001b[0m\u001b[0;34m.\u001b[0m\u001b[0macquire\u001b[0m\u001b[0;34m(\u001b[0m\u001b[0;34m)\u001b[0m\u001b[0;34m\u001b[0m\u001b[0m\n\u001b[0m\u001b[1;32m    296\u001b[0m                 \u001b[0mgotit\u001b[0m \u001b[0;34m=\u001b[0m \u001b[0;32mTrue\u001b[0m\u001b[0;34m\u001b[0m\u001b[0m\n\u001b[1;32m    297\u001b[0m             \u001b[0;32melse\u001b[0m\u001b[0;34m:\u001b[0m\u001b[0;34m\u001b[0m\u001b[0m\n",
      "\u001b[0;31mKeyboardInterrupt\u001b[0m: "
     ]
    }
   ],
   "source": [
    "learn.unfreeze()\n",
    "lr=np.array([1e-4,1e-3,1e-2])\n",
    "learn.fit(lr, 5, cycle_len=3)"
   ]
  },
  {
   "cell_type": "markdown",
   "metadata": {},
   "source": [
    "## Evaluation"
   ]
  },
  {
   "cell_type": "code",
   "execution_count": 203,
   "metadata": {},
   "outputs": [
    {
     "name": "stdout",
     "output_type": "stream",
     "text": [
      "Accuracy = 0.85                              \n",
      "Confusion Matrix:\n",
      "[[117   3]\n",
      " [ 20  10]]\n",
      "AUC for class 0, id 0 = 0.82\n",
      "AUC for class 1, id 1 = 0.82\n",
      "----------------------------------------\n",
      "[[117   3]\n",
      " [ 20  10]]\n"
     ]
    },
    {
     "data": {
      "image/png": "[encoded data removed]",
      "text/plain": [
       "<Figure size 432x288 with 2 Axes>"
      ]
     },
     "metadata": {
      "needs_background": "light"
     },
     "output_type": "display_data"
    },
    {
     "data": {
      "image/png": "[encoded data removed]",
      "text/plain": [
       "<Figure size 432x288 with 1 Axes>"
      ]
     },
     "metadata": {
      "needs_background": "light"
     },
     "output_type": "display_data"
    },
    {
     "data": {
      "image/png": "[encoded data removed]",
      "text/plain": [
       "<Figure size 432x288 with 1 Axes>"
      ]
     },
     "metadata": {
      "needs_background": "light"
     },
     "output_type": "display_data"
    }
   ],
   "source": [
    "vf_preds, vy, vacc, vcm, vroc_auc, vfpr, vtpr = run_test(learn, sf=True)"
   ]
  },
  {
   "cell_type": "code",
   "execution_count": 229,
   "metadata": {},
   "outputs": [
    {
     "name": "stdout",
     "output_type": "stream",
     "text": [
      "Loading ys from csv; shape (600,); vals [0 1]\n",
      "Accuracy = 0.72\n",
      "Confusion Matrix:\n",
      "[[419  64]\n",
      " [104  13]]\n",
      "AUC for class 0, id 0 = 0.51\n",
      "AUC for class 1, id 1 = 0.51\n",
      "----------------------------------------\n",
      "[[419  64]\n",
      " [104  13]]\n"
     ]
    },
    {
     "data": {
      "image/png": "[encoded data removed]",
      "text/plain": [
       "<Figure size 432x288 with 2 Axes>"
      ]
     },
     "metadata": {
      "needs_background": "light"
     },
     "output_type": "display_data"
    },
    {
     "data": {
      "image/png": "[encoded data removed]",
      "text/plain": [
       "<Figure size 432x288 with 1 Axes>"
      ]
     },
     "metadata": {
      "needs_background": "light"
     },
     "output_type": "display_data"
    },
    {
     "data": {
      "image/png": "[encoded data removed]",
      "text/plain": [
       "<Figure size 432x288 with 1 Axes>"
      ]
     },
     "metadata": {
      "needs_background": "light"
     },
     "output_type": "display_data"
    }
   ],
   "source": [
    "vf_preds, vy, vacc, vcm, vroc_auc, vfpr, vtpr = run_test(learn, ts=True, sf=True, test_csv=t_mel_p)"
   ]
  },
  {
   "cell_type": "code",
   "execution_count": 231,
   "metadata": {},
   "outputs": [
    {
     "data": {
      "text/plain": [
       "'resnet34'"
      ]
     },
     "execution_count": 231,
     "metadata": {},
     "output_type": "execute_result"
    }
   ],
   "source": [
    "arch.__name__"
   ]
  }
 ],
 "metadata": {
  "kernelspec": {
   "display_name": "Python 3",
   "language": "python",
   "name": "python3"
  },
  "language_info": {
   "codemirror_mode": {
    "name": "ipython",
    "version": 3
   },
   "file_extension": ".py",
   "mimetype": "text/x-python",
   "name": "python",
   "nbconvert_exporter": "python",
   "pygments_lexer": "ipython3",
   "version": "3.6.5"
  }
 },
 "nbformat": 4,
 "nbformat_minor": 2
}
