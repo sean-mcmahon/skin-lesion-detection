{
 "cells": [
  {
   "cell_type": "code",
   "execution_count": 56,
   "metadata": {},
   "outputs": [
    {
     "data": {
      "text/plain": [
       "(True, True)"
      ]
     },
     "execution_count": 56,
     "metadata": {},
     "output_type": "execute_result"
    }
   ],
   "source": [
    "%reload_ext autoreload\n",
    "%autoreload 2\n",
    "%matplotlib inline\n",
    "from classifier import *\n",
    "torch.cuda.is_available(), torch.backends.cudnn.enabled"
   ]
  },
  {
   "cell_type": "code",
   "execution_count": 57,
   "metadata": {},
   "outputs": [
    {
     "name": "stdout",
     "output_type": "stream",
     "text": [
      "\u001b[0m\u001b[01;34mdermofit\u001b[0m/                        \u001b[01;32mtrain_multi_half_ia_nervi.csv\u001b[0m*\r\n",
      "\u001b[01;34mISIC\u001b[0m/                            \u001b[01;32mtrain_multi_mel.csv\u001b[0m*\r\n",
      "\u001b[01;32misic18_p3_test_data\u001b[0m*             \u001b[01;32mtrain_multi_no_ia_nervi.csv\u001b[0m*\r\n",
      "\u001b[01;34misic_archive\u001b[0m/                    \u001b[01;32mtrain_multi_raw.csv\u001b[0m*\r\n",
      "\u001b[01;34mmodels\u001b[0m/                          \u001b[01;32mtrain_multi_raw_half_ia_nervi.csv\u001b[0m*\r\n",
      "\u001b[01;34mph2dataset\u001b[0m/                      \u001b[01;32mtrain_multi_raw_no_ia_nervi.csv\u001b[0m*\r\n",
      "\u001b[01;32mtest_isic17_dermofitLabels.csv\u001b[0m*  \u001b[01;32mtrain_multi_sk.csv\u001b[0m*\r\n",
      "\u001b[01;34mtmp\u001b[0m/                             \u001b[01;32mtrain_seg_isic17_dermo.csv\u001b[0m*\r\n",
      "\u001b[01;32mtrain_dermofit_isic17.csv\u001b[0m*       \u001b[01;32mtrain_test_Mel_seg_isic17_dermo.csv\u001b[0m*\r\n",
      "\u001b[01;32mtrain_Mel_seg_isic17_dermo.csv\u001b[0m*  \u001b[01;32mval_isic17.csv\u001b[0m*\r\n",
      "\u001b[01;32mtrain_multi.csv\u001b[0m*\r\n"
     ]
    }
   ],
   "source": [
    "PATH = Path('/home/sean/hpc-home/skin_cancer/')\n",
    "test_folder = 'ISIC/ISIC-2017_Test_v2_Data_Classification/'\n",
    "test_csv = PATH / 'ISIC/test_isic17.csv'\n",
    "\n",
    "test_mel_p = PATH / 'ISIC/test_mel_17.csv'\n",
    "test_ker_p = PATH / 'ISIC/test_ker_17.csv'\n",
    "test_all_p = PATH / 'ISIC/test_all_17.csv'\n",
    "test_raw_p = PATH / 'ISIC/test_raw_17.csv'\n",
    "\n",
    "train_skp = PATH / 'train_multi_sk.csv'\n",
    "train_melp = PATH / 'train_multi_mel.csv'\n",
    "train_all = PATH / 'train_multi.csv'\n",
    "train_raw = PATH / 'train_multi_raw.csv'\n",
    "\n",
    "%ls $PATH"
   ]
  },
  {
   "cell_type": "markdown",
   "metadata": {},
   "source": [
    "## Setup Trainer"
   ]
  },
  {
   "cell_type": "code",
   "execution_count": 58,
   "metadata": {},
   "outputs": [
    {
     "name": "stdout",
     "output_type": "stream",
     "text": [
      "Saving model as \"resnet101_all\"\n",
      "Dataset has: ['keratosis', 'melanoma', 'nevus'] classes\n"
     ]
    }
   ],
   "source": [
    "# The network architecture to use, resnet34 is a good start, will get better performance with resnext50 or inceptionv4\n",
    "arch=resnet101\n",
    "# image size\n",
    "sz=224\n",
    "bs=64\n",
    "train_csv = train_all\n",
    "val_idx = list(range(5615 - 150, 5615))\n",
    "# len(train_df) = 5615\n",
    "test_csv = test_all_p\n",
    "w_name = 'resnet101_all'\n",
    "\n",
    "trainer = ClassifierTrainer(PATH, arch, sz, bs, train_csv, \n",
    "                  test_folder=test_folder, val_idx=val_idx, sn=w_name, num_workers=4, test_csv=test_csv)"
   ]
  },
  {
   "cell_type": "code",
   "execution_count": 4,
   "metadata": {},
   "outputs": [
    {
     "data": {
      "application/vnd.jupyter.widget-view+json": {
       "model_id": "64007995703d43fab42c809a06bca349",
       "version_major": 2,
       "version_minor": 0
      },
      "text/plain": [
       "HBox(children=(IntProgress(value=0, description='Epoch', max=1), HTML(value='')))"
      ]
     },
     "metadata": {},
     "output_type": "display_data"
    },
    {
     "name": "stdout",
     "output_type": "stream",
     "text": [
      " 85%|████████▍ | 73/86 [00:06<00:01, 11.74it/s, loss=1.2]  \n",
      "                                                         \r"
     ]
    },
    {
     "data": {
      "image/png": "[encoded data removed]",
      "text/plain": [
       "<Figure size 432x288 with 1 Axes>"
      ]
     },
     "metadata": {
      "needs_background": "light"
     },
     "output_type": "display_data"
    }
   ],
   "source": [
    "trainer.lr_find()"
   ]
  },
  {
   "cell_type": "code",
   "execution_count": 6,
   "metadata": {},
   "outputs": [
    {
     "data": {
      "application/vnd.jupyter.widget-view+json": {
       "model_id": "627da09c939645969abf715ccaa1db99",
       "version_major": 2,
       "version_minor": 0
      },
      "text/plain": [
       "HBox(children=(IntProgress(value=0, description='Epoch', max=2), HTML(value='')))"
      ]
     },
     "metadata": {},
     "output_type": "display_data"
    },
    {
     "name": "stdout",
     "output_type": "stream",
     "text": [
      "epoch      trn_loss   val_loss   accuracy                  \n",
      "    0      0.494372   1.572897   0.513333  \n",
      "    1      0.382344   1.431871   0.533333                  \n",
      "\n"
     ]
    },
    {
     "data": {
      "application/vnd.jupyter.widget-view+json": {
       "model_id": "62117f37d4c4455da799f5cf46371a07",
       "version_major": 2,
       "version_minor": 0
      },
      "text/plain": [
       "HBox(children=(IntProgress(value=0, description='Epoch', max=2), HTML(value='')))"
      ]
     },
     "metadata": {},
     "output_type": "display_data"
    },
    {
     "name": "stdout",
     "output_type": "stream",
     "text": [
      "epoch      trn_loss   val_loss   accuracy                  \n",
      "    0      0.341446   1.443237   0.546667  \n",
      "    1      0.309397   1.51154    0.553333                  \n",
      "\n"
     ]
    },
    {
     "data": {
      "application/vnd.jupyter.widget-view+json": {
       "model_id": "d6d1e1be931f43df9601fc4497e59b85",
       "version_major": 2,
       "version_minor": 0
      },
      "text/plain": [
       "HBox(children=(IntProgress(value=0, description='Epoch', max=1), HTML(value='')))"
      ]
     },
     "metadata": {},
     "output_type": "display_data"
    },
    {
     "name": "stdout",
     "output_type": "stream",
     "text": [
      "epoch      trn_loss   val_loss   accuracy                  \n",
      "    0      0.370357   1.682567   0.54      \n",
      "\n",
      "Saved weights as \"resnet101_all_1\"\n"
     ]
    }
   ],
   "source": [
    "trainer.set_lr(1e-2)\n",
    "trainer.init_fit(w_name + '_1')"
   ]
  },
  {
   "cell_type": "code",
   "execution_count": 59,
   "metadata": {},
   "outputs": [],
   "source": [
    "trainer.load(w_name + '_1')"
   ]
  },
  {
   "cell_type": "code",
   "execution_count": 54,
   "metadata": {},
   "outputs": [
    {
     "name": "stdout",
     "output_type": "stream",
     "text": [
      "Accuracy = 0.54\n",
      "Confusion Matrix:\n",
      "[[ 0  5 37]\n",
      " [ 0  6 24]\n",
      " [ 0  3 75]]\n",
      "AUC for class 0, id keratosis = 0.76\n",
      "AUC for class 1, id melanoma = 0.75\n",
      "AUC for class 2, id nevus = 0.77\n"
     ]
    }
   ],
   "source": [
    "vres = trainer.test_val(tta=False, sf=False)"
   ]
  },
  {
   "cell_type": "code",
   "execution_count": 60,
   "metadata": {},
   "outputs": [
    {
     "name": "stdout",
     "output_type": "stream",
     "text": [
      "Loading ys from csv; shape (600,); vals [0 1 2]; in folder \"ISIC/ISIC-2017_Test_v2_Data_Classification/\"\n",
      "Accuracy = 0.20\n",
      "Confusion Matrix:\n",
      "[[  0  36  81]\n",
      " [  0  32 361]\n",
      " [  0   4  86]]\n",
      "AUC for class 0, id keratosis = 0.55\n",
      "AUC for class 1, id melanoma = 0.37\n",
      "AUC for class 2, id nevus = 0.52\n"
     ]
    }
   ],
   "source": [
    "tres = trainer.test_eval(tta=False, sf=False)"
   ]
  },
  {
   "cell_type": "code",
   "execution_count": 40,
   "metadata": {},
   "outputs": [],
   "source": [
    "fnames, _, _ = csv_source(trainer.test_folder, trainer.test_csv, suffix='')\n",
    "fnames,_ = parse_csv_labels(trainer.test_csv, True, ' ')"
   ]
  },
  {
   "cell_type": "code",
   "execution_count": 61,
   "metadata": {},
   "outputs": [
    {
     "data": {
      "application/vnd.jupyter.widget-view+json": {
       "model_id": "07057095d7bb4eacb1490271ce2eca30",
       "version_major": 2,
       "version_minor": 0
      },
      "text/plain": [
       "HBox(children=(IntProgress(value=0, description='Epoch', max=7), HTML(value='')))"
      ]
     },
     "metadata": {},
     "output_type": "display_data"
    },
    {
     "name": "stdout",
     "output_type": "stream",
     "text": [
      "epoch      trn_loss   val_loss   accuracy                  \n",
      "    0      0.332072   1.537775   0.56      \n",
      "    1      0.340891   1.637344   0.56                      \n",
      "    2      0.327527   1.660308   0.573333                  \n",
      "    3      0.331596   1.67025    0.573333                  \n",
      "    4      0.31588    1.703061   0.56                      \n",
      "    5      0.314274   1.696999   0.566667                  \n",
      "    6      0.290934   1.693178   0.58                      \n",
      "\n",
      "Saved weights as \"resnet101_all_2\"\n"
     ]
    }
   ],
   "source": [
    "trainer.inter_fit(w_name + '_2')"
   ]
  },
  {
   "cell_type": "code",
   "execution_count": 62,
   "metadata": {},
   "outputs": [
    {
     "name": "stdout",
     "output_type": "stream",
     "text": [
      "Loading ys from csv; shape (600,); vals [0 1 2]; in folder \"ISIC/ISIC-2017_Test_v2_Data_Classification/\"\n",
      "Accuracy = 0.20\n",
      "Confusion Matrix:\n",
      "[[  0  51  66]\n",
      " [  0  43 350]\n",
      " [  0  10  80]]\n",
      "AUC for class 0, id keratosis = 0.57\n",
      "AUC for class 1, id melanoma = 0.35\n",
      "AUC for class 2, id nevus = 0.52\n"
     ]
    },
    {
     "data": {
      "text/plain": [
       "[array([1, 2, 2, 2, 2, 2, 2, 2, 2, 2, 2, 2, 2, 2, 2, 1, 2, 2, 2, 2, 2, 2, 1, 2, 2, 1, 2, 2, 2, 2, 2, 2, 2, 1,\n",
       "        2, 2, 2, 2, 2, 2, 2, 2, 1, 2, 2, 2, 2, 2, 2, 1, 2, 2, 2, 2, 2, 2, 2, 2, 2, 2, 2, 2, 2, 2, 2, 2, 2, 2,\n",
       "        2, 2, 2, 2, 2, 2, 2, 2, 2, 2, 1, 2, 2, 2, 2, 2, 2, 2, 1, 2, 2, 2, 2, 2, 2, 2, 1, 2, 1, 2, 2, 2, 2, 2,\n",
       "        1, 1, 2, 2, 2, 1, 1, 2, 2, 2, 2, 2, 2, 1, 2, 2, 1, 2, 2, 2, 2, 2, 2, 2, 1, 2, 2, 2, 1, 1, 1, 1, 2, 2,\n",
       "        2, 2, 1, 2, 2, 2, 1, 2, 2, 2, 2, 1, 2, 2, 2, 2, 2, 2, 2, 2, 2, 2, 2, 2, 2, 1, 2, 2, 2, 2, 2, 2, 2, 2,\n",
       "        2, 2, 1, 2, 1, 1, 2, 2, 2, 1, 2, 2, 2, 2, 2, 2, 1, 1, 2, 2, 1, 2, 2, 2, 1, 2, 1, 2, 2, 2, 1, 2, 2, 2,\n",
       "        2, 1, 2, 2, 2, 2, 2, 2, 2, 2, 2, 2, 2, 2, 2, 1, 1, 2, 2, 2, 2, 2, 2, 2, 1, 2, 2, 1, 2, 2, 2, 2, 2, 2,\n",
       "        1, 2, 2, 1, 2, 2, 2, 2, 1, 2, 2, 1, 2, 2, 2, 1, 1, 2, 2, 2, 2, 2, 2, 2, 2, 2, 2, 2, 2, 2, 2, 2, 2, 2,\n",
       "        2, 2, 2, 2, 1, 2, 2, 2, 1, 2, 2, 2, 2, 2, 2, 2, 2, 1, 2, 2, 2, 1, 2, 2, 2, 2, 2, 1, 2, 1, 1, 2, 1, 2,\n",
       "        2, 1, 2, 2, 2, 2, 2, 2, 2, 2, 2, 1, 1, 2, 2, 2, 1, 2, 2, 2, 2, 2, 2, 1, 2, 2, 2, 1, 2, 1, 2, 1, 2, 2,\n",
       "        1, 1, 2, 2, 2, 2, 2, 1, 2, 1, 1, 2, 1, 2, 1, 2, 2, 1, 2, 1, 2, 2, 2, 1, 2, 2, 2, 1, 1, 2, 2, 2, 2, 2,\n",
       "        2, 1, 2, 1, 1, 2, 2, 1, 1, 1, 1, 2, 2, 1, 2, 2, 2, 2, 2, 1, 1, 1, 2, 2, 2, 2, 2, 2, 2, 2, 2, 2, 2, 2,\n",
       "        2, 2, 2, 2, 2, 2, 2, 2, 2, 2, 2, 1, 2, 2, 2, 2, 2, 2, 2, 2, 2, 2, 2, 2, 2, 1, 2, 2, 2, 1, 2, 2, 2, 2,\n",
       "        2, 1, 2, 1, 2, 2, 2, 2, 1, 2, 2, 2, 1, 1, 1, 2, 2, 2, 2, 2, 2, 1, 2, 2, 2, 2, 1, 2, 2, 2, 2, 2, 2, 1,\n",
       "        2, 2, 2, 2, 2, 2, 2, 2, 2, 2, 2, 2, 2, 2, 2, 2, 2, 2, 2, 2, 2, 2, 2, 2, 2, 2, 2, 2, 2, 2, 2, 2, 2, 2,\n",
       "        2, 2, 2, 2, 2, 2, 2, 2, 2, 2, 2, 2, 1, 2, 2, 1, 2, 2, 2, 2, 2, 2, 2, 2, 1, 2, 2, 2, 2, 2, 2, 2, 2, 2,\n",
       "        2, 2, 2, 2, 2, 2, 2, 2, 2, 2, 2, 2, 2, 2, 2, 2, 2, 2, 2, 2, 2, 2, 1, 2, 2, 2, 2, 2, 2, 2, 2, 2, 2, 2,\n",
       "        2, 2, 2, 2, 2, 2, 2, 2, 2, 2, 2, 2, 2, 2, 2, 2, 2, 1, 2, 2, 1, 2]),\n",
       " array([2, 1, 1, 2, 2, 1, 1, 1, 2, 2, 2, 2, 1, 2, 2, 2, 0, 2, 2, 2, 2, 2, 2, 2, 0, 1, 2, 2, 0, 2, 2, 2, 2, 0,\n",
       "        2, 0, 2, 2, 2, 2, 1, 1, 2, 2, 2, 2, 1, 1, 1, 2, 1, 1, 2, 0, 2, 1, 1, 1, 2, 2, 1, 1, 2, 1, 2, 1, 2, 0,\n",
       "        2, 2, 1, 1, 0, 0, 2, 1, 1, 1, 2, 2, 1, 1, 2, 1, 1, 1, 0, 1, 2, 2, 0, 2, 1, 2, 0, 1, 0, 2, 1, 0, 0, 1,\n",
       "        0, 0, 0, 2, 0, 0, 1, 1, 1, 0, 0, 0, 1, 1, 0, 0, 0, 2, 0, 0, 2, 0, 1, 0, 2, 0, 0, 1, 1, 0, 0, 0, 0, 0,\n",
       "        1, 1, 0, 1, 0, 0, 0, 0, 1, 2, 0, 0, 1, 2, 0, 0, 0, 1, 0, 0, 1, 0, 0, 0, 2, 0, 0, 0, 0, 0, 2, 0, 0, 2,\n",
       "        0, 0, 0, 0, 0, 0, 2, 2, 2, 2, 0, 0, 0, 2, 1, 2, 0, 0, 2, 2, 0, 0, 0, 0, 0, 0, 0, 2, 2, 2, 2, 2, 2, 2,\n",
       "        2, 2, 2, 2, 2, 2, 2, 2, 2, 2, 2, 2, 2, 2, 2, 0, 0, 1, 1, 1, 1, 0, 1, 1, 0, 1, 1, 0, 1, 1, 1, 1, 1, 1,\n",
       "        1, 1, 1, 0, 1, 0, 1, 1, 0, 1, 1, 0, 1, 1, 1, 0, 1, 1, 1, 1, 1, 0, 1, 1, 1, 1, 1, 0, 1, 1, 1, 0, 1, 1,\n",
       "        0, 1, 1, 1, 0, 1, 1, 0, 0, 1, 1, 1, 1, 1, 1, 1, 1, 1, 1, 1, 1, 1, 1, 1, 1, 1, 1, 0, 1, 1, 1, 1, 1, 1,\n",
       "        1, 0, 1, 1, 1, 1, 1, 0, 1, 1, 1, 1, 1, 1, 1, 1, 1, 1, 1, 1, 1, 1, 1, 1, 1, 1, 1, 0, 0, 0, 1, 1, 1, 1,\n",
       "        1, 0, 1, 1, 1, 0, 1, 0, 1, 0, 1, 1, 0, 0, 0, 1, 1, 0, 1, 1, 1, 1, 1, 0, 1, 1, 1, 0, 0, 1, 1, 1, 1, 1,\n",
       "        1, 0, 1, 0, 0, 1, 1, 1, 0, 1, 1, 1, 1, 1, 1, 1, 1, 1, 1, 0, 1, 1, 1, 1, 1, 1, 0, 1, 1, 1, 1, 1, 1, 1,\n",
       "        1, 1, 1, 1, 1, 1, 1, 1, 1, 1, 1, 1, 1, 1, 1, 1, 1, 1, 1, 1, 1, 1, 1, 1, 1, 1, 1, 1, 1, 1, 1, 1, 1, 1,\n",
       "        1, 1, 1, 1, 1, 1, 1, 1, 1, 1, 1, 1, 1, 1, 1, 1, 1, 1, 1, 1, 1, 1, 1, 1, 1, 1, 1, 1, 1, 1, 1, 1, 1, 1,\n",
       "        1, 1, 1, 1, 1, 1, 1, 1, 1, 1, 1, 1, 1, 1, 1, 1, 1, 1, 1, 1, 1, 1, 1, 1, 1, 1, 1, 1, 1, 1, 1, 1, 1, 1,\n",
       "        1, 1, 1, 1, 1, 1, 1, 1, 1, 1, 1, 1, 1, 1, 1, 1, 1, 1, 1, 1, 1, 1, 1, 1, 1, 1, 1, 1, 1, 1, 1, 1, 1, 1,\n",
       "        1, 1, 1, 1, 1, 1, 1, 1, 1, 1, 1, 1, 1, 1, 1, 1, 1, 1, 1, 1, 1, 1, 1, 1, 1, 1, 1, 1, 1, 1, 1, 1, 1, 1,\n",
       "        1, 1, 1, 1, 1, 1, 1, 1, 1, 1, 1, 1, 1, 1, 1, 1, 1, 1, 1, 1, 1, 1]),\n",
       " 0.205,\n",
       " array([[  0,  51,  66],\n",
       "        [  0,  43, 350],\n",
       "        [  0,  10,  80]]),\n",
       " {0: 0.5684910902302207, 1: 0.35317328613047166, 2: 0.520686274509804},\n",
       " {0: array([0.     , 0.00207, 0.03313, 0.03313, 0.05383, 0.05383, 0.06211, 0.06211, 0.07039, 0.07039, 0.07453,\n",
       "         0.07453, 0.0766 , 0.0766 , 0.07867, 0.07867, 0.09524, 0.09524, 0.10766, 0.10766, 0.1118 , 0.1118 ,\n",
       "         0.11387, 0.11387, 0.11801, 0.11801, 0.15114, 0.15114, 0.15321, 0.15321, 0.15528, 0.15528, 0.15735,\n",
       "         0.15735, 0.1677 , 0.1677 , 0.17391, 0.17391, 0.18012, 0.18012, 0.18219, 0.18219, 0.19048, 0.19462,\n",
       "         0.21739, 0.21739, 0.23188, 0.23188, 0.23602, 0.23602, 0.25259, 0.25259, 0.25673, 0.25673, 0.26708,\n",
       "         0.26708, 0.26915, 0.26915, 0.27122, 0.27122, 0.2795 , 0.2795 , 0.28157, 0.28157, 0.28571, 0.28571,\n",
       "         0.28778, 0.28778, 0.29193, 0.29193, 0.294  , 0.294  , 0.29814, 0.29814, 0.30228, 0.30228, 0.30642,\n",
       "         0.30642, 0.31677, 0.31677, 0.31884, 0.31884, 0.32505, 0.32505, 0.32712, 0.32712, 0.33333, 0.33333,\n",
       "         0.33747, 0.33747, 0.33954, 0.33954, 0.34369, 0.34369, 0.34783, 0.34783, 0.35197, 0.35197, 0.36025,\n",
       "         0.36439, 0.36439, 0.3706 , 0.3706 , 0.37681, 0.37681, 0.38302, 0.38302, 0.44306, 0.44306, 0.47826,\n",
       "         0.47826, 0.48861, 0.48861, 0.50932, 0.50932, 0.5176 , 0.5176 , 0.54037, 0.54037, 0.57143, 0.57143,\n",
       "         0.57557, 0.57557, 0.58178, 0.58178, 0.59006, 0.59006, 0.60248, 0.60248, 0.61698, 0.61698, 0.6501 ,\n",
       "         0.6501 , 0.65631, 0.65631, 0.65839, 0.65839, 0.71014, 0.71014, 0.71636, 0.71636, 0.71843, 0.71843,\n",
       "         0.74948, 0.74948, 0.75155, 0.75155, 0.75569, 0.75569, 0.78261, 0.78261, 0.80538, 0.80538, 0.83644,\n",
       "         0.83644, 0.85714, 0.85714, 0.85921, 0.85921, 0.86957, 0.86957, 0.87371, 0.87371, 0.89855, 0.89855,\n",
       "         0.90062, 0.90062, 0.9089 , 0.9089 , 0.93375, 0.93375, 0.94203, 0.94203, 0.96894, 0.96894, 0.97308,\n",
       "         0.97308, 0.98344, 0.98344, 0.99379, 0.99379, 0.99586, 0.99586, 1.     , 1.     ]),\n",
       "  1: array([0.     , 0.00483, 0.02899, 0.02899, 0.03382, 0.03382, 0.06763, 0.06763, 0.08213, 0.08213, 0.09179,\n",
       "         0.09179, 0.10145, 0.10145, 0.1256 , 0.1256 , 0.1401 , 0.1401 , 0.14976, 0.14976, 0.15942, 0.15942,\n",
       "         0.16425, 0.16425, 0.17391, 0.17391, 0.17874, 0.17874, 0.19324, 0.19324, 0.20773, 0.20773, 0.22705,\n",
       "         0.22705, 0.23188, 0.23188, 0.23671, 0.23671, 0.24155, 0.24155, 0.26087, 0.26087, 0.27053, 0.27053,\n",
       "         0.28019, 0.28019, 0.29469, 0.29469, 0.29952, 0.29952, 0.30435, 0.30435, 0.30918, 0.30918, 0.31401,\n",
       "         0.31401, 0.31884, 0.31884, 0.33333, 0.33333, 0.33816, 0.33816, 0.343  , 0.343  , 0.34783, 0.34783,\n",
       "         0.35266, 0.35266, 0.35749, 0.35749, 0.36232, 0.36232, 0.37198, 0.37198, 0.3913 , 0.3913 , 0.39614,\n",
       "         0.39614, 0.41546, 0.41546, 0.42995, 0.42995, 0.43961, 0.43961, 0.44444, 0.44444, 0.44928, 0.44928,\n",
       "         0.45894, 0.45894, 0.46377, 0.46377, 0.4686 , 0.4686 , 0.47343, 0.47343, 0.47826, 0.47826, 0.48309,\n",
       "         0.48309, 0.48792, 0.48792, 0.49275, 0.49275, 0.49758, 0.49758, 0.51208, 0.51208, 0.52174, 0.52174,\n",
       "         0.52657, 0.52657, 0.5314 , 0.5314 , 0.53623, 0.53623, 0.54589, 0.54589, 0.56039, 0.56039, 0.56522,\n",
       "         0.56522, 0.57005, 0.57005, 0.57488, 0.57488, 0.57971, 0.57971, 0.58937, 0.58937, 0.5942 , 0.5942 ,\n",
       "         0.59903, 0.59903, 0.60386, 0.60386, 0.6087 , 0.6087 , 0.61353, 0.61353, 0.61836, 0.61836, 0.63285,\n",
       "         0.63285, 0.64734, 0.64734, 0.65217, 0.65217, 0.66184, 0.66184, 0.66667, 0.66667, 0.6715 , 0.6715 ,\n",
       "         0.67633, 0.67633, 0.68599, 0.68599, 0.69082, 0.69082, 0.70048, 0.70048, 0.70531, 0.70531, 0.71014,\n",
       "         0.71014, 0.71981, 0.71981, 0.72947, 0.72947, 0.7343 , 0.7343 , 0.75362, 0.75362, 0.76812, 0.76812,\n",
       "         0.77295, 0.77295, 0.77778, 0.77778, 0.78261, 0.78261, 0.78744, 0.78744, 0.79227, 0.79227, 0.7971 ,\n",
       "         0.7971 , 0.81159, 0.81159, 0.81643, 0.81643, 0.82609, 0.82609, 0.83575, 0.83575, 0.84058, 0.84058,\n",
       "         0.84541, 0.84541, 0.85024, 0.85024, 0.85507, 0.85507, 0.86473, 0.86473, 0.86473, 0.86473, 0.86957,\n",
       "         0.86957, 0.8744 , 0.8744 , 0.87923, 0.87923, 0.89855, 0.89855, 0.90338, 0.90338, 0.90821, 0.90821,\n",
       "         0.91787, 0.91787, 0.92271, 0.92271, 0.93237, 0.93237, 0.9372 , 0.9372 , 0.94686, 0.94686, 0.95169,\n",
       "         0.95169, 0.96135, 0.96135, 0.96618, 0.96618, 0.97101, 0.97101, 0.97101, 0.97101, 0.98068, 0.98068,\n",
       "         0.98551, 0.98551, 0.99034, 0.99034, 0.99517, 0.99517, 1.     , 1.     ]),\n",
       "  2: array([0.     , 0.00196, 0.00588, 0.00588, 0.01373, 0.01373, 0.02549, 0.02549, 0.03725, 0.03725, 0.09804,\n",
       "         0.09804, 0.10196, 0.10196, 0.10588, 0.11176, 0.11176, 0.11373, 0.11373, 0.12353, 0.12353, 0.13137,\n",
       "         0.13137, 0.13529, 0.13529, 0.14314, 0.14314, 0.2    , 0.2    , 0.20196, 0.20196, 0.2098 , 0.2098 ,\n",
       "         0.21373, 0.21373, 0.21765, 0.22157, 0.22941, 0.22941, 0.23922, 0.23922, 0.2451 , 0.2451 , 0.26078,\n",
       "         0.26078, 0.27451, 0.27451, 0.27647, 0.27647, 0.28431, 0.28431, 0.3    , 0.3    , 0.30392, 0.30392,\n",
       "         0.32353, 0.32353, 0.33137, 0.33137, 0.34314, 0.34314, 0.35882, 0.35882, 0.37451, 0.37451, 0.38235,\n",
       "         0.38235, 0.39216, 0.39216, 0.39412, 0.39412, 0.40588, 0.40588, 0.4098 , 0.4098 , 0.41765, 0.41765,\n",
       "         0.43137, 0.43137, 0.43333, 0.43333, 0.45098, 0.45098, 0.46667, 0.46667, 0.47451, 0.47451, 0.48431,\n",
       "         0.48431, 0.49608, 0.49608, 0.52549, 0.52549, 0.54314, 0.54314, 0.5549 , 0.5549 , 0.55882, 0.55882,\n",
       "         0.56863, 0.56863, 0.58431, 0.58431, 0.58627, 0.58627, 0.6098 , 0.61373, 0.61373, 0.61765, 0.61765,\n",
       "         0.62549, 0.62549, 0.65098, 0.65098, 0.65686, 0.65686, 0.66667, 0.66667, 0.67059, 0.67059, 0.67255,\n",
       "         0.67255, 0.67451, 0.67451, 0.68235, 0.68235, 0.69216, 0.69216, 0.70784, 0.70784, 0.7098 , 0.7098 ,\n",
       "         0.72157, 0.72157, 0.72549, 0.72549, 0.72745, 0.72745, 0.73137, 0.73137, 0.75686, 0.75686, 0.79412,\n",
       "         0.79412, 0.79608, 0.79608, 0.80784, 0.80784, 0.81765, 0.81765, 0.83333, 0.83333, 0.83922, 0.83922,\n",
       "         0.84314, 0.84314, 0.84706, 0.84706, 0.86275, 0.86275, 0.88235, 0.88235, 0.89216, 0.89216, 0.9098 ,\n",
       "         0.9098 , 0.92941, 0.92941, 1.     ])},\n",
       " {0: array([0.     , 0.     , 0.     , 0.00855, 0.00855, 0.01709, 0.01709, 0.02564, 0.02564, 0.03419, 0.03419,\n",
       "         0.04274, 0.04274, 0.05128, 0.05128, 0.05983, 0.05983, 0.08547, 0.08547, 0.09402, 0.09402, 0.10256,\n",
       "         0.10256, 0.11111, 0.11111, 0.11966, 0.11966, 0.12821, 0.12821, 0.13675, 0.13675, 0.15385, 0.15385,\n",
       "         0.17094, 0.17094, 0.17949, 0.17949, 0.18803, 0.18803, 0.19658, 0.19658, 0.20513, 0.20513, 0.20513,\n",
       "         0.20513, 0.23077, 0.23077, 0.23932, 0.23932, 0.25641, 0.25641, 0.26496, 0.26496, 0.2735 , 0.2735 ,\n",
       "         0.28205, 0.28205, 0.29915, 0.29915, 0.30769, 0.30769, 0.32479, 0.32479, 0.34188, 0.34188, 0.35043,\n",
       "         0.35043, 0.35897, 0.35897, 0.37607, 0.37607, 0.38462, 0.38462, 0.39316, 0.39316, 0.4188 , 0.4188 ,\n",
       "         0.4359 , 0.4359 , 0.44444, 0.44444, 0.46154, 0.46154, 0.47009, 0.47009, 0.50427, 0.50427, 0.52137,\n",
       "         0.52137, 0.52991, 0.52991, 0.53846, 0.53846, 0.55556, 0.55556, 0.5641 , 0.5641 , 0.57265, 0.57265,\n",
       "         0.57265, 0.58974, 0.58974, 0.61538, 0.61538, 0.62393, 0.62393, 0.63248, 0.63248, 0.64103, 0.64103,\n",
       "         0.64957, 0.64957, 0.66667, 0.66667, 0.67521, 0.67521, 0.68376, 0.68376, 0.69231, 0.69231, 0.70085,\n",
       "         0.70085, 0.7094 , 0.7094 , 0.71795, 0.71795, 0.7265 , 0.7265 , 0.73504, 0.73504, 0.74359, 0.74359,\n",
       "         0.75214, 0.75214, 0.76068, 0.76068, 0.76923, 0.76923, 0.77778, 0.77778, 0.78632, 0.78632, 0.79487,\n",
       "         0.79487, 0.80342, 0.80342, 0.81197, 0.81197, 0.82051, 0.82051, 0.83761, 0.83761, 0.84615, 0.84615,\n",
       "         0.8547 , 0.8547 , 0.86325, 0.86325, 0.87179, 0.87179, 0.88034, 0.88034, 0.88889, 0.88889, 0.89744,\n",
       "         0.89744, 0.90598, 0.90598, 0.92308, 0.92308, 0.93162, 0.93162, 0.94017, 0.94017, 0.95726, 0.95726,\n",
       "         0.96581, 0.96581, 0.97436, 0.97436, 0.98291, 0.98291, 0.99145, 0.99145, 1.     ]),\n",
       "  1: array([0.     , 0.     , 0.     , 0.00509, 0.00509, 0.01018, 0.01018, 0.01272, 0.01272, 0.01527, 0.01527,\n",
       "         0.01781, 0.01781, 0.02036, 0.02036, 0.0229 , 0.0229 , 0.02545, 0.02545, 0.03562, 0.03562, 0.03817,\n",
       "         0.03817, 0.04326, 0.04326, 0.05089, 0.05089, 0.05344, 0.05344, 0.0687 , 0.0687 , 0.07125, 0.07125,\n",
       "         0.07379, 0.07379, 0.07634, 0.07634, 0.08397, 0.08397, 0.09415, 0.09415, 0.09669, 0.09669, 0.09924,\n",
       "         0.09924, 0.10178, 0.10178, 0.1145 , 0.1145 , 0.11959, 0.11959, 0.12723, 0.12723, 0.13232, 0.13232,\n",
       "         0.13486, 0.13486, 0.1374 , 0.1374 , 0.13995, 0.13995, 0.14249, 0.14249, 0.14504, 0.14504, 0.15267,\n",
       "         0.15267, 0.15776, 0.15776, 0.17557, 0.17557, 0.19084, 0.19084, 0.19338, 0.19338, 0.22137, 0.22137,\n",
       "         0.22646, 0.22646, 0.22901, 0.22901, 0.23155, 0.23155, 0.23919, 0.23919, 0.24427, 0.24427, 0.24682,\n",
       "         0.24682, 0.24936, 0.24936, 0.25445, 0.25445, 0.26209, 0.26209, 0.27226, 0.27226, 0.27481, 0.27481,\n",
       "         0.28499, 0.28499, 0.29008, 0.29008, 0.29262, 0.29262, 0.30534, 0.30534, 0.30789, 0.30789, 0.31043,\n",
       "         0.31043, 0.32316, 0.32316, 0.33079, 0.33079, 0.33333, 0.33333, 0.34097, 0.34097, 0.35115, 0.35115,\n",
       "         0.36641, 0.36641, 0.37405, 0.37405, 0.37913, 0.37913, 0.38168, 0.38168, 0.3944 , 0.3944 , 0.40204,\n",
       "         0.40204, 0.40712, 0.40712, 0.4173 , 0.4173 , 0.42494, 0.42494, 0.42748, 0.42748, 0.45038, 0.45038,\n",
       "         0.46565, 0.46565, 0.48346, 0.48346, 0.48601, 0.48601, 0.48855, 0.48855, 0.49109, 0.49109, 0.50127,\n",
       "         0.50127, 0.50382, 0.50382, 0.51399, 0.51399, 0.52926, 0.52926, 0.53435, 0.53435, 0.5369 , 0.5369 ,\n",
       "         0.53944, 0.53944, 0.54707, 0.54707, 0.55725, 0.55725, 0.56234, 0.56234, 0.56743, 0.56743, 0.59033,\n",
       "         0.59033, 0.59288, 0.59288, 0.60051, 0.60051, 0.61323, 0.61323, 0.62087, 0.62087, 0.62341, 0.62341,\n",
       "         0.63613, 0.63613, 0.63868, 0.63868, 0.64122, 0.64122, 0.64631, 0.64631, 0.66412, 0.66412, 0.68957,\n",
       "         0.68957, 0.69211, 0.69211, 0.69975, 0.69975, 0.70229, 0.70229, 0.7201 , 0.72519, 0.73282, 0.73282,\n",
       "         0.77354, 0.77354, 0.78372, 0.78372, 0.79135, 0.79135, 0.80916, 0.80916, 0.82188, 0.82188, 0.82443,\n",
       "         0.82443, 0.83206, 0.83206, 0.84224, 0.84224, 0.84987, 0.84987, 0.85751, 0.85751, 0.87786, 0.87786,\n",
       "         0.88295, 0.88295, 0.91094, 0.91094, 0.91603, 0.91603, 0.93639, 0.94148, 0.94911, 0.94911, 0.9771 ,\n",
       "         0.9771 , 0.98473, 0.98473, 0.98982, 0.98982, 0.99237, 0.99237, 1.     ]),\n",
       "  2: array([0.     , 0.     , 0.     , 0.01111, 0.01111, 0.02222, 0.02222, 0.03333, 0.03333, 0.04444, 0.04444,\n",
       "         0.05556, 0.05556, 0.06667, 0.06667, 0.06667, 0.07778, 0.08889, 0.1    , 0.1    , 0.11111, 0.11111,\n",
       "         0.12222, 0.12222, 0.13333, 0.13333, 0.16667, 0.16667, 0.17778, 0.17778, 0.18889, 0.18889, 0.2    ,\n",
       "         0.2    , 0.21111, 0.21111, 0.21111, 0.21111, 0.22222, 0.22222, 0.23333, 0.23333, 0.24444, 0.24444,\n",
       "         0.25556, 0.25556, 0.26667, 0.26667, 0.27778, 0.27778, 0.28889, 0.28889, 0.3    , 0.3    , 0.31111,\n",
       "         0.31111, 0.32222, 0.32222, 0.33333, 0.33333, 0.34444, 0.34444, 0.35556, 0.35556, 0.36667, 0.36667,\n",
       "         0.37778, 0.37778, 0.38889, 0.38889, 0.4    , 0.4    , 0.41111, 0.41111, 0.42222, 0.42222, 0.43333,\n",
       "         0.43333, 0.44444, 0.44444, 0.45556, 0.45556, 0.46667, 0.46667, 0.47778, 0.47778, 0.48889, 0.48889,\n",
       "         0.52222, 0.52222, 0.53333, 0.53333, 0.55556, 0.55556, 0.56667, 0.56667, 0.57778, 0.57778, 0.58889,\n",
       "         0.58889, 0.6    , 0.6    , 0.61111, 0.61111, 0.62222, 0.62222, 0.62222, 0.63333, 0.63333, 0.64444,\n",
       "         0.64444, 0.65556, 0.65556, 0.66667, 0.66667, 0.67778, 0.67778, 0.68889, 0.68889, 0.7    , 0.7    ,\n",
       "         0.71111, 0.71111, 0.72222, 0.72222, 0.73333, 0.73333, 0.74444, 0.74444, 0.75556, 0.75556, 0.76667,\n",
       "         0.76667, 0.78889, 0.78889, 0.8    , 0.8    , 0.81111, 0.81111, 0.82222, 0.82222, 0.83333, 0.83333,\n",
       "         0.84444, 0.84444, 0.87778, 0.87778, 0.88889, 0.88889, 0.9    , 0.9    , 0.91111, 0.91111, 0.92222,\n",
       "         0.92222, 0.93333, 0.93333, 0.94444, 0.94444, 0.95556, 0.95556, 0.96667, 0.96667, 0.97778, 0.97778,\n",
       "         0.98889, 0.98889, 1.     , 1.     ])}]"
      ]
     },
     "execution_count": 62,
     "metadata": {},
     "output_type": "execute_result"
    }
   ],
   "source": [
    "trainer.test_eval(tta=False, sf=False)"
   ]
  },
  {
   "cell_type": "code",
   "execution_count": 63,
   "metadata": {},
   "outputs": [
    {
     "data": {
      "application/vnd.jupyter.widget-view+json": {
       "model_id": "16bc2fc1f5394c0caec505a9cdd25452",
       "version_major": 2,
       "version_minor": 0
      },
      "text/plain": [
       "HBox(children=(IntProgress(value=0, description='Epoch', max=15), HTML(value='')))"
      ]
     },
     "metadata": {},
     "output_type": "display_data"
    },
    {
     "name": "stdout",
     "output_type": "stream",
     "text": [
      "\r",
      "  0%|          | 0/86 [00:00<?, ?it/s]"
     ]
    },
    {
     "ename": "RuntimeError",
     "evalue": "cuda runtime error (2) : out of memory at /opt/conda/conda-bld/pytorch_1518244421288/work/torch/lib/THC/generic/THCStorage.cu:58",
     "output_type": "error",
     "traceback": [
      "\u001b[0;31m---------------------------------------------------------------------------\u001b[0m",
      "\u001b[0;31mRuntimeError\u001b[0m                              Traceback (most recent call last)",
      "\u001b[0;32m<ipython-input-63-8ef193b38a6c>\u001b[0m in \u001b[0;36m<module>\u001b[0;34m\u001b[0m\n\u001b[0;32m----> 1\u001b[0;31m \u001b[0mtrainer\u001b[0m\u001b[0;34m.\u001b[0m\u001b[0mfinal_fit\u001b[0m\u001b[0;34m(\u001b[0m\u001b[0mw_name\u001b[0m \u001b[0;34m+\u001b[0m \u001b[0;34m'_3'\u001b[0m\u001b[0;34m)\u001b[0m\u001b[0;34m\u001b[0m\u001b[0m\n\u001b[0m",
      "\u001b[0;32m~/src/fastai/courses/projects/classifier.py\u001b[0m in \u001b[0;36mfinal_fit\u001b[0;34m(self, name)\u001b[0m\n\u001b[1;32m    202\u001b[0m         \u001b[0mself\u001b[0m\u001b[0;34m.\u001b[0m\u001b[0mlearn\u001b[0m\u001b[0;34m.\u001b[0m\u001b[0munfreeze\u001b[0m\u001b[0;34m(\u001b[0m\u001b[0;34m)\u001b[0m\u001b[0;34m\u001b[0m\u001b[0m\n\u001b[1;32m    203\u001b[0m         \u001b[0mlrs\u001b[0m \u001b[0;34m=\u001b[0m \u001b[0mnp\u001b[0m\u001b[0;34m.\u001b[0m\u001b[0marray\u001b[0m\u001b[0;34m(\u001b[0m\u001b[0;34m[\u001b[0m\u001b[0mself\u001b[0m\u001b[0;34m.\u001b[0m\u001b[0mdlr\u001b[0m \u001b[0;34m/\u001b[0m \u001b[0;36m100\u001b[0m\u001b[0;34m,\u001b[0m \u001b[0mself\u001b[0m\u001b[0;34m.\u001b[0m\u001b[0mdlr\u001b[0m \u001b[0;34m/\u001b[0m \u001b[0;36m10\u001b[0m\u001b[0;34m,\u001b[0m \u001b[0mself\u001b[0m\u001b[0;34m.\u001b[0m\u001b[0mdlr\u001b[0m\u001b[0;34m]\u001b[0m\u001b[0;34m)\u001b[0m\u001b[0;34m\u001b[0m\u001b[0m\n\u001b[0;32m--> 204\u001b[0;31m         \u001b[0mself\u001b[0m\u001b[0;34m.\u001b[0m\u001b[0mlearn\u001b[0m\u001b[0;34m.\u001b[0m\u001b[0mfit\u001b[0m\u001b[0;34m(\u001b[0m\u001b[0mlrs\u001b[0m\u001b[0;34m,\u001b[0m \u001b[0;36m5\u001b[0m\u001b[0;34m,\u001b[0m \u001b[0mcycle_len\u001b[0m\u001b[0;34m=\u001b[0m\u001b[0;36m3\u001b[0m\u001b[0;34m,\u001b[0m \u001b[0mwds\u001b[0m\u001b[0;34m=\u001b[0m\u001b[0mwd\u001b[0m\u001b[0;34m)\u001b[0m\u001b[0;34m\u001b[0m\u001b[0m\n\u001b[0m\u001b[1;32m    205\u001b[0m         \u001b[0mself\u001b[0m\u001b[0;34m.\u001b[0m\u001b[0mlearn\u001b[0m\u001b[0;34m.\u001b[0m\u001b[0msave\u001b[0m\u001b[0;34m(\u001b[0m\u001b[0msn\u001b[0m\u001b[0;34m)\u001b[0m\u001b[0;34m\u001b[0m\u001b[0m\n\u001b[1;32m    206\u001b[0m         \u001b[0mprint\u001b[0m\u001b[0;34m(\u001b[0m\u001b[0;34m'Saved weights as \"{}\"'\u001b[0m\u001b[0;34m.\u001b[0m\u001b[0mformat\u001b[0m\u001b[0;34m(\u001b[0m\u001b[0msn\u001b[0m\u001b[0;34m)\u001b[0m\u001b[0;34m)\u001b[0m\u001b[0;34m\u001b[0m\u001b[0m\n",
      "\u001b[0;32m~/src/fastai/courses/projects/fastai/learner.py\u001b[0m in \u001b[0;36mfit\u001b[0;34m(self, lrs, n_cycle, wds, **kwargs)\u001b[0m\n\u001b[1;32m    300\u001b[0m         \u001b[0mself\u001b[0m\u001b[0;34m.\u001b[0m\u001b[0msched\u001b[0m \u001b[0;34m=\u001b[0m \u001b[0;32mNone\u001b[0m\u001b[0;34m\u001b[0m\u001b[0m\n\u001b[1;32m    301\u001b[0m         \u001b[0mlayer_opt\u001b[0m \u001b[0;34m=\u001b[0m \u001b[0mself\u001b[0m\u001b[0;34m.\u001b[0m\u001b[0mget_layer_opt\u001b[0m\u001b[0;34m(\u001b[0m\u001b[0mlrs\u001b[0m\u001b[0;34m,\u001b[0m \u001b[0mwds\u001b[0m\u001b[0;34m)\u001b[0m\u001b[0;34m\u001b[0m\u001b[0m\n\u001b[0;32m--> 302\u001b[0;31m         \u001b[0;32mreturn\u001b[0m \u001b[0mself\u001b[0m\u001b[0;34m.\u001b[0m\u001b[0mfit_gen\u001b[0m\u001b[0;34m(\u001b[0m\u001b[0mself\u001b[0m\u001b[0;34m.\u001b[0m\u001b[0mmodel\u001b[0m\u001b[0;34m,\u001b[0m \u001b[0mself\u001b[0m\u001b[0;34m.\u001b[0m\u001b[0mdata\u001b[0m\u001b[0;34m,\u001b[0m \u001b[0mlayer_opt\u001b[0m\u001b[0;34m,\u001b[0m \u001b[0mn_cycle\u001b[0m\u001b[0;34m,\u001b[0m \u001b[0;34m**\u001b[0m\u001b[0mkwargs\u001b[0m\u001b[0;34m)\u001b[0m\u001b[0;34m\u001b[0m\u001b[0m\n\u001b[0m\u001b[1;32m    303\u001b[0m \u001b[0;34m\u001b[0m\u001b[0m\n\u001b[1;32m    304\u001b[0m     \u001b[0;32mdef\u001b[0m \u001b[0mwarm_up\u001b[0m\u001b[0;34m(\u001b[0m\u001b[0mself\u001b[0m\u001b[0;34m,\u001b[0m \u001b[0mlr\u001b[0m\u001b[0;34m,\u001b[0m \u001b[0mwds\u001b[0m\u001b[0;34m=\u001b[0m\u001b[0;32mNone\u001b[0m\u001b[0;34m)\u001b[0m\u001b[0;34m:\u001b[0m\u001b[0;34m\u001b[0m\u001b[0m\n",
      "\u001b[0;32m~/src/fastai/courses/projects/fastai/learner.py\u001b[0m in \u001b[0;36mfit_gen\u001b[0;34m(self, model, data, layer_opt, n_cycle, cycle_len, cycle_mult, cycle_save_name, best_save_name, use_clr, use_clr_beta, metrics, callbacks, use_wd_sched, norm_wds, wds_sched_mult, use_swa, swa_start, swa_eval_freq, **kwargs)\u001b[0m\n\u001b[1;32m    247\u001b[0m             \u001b[0mmetrics\u001b[0m\u001b[0;34m=\u001b[0m\u001b[0mmetrics\u001b[0m\u001b[0;34m,\u001b[0m \u001b[0mcallbacks\u001b[0m\u001b[0;34m=\u001b[0m\u001b[0mcallbacks\u001b[0m\u001b[0;34m,\u001b[0m \u001b[0mreg_fn\u001b[0m\u001b[0;34m=\u001b[0m\u001b[0mself\u001b[0m\u001b[0;34m.\u001b[0m\u001b[0mreg_fn\u001b[0m\u001b[0;34m,\u001b[0m \u001b[0mclip\u001b[0m\u001b[0;34m=\u001b[0m\u001b[0mself\u001b[0m\u001b[0;34m.\u001b[0m\u001b[0mclip\u001b[0m\u001b[0;34m,\u001b[0m \u001b[0mfp16\u001b[0m\u001b[0;34m=\u001b[0m\u001b[0mself\u001b[0m\u001b[0;34m.\u001b[0m\u001b[0mfp16\u001b[0m\u001b[0;34m,\u001b[0m\u001b[0;34m\u001b[0m\u001b[0m\n\u001b[1;32m    248\u001b[0m             \u001b[0mswa_model\u001b[0m\u001b[0;34m=\u001b[0m\u001b[0mself\u001b[0m\u001b[0;34m.\u001b[0m\u001b[0mswa_model\u001b[0m \u001b[0;32mif\u001b[0m \u001b[0muse_swa\u001b[0m \u001b[0;32melse\u001b[0m \u001b[0;32mNone\u001b[0m\u001b[0;34m,\u001b[0m \u001b[0mswa_start\u001b[0m\u001b[0;34m=\u001b[0m\u001b[0mswa_start\u001b[0m\u001b[0;34m,\u001b[0m\u001b[0;34m\u001b[0m\u001b[0m\n\u001b[0;32m--> 249\u001b[0;31m             swa_eval_freq=swa_eval_freq, **kwargs)\n\u001b[0m\u001b[1;32m    250\u001b[0m \u001b[0;34m\u001b[0m\u001b[0m\n\u001b[1;32m    251\u001b[0m     \u001b[0;32mdef\u001b[0m \u001b[0mget_layer_groups\u001b[0m\u001b[0;34m(\u001b[0m\u001b[0mself\u001b[0m\u001b[0;34m)\u001b[0m\u001b[0;34m:\u001b[0m \u001b[0;32mreturn\u001b[0m \u001b[0mself\u001b[0m\u001b[0;34m.\u001b[0m\u001b[0mmodels\u001b[0m\u001b[0;34m.\u001b[0m\u001b[0mget_layer_groups\u001b[0m\u001b[0;34m(\u001b[0m\u001b[0;34m)\u001b[0m\u001b[0;34m\u001b[0m\u001b[0m\n",
      "\u001b[0;32m~/src/fastai/courses/projects/fastai/model.py\u001b[0m in \u001b[0;36mfit\u001b[0;34m(model, data, n_epochs, opt, crit, metrics, callbacks, stepper, swa_model, swa_start, swa_eval_freq, visualize, **kwargs)\u001b[0m\n\u001b[1;32m    139\u001b[0m             \u001b[0mbatch_num\u001b[0m \u001b[0;34m+=\u001b[0m \u001b[0;36m1\u001b[0m\u001b[0;34m\u001b[0m\u001b[0m\n\u001b[1;32m    140\u001b[0m             \u001b[0;32mfor\u001b[0m \u001b[0mcb\u001b[0m \u001b[0;32min\u001b[0m \u001b[0mcallbacks\u001b[0m\u001b[0;34m:\u001b[0m \u001b[0mcb\u001b[0m\u001b[0;34m.\u001b[0m\u001b[0mon_batch_begin\u001b[0m\u001b[0;34m(\u001b[0m\u001b[0;34m)\u001b[0m\u001b[0;34m\u001b[0m\u001b[0m\n\u001b[0;32m--> 141\u001b[0;31m             \u001b[0mloss\u001b[0m \u001b[0;34m=\u001b[0m \u001b[0mmodel_stepper\u001b[0m\u001b[0;34m.\u001b[0m\u001b[0mstep\u001b[0m\u001b[0;34m(\u001b[0m\u001b[0mV\u001b[0m\u001b[0;34m(\u001b[0m\u001b[0mx\u001b[0m\u001b[0;34m)\u001b[0m\u001b[0;34m,\u001b[0m\u001b[0mV\u001b[0m\u001b[0;34m(\u001b[0m\u001b[0my\u001b[0m\u001b[0;34m)\u001b[0m\u001b[0;34m,\u001b[0m \u001b[0mepoch\u001b[0m\u001b[0;34m)\u001b[0m\u001b[0;34m\u001b[0m\u001b[0m\n\u001b[0m\u001b[1;32m    142\u001b[0m             \u001b[0mavg_loss\u001b[0m \u001b[0;34m=\u001b[0m \u001b[0mavg_loss\u001b[0m \u001b[0;34m*\u001b[0m \u001b[0mavg_mom\u001b[0m \u001b[0;34m+\u001b[0m \u001b[0mloss\u001b[0m \u001b[0;34m*\u001b[0m \u001b[0;34m(\u001b[0m\u001b[0;36m1\u001b[0m\u001b[0;34m-\u001b[0m\u001b[0mavg_mom\u001b[0m\u001b[0;34m)\u001b[0m\u001b[0;34m\u001b[0m\u001b[0m\n\u001b[1;32m    143\u001b[0m             \u001b[0mdebias_loss\u001b[0m \u001b[0;34m=\u001b[0m \u001b[0mavg_loss\u001b[0m \u001b[0;34m/\u001b[0m \u001b[0;34m(\u001b[0m\u001b[0;36m1\u001b[0m \u001b[0;34m-\u001b[0m \u001b[0mavg_mom\u001b[0m\u001b[0;34m**\u001b[0m\u001b[0mbatch_num\u001b[0m\u001b[0;34m)\u001b[0m\u001b[0;34m\u001b[0m\u001b[0m\n",
      "\u001b[0;32m~/src/fastai/courses/projects/fastai/model.py\u001b[0m in \u001b[0;36mstep\u001b[0;34m(self, xs, y, epoch)\u001b[0m\n\u001b[1;32m     48\u001b[0m     \u001b[0;32mdef\u001b[0m \u001b[0mstep\u001b[0m\u001b[0;34m(\u001b[0m\u001b[0mself\u001b[0m\u001b[0;34m,\u001b[0m \u001b[0mxs\u001b[0m\u001b[0;34m,\u001b[0m \u001b[0my\u001b[0m\u001b[0;34m,\u001b[0m \u001b[0mepoch\u001b[0m\u001b[0;34m)\u001b[0m\u001b[0;34m:\u001b[0m\u001b[0;34m\u001b[0m\u001b[0m\n\u001b[1;32m     49\u001b[0m         \u001b[0mxtra\u001b[0m \u001b[0;34m=\u001b[0m \u001b[0;34m[\u001b[0m\u001b[0;34m]\u001b[0m\u001b[0;34m\u001b[0m\u001b[0m\n\u001b[0;32m---> 50\u001b[0;31m         \u001b[0moutput\u001b[0m \u001b[0;34m=\u001b[0m \u001b[0mself\u001b[0m\u001b[0;34m.\u001b[0m\u001b[0mm\u001b[0m\u001b[0;34m(\u001b[0m\u001b[0;34m*\u001b[0m\u001b[0mxs\u001b[0m\u001b[0;34m)\u001b[0m\u001b[0;34m\u001b[0m\u001b[0m\n\u001b[0m\u001b[1;32m     51\u001b[0m         \u001b[0;32mif\u001b[0m \u001b[0misinstance\u001b[0m\u001b[0;34m(\u001b[0m\u001b[0moutput\u001b[0m\u001b[0;34m,\u001b[0m\u001b[0mtuple\u001b[0m\u001b[0;34m)\u001b[0m\u001b[0;34m:\u001b[0m \u001b[0moutput\u001b[0m\u001b[0;34m,\u001b[0m\u001b[0;34m*\u001b[0m\u001b[0mxtra\u001b[0m \u001b[0;34m=\u001b[0m \u001b[0moutput\u001b[0m\u001b[0;34m\u001b[0m\u001b[0m\n\u001b[1;32m     52\u001b[0m         \u001b[0;32mif\u001b[0m \u001b[0mself\u001b[0m\u001b[0;34m.\u001b[0m\u001b[0mfp16\u001b[0m\u001b[0;34m:\u001b[0m \u001b[0mself\u001b[0m\u001b[0;34m.\u001b[0m\u001b[0mm\u001b[0m\u001b[0;34m.\u001b[0m\u001b[0mzero_grad\u001b[0m\u001b[0;34m(\u001b[0m\u001b[0;34m)\u001b[0m\u001b[0;34m\u001b[0m\u001b[0m\n",
      "\u001b[0;32m~/anaconda3/envs/fastai/lib/python3.6/site-packages/torch/nn/modules/module.py\u001b[0m in \u001b[0;36m__call__\u001b[0;34m(self, *input, **kwargs)\u001b[0m\n\u001b[1;32m    355\u001b[0m             \u001b[0mresult\u001b[0m \u001b[0;34m=\u001b[0m \u001b[0mself\u001b[0m\u001b[0;34m.\u001b[0m\u001b[0m_slow_forward\u001b[0m\u001b[0;34m(\u001b[0m\u001b[0;34m*\u001b[0m\u001b[0minput\u001b[0m\u001b[0;34m,\u001b[0m \u001b[0;34m**\u001b[0m\u001b[0mkwargs\u001b[0m\u001b[0;34m)\u001b[0m\u001b[0;34m\u001b[0m\u001b[0m\n\u001b[1;32m    356\u001b[0m         \u001b[0;32melse\u001b[0m\u001b[0;34m:\u001b[0m\u001b[0;34m\u001b[0m\u001b[0m\n\u001b[0;32m--> 357\u001b[0;31m             \u001b[0mresult\u001b[0m \u001b[0;34m=\u001b[0m \u001b[0mself\u001b[0m\u001b[0;34m.\u001b[0m\u001b[0mforward\u001b[0m\u001b[0;34m(\u001b[0m\u001b[0;34m*\u001b[0m\u001b[0minput\u001b[0m\u001b[0;34m,\u001b[0m \u001b[0;34m**\u001b[0m\u001b[0mkwargs\u001b[0m\u001b[0;34m)\u001b[0m\u001b[0;34m\u001b[0m\u001b[0m\n\u001b[0m\u001b[1;32m    358\u001b[0m         \u001b[0;32mfor\u001b[0m \u001b[0mhook\u001b[0m \u001b[0;32min\u001b[0m \u001b[0mself\u001b[0m\u001b[0;34m.\u001b[0m\u001b[0m_forward_hooks\u001b[0m\u001b[0;34m.\u001b[0m\u001b[0mvalues\u001b[0m\u001b[0;34m(\u001b[0m\u001b[0;34m)\u001b[0m\u001b[0;34m:\u001b[0m\u001b[0;34m\u001b[0m\u001b[0m\n\u001b[1;32m    359\u001b[0m             \u001b[0mhook_result\u001b[0m \u001b[0;34m=\u001b[0m \u001b[0mhook\u001b[0m\u001b[0;34m(\u001b[0m\u001b[0mself\u001b[0m\u001b[0;34m,\u001b[0m \u001b[0minput\u001b[0m\u001b[0;34m,\u001b[0m \u001b[0mresult\u001b[0m\u001b[0;34m)\u001b[0m\u001b[0;34m\u001b[0m\u001b[0m\n",
      "\u001b[0;32m~/anaconda3/envs/fastai/lib/python3.6/site-packages/torch/nn/modules/container.py\u001b[0m in \u001b[0;36mforward\u001b[0;34m(self, input)\u001b[0m\n\u001b[1;32m     65\u001b[0m     \u001b[0;32mdef\u001b[0m \u001b[0mforward\u001b[0m\u001b[0;34m(\u001b[0m\u001b[0mself\u001b[0m\u001b[0;34m,\u001b[0m \u001b[0minput\u001b[0m\u001b[0;34m)\u001b[0m\u001b[0;34m:\u001b[0m\u001b[0;34m\u001b[0m\u001b[0m\n\u001b[1;32m     66\u001b[0m         \u001b[0;32mfor\u001b[0m \u001b[0mmodule\u001b[0m \u001b[0;32min\u001b[0m \u001b[0mself\u001b[0m\u001b[0;34m.\u001b[0m\u001b[0m_modules\u001b[0m\u001b[0;34m.\u001b[0m\u001b[0mvalues\u001b[0m\u001b[0;34m(\u001b[0m\u001b[0;34m)\u001b[0m\u001b[0;34m:\u001b[0m\u001b[0;34m\u001b[0m\u001b[0m\n\u001b[0;32m---> 67\u001b[0;31m             \u001b[0minput\u001b[0m \u001b[0;34m=\u001b[0m \u001b[0mmodule\u001b[0m\u001b[0;34m(\u001b[0m\u001b[0minput\u001b[0m\u001b[0;34m)\u001b[0m\u001b[0;34m\u001b[0m\u001b[0m\n\u001b[0m\u001b[1;32m     68\u001b[0m         \u001b[0;32mreturn\u001b[0m \u001b[0minput\u001b[0m\u001b[0;34m\u001b[0m\u001b[0m\n\u001b[1;32m     69\u001b[0m \u001b[0;34m\u001b[0m\u001b[0m\n",
      "\u001b[0;32m~/anaconda3/envs/fastai/lib/python3.6/site-packages/torch/nn/modules/module.py\u001b[0m in \u001b[0;36m__call__\u001b[0;34m(self, *input, **kwargs)\u001b[0m\n\u001b[1;32m    355\u001b[0m             \u001b[0mresult\u001b[0m \u001b[0;34m=\u001b[0m \u001b[0mself\u001b[0m\u001b[0;34m.\u001b[0m\u001b[0m_slow_forward\u001b[0m\u001b[0;34m(\u001b[0m\u001b[0;34m*\u001b[0m\u001b[0minput\u001b[0m\u001b[0;34m,\u001b[0m \u001b[0;34m**\u001b[0m\u001b[0mkwargs\u001b[0m\u001b[0;34m)\u001b[0m\u001b[0;34m\u001b[0m\u001b[0m\n\u001b[1;32m    356\u001b[0m         \u001b[0;32melse\u001b[0m\u001b[0;34m:\u001b[0m\u001b[0;34m\u001b[0m\u001b[0m\n\u001b[0;32m--> 357\u001b[0;31m             \u001b[0mresult\u001b[0m \u001b[0;34m=\u001b[0m \u001b[0mself\u001b[0m\u001b[0;34m.\u001b[0m\u001b[0mforward\u001b[0m\u001b[0;34m(\u001b[0m\u001b[0;34m*\u001b[0m\u001b[0minput\u001b[0m\u001b[0;34m,\u001b[0m \u001b[0;34m**\u001b[0m\u001b[0mkwargs\u001b[0m\u001b[0;34m)\u001b[0m\u001b[0;34m\u001b[0m\u001b[0m\n\u001b[0m\u001b[1;32m    358\u001b[0m         \u001b[0;32mfor\u001b[0m \u001b[0mhook\u001b[0m \u001b[0;32min\u001b[0m \u001b[0mself\u001b[0m\u001b[0;34m.\u001b[0m\u001b[0m_forward_hooks\u001b[0m\u001b[0;34m.\u001b[0m\u001b[0mvalues\u001b[0m\u001b[0;34m(\u001b[0m\u001b[0;34m)\u001b[0m\u001b[0;34m:\u001b[0m\u001b[0;34m\u001b[0m\u001b[0m\n\u001b[1;32m    359\u001b[0m             \u001b[0mhook_result\u001b[0m \u001b[0;34m=\u001b[0m \u001b[0mhook\u001b[0m\u001b[0;34m(\u001b[0m\u001b[0mself\u001b[0m\u001b[0;34m,\u001b[0m \u001b[0minput\u001b[0m\u001b[0;34m,\u001b[0m \u001b[0mresult\u001b[0m\u001b[0;34m)\u001b[0m\u001b[0;34m\u001b[0m\u001b[0m\n",
      "\u001b[0;32m~/anaconda3/envs/fastai/lib/python3.6/site-packages/torch/nn/modules/container.py\u001b[0m in \u001b[0;36mforward\u001b[0;34m(self, input)\u001b[0m\n\u001b[1;32m     65\u001b[0m     \u001b[0;32mdef\u001b[0m \u001b[0mforward\u001b[0m\u001b[0;34m(\u001b[0m\u001b[0mself\u001b[0m\u001b[0;34m,\u001b[0m \u001b[0minput\u001b[0m\u001b[0;34m)\u001b[0m\u001b[0;34m:\u001b[0m\u001b[0;34m\u001b[0m\u001b[0m\n\u001b[1;32m     66\u001b[0m         \u001b[0;32mfor\u001b[0m \u001b[0mmodule\u001b[0m \u001b[0;32min\u001b[0m \u001b[0mself\u001b[0m\u001b[0;34m.\u001b[0m\u001b[0m_modules\u001b[0m\u001b[0;34m.\u001b[0m\u001b[0mvalues\u001b[0m\u001b[0;34m(\u001b[0m\u001b[0;34m)\u001b[0m\u001b[0;34m:\u001b[0m\u001b[0;34m\u001b[0m\u001b[0m\n\u001b[0;32m---> 67\u001b[0;31m             \u001b[0minput\u001b[0m \u001b[0;34m=\u001b[0m \u001b[0mmodule\u001b[0m\u001b[0;34m(\u001b[0m\u001b[0minput\u001b[0m\u001b[0;34m)\u001b[0m\u001b[0;34m\u001b[0m\u001b[0m\n\u001b[0m\u001b[1;32m     68\u001b[0m         \u001b[0;32mreturn\u001b[0m \u001b[0minput\u001b[0m\u001b[0;34m\u001b[0m\u001b[0m\n\u001b[1;32m     69\u001b[0m \u001b[0;34m\u001b[0m\u001b[0m\n",
      "\u001b[0;32m~/anaconda3/envs/fastai/lib/python3.6/site-packages/torch/nn/modules/module.py\u001b[0m in \u001b[0;36m__call__\u001b[0;34m(self, *input, **kwargs)\u001b[0m\n\u001b[1;32m    355\u001b[0m             \u001b[0mresult\u001b[0m \u001b[0;34m=\u001b[0m \u001b[0mself\u001b[0m\u001b[0;34m.\u001b[0m\u001b[0m_slow_forward\u001b[0m\u001b[0;34m(\u001b[0m\u001b[0;34m*\u001b[0m\u001b[0minput\u001b[0m\u001b[0;34m,\u001b[0m \u001b[0;34m**\u001b[0m\u001b[0mkwargs\u001b[0m\u001b[0;34m)\u001b[0m\u001b[0;34m\u001b[0m\u001b[0m\n\u001b[1;32m    356\u001b[0m         \u001b[0;32melse\u001b[0m\u001b[0;34m:\u001b[0m\u001b[0;34m\u001b[0m\u001b[0m\n\u001b[0;32m--> 357\u001b[0;31m             \u001b[0mresult\u001b[0m \u001b[0;34m=\u001b[0m \u001b[0mself\u001b[0m\u001b[0;34m.\u001b[0m\u001b[0mforward\u001b[0m\u001b[0;34m(\u001b[0m\u001b[0;34m*\u001b[0m\u001b[0minput\u001b[0m\u001b[0;34m,\u001b[0m \u001b[0;34m**\u001b[0m\u001b[0mkwargs\u001b[0m\u001b[0;34m)\u001b[0m\u001b[0;34m\u001b[0m\u001b[0m\n\u001b[0m\u001b[1;32m    358\u001b[0m         \u001b[0;32mfor\u001b[0m \u001b[0mhook\u001b[0m \u001b[0;32min\u001b[0m \u001b[0mself\u001b[0m\u001b[0;34m.\u001b[0m\u001b[0m_forward_hooks\u001b[0m\u001b[0;34m.\u001b[0m\u001b[0mvalues\u001b[0m\u001b[0;34m(\u001b[0m\u001b[0;34m)\u001b[0m\u001b[0;34m:\u001b[0m\u001b[0;34m\u001b[0m\u001b[0m\n\u001b[1;32m    359\u001b[0m             \u001b[0mhook_result\u001b[0m \u001b[0;34m=\u001b[0m \u001b[0mhook\u001b[0m\u001b[0;34m(\u001b[0m\u001b[0mself\u001b[0m\u001b[0;34m,\u001b[0m \u001b[0minput\u001b[0m\u001b[0;34m,\u001b[0m \u001b[0mresult\u001b[0m\u001b[0;34m)\u001b[0m\u001b[0;34m\u001b[0m\u001b[0m\n",
      "\u001b[0;32m~/anaconda3/envs/fastai/lib/python3.6/site-packages/torchvision/models/resnet.py\u001b[0m in \u001b[0;36mforward\u001b[0;34m(self, x)\u001b[0m\n\u001b[1;32m     83\u001b[0m \u001b[0;34m\u001b[0m\u001b[0m\n\u001b[1;32m     84\u001b[0m         \u001b[0mout\u001b[0m \u001b[0;34m=\u001b[0m \u001b[0mself\u001b[0m\u001b[0;34m.\u001b[0m\u001b[0mconv3\u001b[0m\u001b[0;34m(\u001b[0m\u001b[0mout\u001b[0m\u001b[0;34m)\u001b[0m\u001b[0;34m\u001b[0m\u001b[0m\n\u001b[0;32m---> 85\u001b[0;31m         \u001b[0mout\u001b[0m \u001b[0;34m=\u001b[0m \u001b[0mself\u001b[0m\u001b[0;34m.\u001b[0m\u001b[0mbn3\u001b[0m\u001b[0;34m(\u001b[0m\u001b[0mout\u001b[0m\u001b[0;34m)\u001b[0m\u001b[0;34m\u001b[0m\u001b[0m\n\u001b[0m\u001b[1;32m     86\u001b[0m \u001b[0;34m\u001b[0m\u001b[0m\n\u001b[1;32m     87\u001b[0m         \u001b[0;32mif\u001b[0m \u001b[0mself\u001b[0m\u001b[0;34m.\u001b[0m\u001b[0mdownsample\u001b[0m \u001b[0;32mis\u001b[0m \u001b[0;32mnot\u001b[0m \u001b[0;32mNone\u001b[0m\u001b[0;34m:\u001b[0m\u001b[0;34m\u001b[0m\u001b[0m\n",
      "\u001b[0;32m~/anaconda3/envs/fastai/lib/python3.6/site-packages/torch/nn/modules/module.py\u001b[0m in \u001b[0;36m__call__\u001b[0;34m(self, *input, **kwargs)\u001b[0m\n\u001b[1;32m    355\u001b[0m             \u001b[0mresult\u001b[0m \u001b[0;34m=\u001b[0m \u001b[0mself\u001b[0m\u001b[0;34m.\u001b[0m\u001b[0m_slow_forward\u001b[0m\u001b[0;34m(\u001b[0m\u001b[0;34m*\u001b[0m\u001b[0minput\u001b[0m\u001b[0;34m,\u001b[0m \u001b[0;34m**\u001b[0m\u001b[0mkwargs\u001b[0m\u001b[0;34m)\u001b[0m\u001b[0;34m\u001b[0m\u001b[0m\n\u001b[1;32m    356\u001b[0m         \u001b[0;32melse\u001b[0m\u001b[0;34m:\u001b[0m\u001b[0;34m\u001b[0m\u001b[0m\n\u001b[0;32m--> 357\u001b[0;31m             \u001b[0mresult\u001b[0m \u001b[0;34m=\u001b[0m \u001b[0mself\u001b[0m\u001b[0;34m.\u001b[0m\u001b[0mforward\u001b[0m\u001b[0;34m(\u001b[0m\u001b[0;34m*\u001b[0m\u001b[0minput\u001b[0m\u001b[0;34m,\u001b[0m \u001b[0;34m**\u001b[0m\u001b[0mkwargs\u001b[0m\u001b[0;34m)\u001b[0m\u001b[0;34m\u001b[0m\u001b[0m\n\u001b[0m\u001b[1;32m    358\u001b[0m         \u001b[0;32mfor\u001b[0m \u001b[0mhook\u001b[0m \u001b[0;32min\u001b[0m \u001b[0mself\u001b[0m\u001b[0;34m.\u001b[0m\u001b[0m_forward_hooks\u001b[0m\u001b[0;34m.\u001b[0m\u001b[0mvalues\u001b[0m\u001b[0;34m(\u001b[0m\u001b[0;34m)\u001b[0m\u001b[0;34m:\u001b[0m\u001b[0;34m\u001b[0m\u001b[0m\n\u001b[1;32m    359\u001b[0m             \u001b[0mhook_result\u001b[0m \u001b[0;34m=\u001b[0m \u001b[0mhook\u001b[0m\u001b[0;34m(\u001b[0m\u001b[0mself\u001b[0m\u001b[0;34m,\u001b[0m \u001b[0minput\u001b[0m\u001b[0;34m,\u001b[0m \u001b[0mresult\u001b[0m\u001b[0;34m)\u001b[0m\u001b[0;34m\u001b[0m\u001b[0m\n",
      "\u001b[0;32m~/anaconda3/envs/fastai/lib/python3.6/site-packages/torch/nn/modules/batchnorm.py\u001b[0m in \u001b[0;36mforward\u001b[0;34m(self, input)\u001b[0m\n\u001b[1;32m     35\u001b[0m         return F.batch_norm(\n\u001b[1;32m     36\u001b[0m             \u001b[0minput\u001b[0m\u001b[0;34m,\u001b[0m \u001b[0mself\u001b[0m\u001b[0;34m.\u001b[0m\u001b[0mrunning_mean\u001b[0m\u001b[0;34m,\u001b[0m \u001b[0mself\u001b[0m\u001b[0;34m.\u001b[0m\u001b[0mrunning_var\u001b[0m\u001b[0;34m,\u001b[0m \u001b[0mself\u001b[0m\u001b[0;34m.\u001b[0m\u001b[0mweight\u001b[0m\u001b[0;34m,\u001b[0m \u001b[0mself\u001b[0m\u001b[0;34m.\u001b[0m\u001b[0mbias\u001b[0m\u001b[0;34m,\u001b[0m\u001b[0;34m\u001b[0m\u001b[0m\n\u001b[0;32m---> 37\u001b[0;31m             self.training, self.momentum, self.eps)\n\u001b[0m\u001b[1;32m     38\u001b[0m \u001b[0;34m\u001b[0m\u001b[0m\n\u001b[1;32m     39\u001b[0m     \u001b[0;32mdef\u001b[0m \u001b[0m__repr__\u001b[0m\u001b[0;34m(\u001b[0m\u001b[0mself\u001b[0m\u001b[0;34m)\u001b[0m\u001b[0;34m:\u001b[0m\u001b[0;34m\u001b[0m\u001b[0m\n",
      "\u001b[0;32m~/anaconda3/envs/fastai/lib/python3.6/site-packages/torch/nn/functional.py\u001b[0m in \u001b[0;36mbatch_norm\u001b[0;34m(input, running_mean, running_var, weight, bias, training, momentum, eps)\u001b[0m\n\u001b[1;32m   1011\u001b[0m             \u001b[0;32mraise\u001b[0m \u001b[0mValueError\u001b[0m\u001b[0;34m(\u001b[0m\u001b[0;34m'Expected more than 1 value per channel when training, got input size {}'\u001b[0m\u001b[0;34m.\u001b[0m\u001b[0mformat\u001b[0m\u001b[0;34m(\u001b[0m\u001b[0msize\u001b[0m\u001b[0;34m)\u001b[0m\u001b[0;34m)\u001b[0m\u001b[0;34m\u001b[0m\u001b[0m\n\u001b[1;32m   1012\u001b[0m     \u001b[0mf\u001b[0m \u001b[0;34m=\u001b[0m \u001b[0mtorch\u001b[0m\u001b[0;34m.\u001b[0m\u001b[0m_C\u001b[0m\u001b[0;34m.\u001b[0m\u001b[0m_functions\u001b[0m\u001b[0;34m.\u001b[0m\u001b[0mBatchNorm\u001b[0m\u001b[0;34m(\u001b[0m\u001b[0mrunning_mean\u001b[0m\u001b[0;34m,\u001b[0m \u001b[0mrunning_var\u001b[0m\u001b[0;34m,\u001b[0m \u001b[0mtraining\u001b[0m\u001b[0;34m,\u001b[0m \u001b[0mmomentum\u001b[0m\u001b[0;34m,\u001b[0m \u001b[0meps\u001b[0m\u001b[0;34m,\u001b[0m \u001b[0mtorch\u001b[0m\u001b[0;34m.\u001b[0m\u001b[0mbackends\u001b[0m\u001b[0;34m.\u001b[0m\u001b[0mcudnn\u001b[0m\u001b[0;34m.\u001b[0m\u001b[0menabled\u001b[0m\u001b[0;34m)\u001b[0m\u001b[0;34m\u001b[0m\u001b[0m\n\u001b[0;32m-> 1013\u001b[0;31m     \u001b[0;32mreturn\u001b[0m \u001b[0mf\u001b[0m\u001b[0;34m(\u001b[0m\u001b[0minput\u001b[0m\u001b[0;34m,\u001b[0m \u001b[0mweight\u001b[0m\u001b[0;34m,\u001b[0m \u001b[0mbias\u001b[0m\u001b[0;34m)\u001b[0m\u001b[0;34m\u001b[0m\u001b[0m\n\u001b[0m\u001b[1;32m   1014\u001b[0m \u001b[0;34m\u001b[0m\u001b[0m\n\u001b[1;32m   1015\u001b[0m \u001b[0;34m\u001b[0m\u001b[0m\n",
      "\u001b[0;31mRuntimeError\u001b[0m: cuda runtime error (2) : out of memory at /opt/conda/conda-bld/pytorch_1518244421288/work/torch/lib/THC/generic/THCStorage.cu:58"
     ]
    }
   ],
   "source": [
    "trainer.final_fit(w_name + '_3')"
   ]
  },
  {
   "cell_type": "code",
   "execution_count": null,
   "metadata": {},
   "outputs": [],
   "source": [
    "trainer.test_val(tta=False, sf=False)"
   ]
  },
  {
   "cell_type": "code",
   "execution_count": null,
   "metadata": {},
   "outputs": [],
   "source": [
    "trainer.test_eval(tta=False, sf=False)"
   ]
  }
 ],
 "metadata": {
  "kernelspec": {
   "display_name": "Python 3",
   "language": "python",
   "name": "python3"
  },
  "language_info": {
   "codemirror_mode": {
    "name": "ipython",
    "version": 3
   },
   "file_extension": ".py",
   "mimetype": "text/x-python",
   "name": "python",
   "nbconvert_exporter": "python",
   "pygments_lexer": "ipython3",
   "version": "3.6.5"
  }
 },
 "nbformat": 4,
 "nbformat_minor": 2
}
