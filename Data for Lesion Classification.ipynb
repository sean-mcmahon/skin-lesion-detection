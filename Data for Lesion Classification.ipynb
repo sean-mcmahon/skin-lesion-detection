{
 "cells": [
  {
   "cell_type": "markdown",
   "metadata": {},
   "source": [
    "All the skin cancer detection tasks are based around the ISIC 2017 Challenge:\n",
    "https://www.isic-archive.com/#!/topWithHeader/tightContentTop/challenges\n",
    "Which has numerous tasks, part 1 being semantic segmentaion of skin lesions,\n",
    "and part 3 for classification between 3 forms of skin lesion.\n",
    "\n",
    "\n",
    "This script assumes a certain stucture within the data directory (PATH).\n",
    "There are four main datasets used;\n",
    "1. ISIC 2017 Challenge (will have to create a login https://challenge.kitware.com/#phase/5840f53ccad3a51cc66c8dab)\n",
    "    Paths used, and assumed in this code.\n",
    "    a. Training Data (PATH/ISIC/ISIC-2017_Training_Data/) labels obtained from learningtitans rep (see below)\n",
    "    b. Validation Data (PATH/ISIC/ISIC-2017_Validation_Data/) and Csv (PATH/ISIC/val_isic17.csv)\n",
    "    a. Testing Data (PATH/ISIC/ISIC-2017_Test_v2_Data_Classification/) and Csv (PATH/ISIC/test_all_17.csv)\n",
    "2. ISIC Archive Data (modified paths from https://github.com/learningtitans/isbi2017-part3#additional-isic-archive-images)\n",
    "3. Dermofit Dataset (we paid for access - https://licensing.eri.ed.ac.uk/i/software/dermofit-image-library.html)\n",
    "4. Ph2 Dataset (modified paths from https://github.com/learningtitans/isbi2017-part3#the-ph2-dataset)\n",
    "\n",
    "\n",
    "The data structure and ground truths is adopted from https://github.com/learningtitans/isbi2017-part3\n",
    "This is repostory from one of the top scoring teams of the ISIC 2017 Part 3 Challenge. Instructions\n",
    "for ISIC Archive Data, and Ph2 datsets are in this repositoy, it also contains 'deploy2017.txt',\n",
    "which I used to get the labels for all the data, except for the ISIC17p3 validation and testset.\n",
    "\n",
    "Acessing HPC Version of all this data:\n",
    "I've copied skin_cancer to the cyphy folder of HPC.\n",
    "It's in /work/cyhpy/SeanMcMahon/datasets/skin_cancer\n",
    "Can mount /work/cyhpy/ on your local machine for access.\n",
    "To get a login to HPC, email hpc-support@qut.edu.au\n",
    "Mounting script (will need to modify):\n",
    "#!/bin/bash\n",
    "sudo mount -t cifs //hpc-fs.qut.edu.au/work/cyphy /home/sean/hpc-cyphy -o user=n8307628,dom=QUTAD,uid=1000\n",
    "\n",
    "\n",
    "By Sean McMahon - 2018"
   ]
  },
  {
   "cell_type": "code",
   "execution_count": 1,
   "metadata": {},
   "outputs": [
    {
     "name": "stderr",
     "output_type": "stream",
     "text": [
      "/home/sean/anaconda3/envs/fastai/lib/python3.6/site-packages/sklearn/ensemble/weight_boosting.py:29: DeprecationWarning: numpy.core.umath_tests is an internal NumPy module and should not be imported. It will be removed in a future NumPy release.\n",
      "  from numpy.core.umath_tests import inner1d\n"
     ]
    },
    {
     "data": {
      "text/plain": [
       "(True, True)"
      ]
     },
     "execution_count": 1,
     "metadata": {},
     "output_type": "execute_result"
    }
   ],
   "source": [
    "%matplotlib inline\n",
    "%reload_ext autoreload\n",
    "%autoreload 2\n",
    "# from jupyterthemes import jtplot\n",
    "# jtplot.style()\n",
    "from segmenter import *\n",
    "from IPython.core.debugger import set_trace\n",
    "from fastai.conv_learner import *\n",
    "import create_csvs as cc\n",
    "torch.cuda.is_available(), torch.backends.cudnn.enabled"
   ]
  },
  {
   "cell_type": "code",
   "execution_count": 2,
   "metadata": {},
   "outputs": [
    {
     "name": "stdout",
     "output_type": "stream",
     "text": [
      "\u001b[0m\u001b[01;34mdermofit\u001b[0m/                         \u001b[01;32mtrain_multi_mel.csv\u001b[0m*\r\n",
      "\u001b[01;34mISIC\u001b[0m/                             \u001b[01;32mtrain_multi_Mel_half.csv\u001b[0m*\r\n",
      "\u001b[01;32misic18_p3_test_data\u001b[0m*              \u001b[01;32mtrain_multi_no_ia_nervi.csv\u001b[0m*\r\n",
      "\u001b[01;34misic_archive\u001b[0m/                     \u001b[01;32mtrain_multi_raw.csv\u001b[0m*\r\n",
      "\u001b[01;34mmodels\u001b[0m/                           \u001b[01;32mtrain_multi_raw_half_ia_nervi.csv\u001b[0m*\r\n",
      "\u001b[01;34mph2dataset\u001b[0m/                       \u001b[01;32mtrain_multi_raw_no_ia_nervi.csv\u001b[0m*\r\n",
      "\u001b[01;32mtest_isic17_dermofitLabels.csv\u001b[0m*   \u001b[01;32mtrain_multi_sk.csv\u001b[0m*\r\n",
      "\u001b[01;34mtmp\u001b[0m/                              \u001b[01;32mtrain_mutli_SK_half.csv\u001b[0m*\r\n",
      "\u001b[01;32mtrain_classes_multi_halfn.csv\u001b[0m*    \u001b[01;32mtrain_seg_classes_multi.csv\u001b[0m*\r\n",
      "\u001b[01;32mtrain_dermofit_isic17.csv\u001b[0m*        \u001b[01;32mtrain_seg_isic17_dermo.csv\u001b[0m*\r\n",
      "\u001b[01;32mtrain_keratosis_multi_halfn.csv\u001b[0m*  \u001b[01;32mtrain_seg_keratosis_multi.csv\u001b[0m*\r\n",
      "\u001b[01;32mtrain_melanoma_multi_halfn.csv\u001b[0m*   \u001b[01;32mtrain_seg_melanoma_multi.csv\u001b[0m*\r\n",
      "\u001b[01;32mtrain_Mel_seg_isic17_dermo.csv\u001b[0m*   \u001b[01;32mtrain_SK_seg_isic17_dermo.csv\u001b[0m*\r\n",
      "\u001b[01;32mtrain_multi.csv\u001b[0m*                  \u001b[01;32mtrain_test_Mel_seg_isic17_dermo.csv\u001b[0m*\r\n",
      "\u001b[01;32mtrain_multi_half_ia_nervi.csv\u001b[0m*    \u001b[01;32mval_isic17.csv\u001b[0m*\r\n"
     ]
    }
   ],
   "source": [
    "# This is the path to the all the datasets, it's also where the model weights will be stored for training later on. \n",
    "# All notebooks assume the same PATH\n",
    "\n",
    "# I've copied skin_cancer to the cyphy folder of HPC.\n",
    "# It's in /work/cyhpy/SeanMcMahon/datasets/skin_cancer\n",
    "# Can mount /work/cyhpy/ on your local machine for access (hpc).\n",
    "# To get a login to HPC, email hpc-support@qut.edu.au\n",
    "# If not you can download all the data yourself, but will require some formatting.\n",
    "PATH = Path('/home/sean/hpc-home/skin_cancer/')\n",
    "%ls $PATH"
   ]
  },
  {
   "cell_type": "code",
   "execution_count": 3,
   "metadata": {},
   "outputs": [],
   "source": [
    "# thesea are some of the paths assumed in my code. This should be all of them.\n",
    "\n",
    "test_folder = 'ISIC/ISIC-2017_Test_v2_Data_Classification/'\n",
    "test_csv = PATH / 'ISIC/test_isic17.csv'\n",
    "val_csv = PATH / 'val_isic17.csv'\n",
    "isic_trn = PATH / 'ISIC/ISIC-2017_Training_Data'\n",
    "isic_val = PATH / 'ISIC/ISIC-2017_Validation_Data'\n",
    "dermofit = PATH / 'dermofit'\n",
    "dermofit_csv = PATH / 'dermofit/train.csv'\n",
    "ph2 = PATH / 'ph2dataset/PH2_Dataset_images'\n",
    "isic_archive = PATH / 'isic_archive/images/'\n",
    "learningtitans_txt = PATH / 'isic_archive/recod_titans_sub/data/deploy2017.txt'\n",
    "\n",
    "names = ['test_folder', 'test_csv', 'val_csv', 'isic_trn', 'isic_val', \n",
    "        'dermofit', 'dermofit_csv', 'ph2', 'isic_archive', 'learningtitans_txt']\n",
    "dirs = [PATH / test_folder, test_csv, val_csv, isic_trn, isic_val, \n",
    "        dermofit, dermofit_csv, ph2, isic_archive, learningtitans_txt]\n",
    "\n",
    "# Make sure these paths exist.\n",
    "e_f = False\n",
    "for n, d in zip(names, dirs):\n",
    "    if not d.exists():\n",
    "        print(f'cannot find {n}, this code assumes its existance -> \"{d}\"')\n",
    "        e_f = True\n",
    "if e_f: raise(FileNotFoundError('Some files or directories not found, they must exist for this code to work!'))"
   ]
  },
  {
   "cell_type": "code",
   "execution_count": 4,
   "metadata": {},
   "outputs": [
    {
     "name": "stdout",
     "output_type": "stream",
     "text": [
      "--- Load ISIC 17 Train set\n"
     ]
    },
    {
     "name": "stderr",
     "output_type": "stream",
     "text": [
      "/home/sean/anaconda3/envs/fastai/lib/python3.6/site-packages/pandas/core/indexing.py:189: SettingWithCopyWarning: \n",
      "A value is trying to be set on a copy of a slice from a DataFrame\n",
      "\n",
      "See the caveats in the documentation: http://pandas.pydata.org/pandas-docs/stable/indexing.html#indexing-view-versus-copy\n",
      "  self._setitem_with_indexer(indexer, value)\n"
     ]
    },
    {
     "name": "stdout",
     "output_type": "stream",
     "text": [
      "nevus        1372\n",
      "melanoma      374\n",
      "keratosis     254\n",
      "Name: classes, dtype: int64\n",
      "                                               melanoma  keratosis   classes\n",
      "image                                                                       \n",
      "ISIC/ISIC-2017_Training_Data/ISIC_0000000.jpg         0          0     nevus\n",
      "ISIC/ISIC-2017_Training_Data/ISIC_0000001.jpg         0          0     nevus\n",
      "ISIC/ISIC-2017_Training_Data/ISIC_0000002.jpg         1          0  melanoma\n",
      "ISIC/ISIC-2017_Training_Data/ISIC_0000003.jpg         0          0     nevus\n",
      "ISIC/ISIC-2017_Training_Data/ISIC_0000004.jpg         1          0  melanoma\n",
      "--- Load Half Nevus ISIC Archive Dataset\n",
      "nevus        1667\n",
      "melanoma      701\n",
      "keratosis       9\n",
      "Name: classes, dtype: int64\n",
      "                                                  melanoma  keratosis  \\\n",
      "image                                                                   \n",
      "isic_archive/images/5436e3acbae478396759f0e5.jpg         0          0   \n",
      "isic_archive/images/5593f47b9fc3c131551460fc.jpg         0          0   \n",
      "isic_archive/images/5436e3f4bae478396759f4a6.jpg         0          0   \n",
      "isic_archive/images/558d637cbae47801cf734dbc.jpg         1          0   \n",
      "isic_archive/images/558d60e8bae47801cf7345b2.jpg         1          0   \n",
      "\n",
      "                                                   classes  \n",
      "image                                                       \n",
      "isic_archive/images/5436e3acbae478396759f0e5.jpg     nevus  \n",
      "isic_archive/images/5593f47b9fc3c131551460fc.jpg     nevus  \n",
      "isic_archive/images/5436e3f4bae478396759f4a6.jpg     nevus  \n",
      "isic_archive/images/558d637cbae47801cf734dbc.jpg  melanoma  \n",
      "isic_archive/images/558d60e8bae47801cf7345b2.jpg  melanoma  \n",
      "--- Load Dermofit Dataset\n",
      "True\n",
      "nevus        967\n",
      "keratosis    257\n",
      "melanoma      76\n",
      "Name: classes, dtype: int64\n",
      "                                 melanoma  keratosis classes\n",
      "dermofit/ALLBCC/D204a/D204a.png         0          0   nevus\n",
      "dermofit/ALLSCC/D222/D222.png           0          0   nevus\n",
      "dermofit/ALLML/D226b/D226b.png          0          0   nevus\n",
      "dermofit/ALLML/D226c/D226c.png          0          0   nevus\n",
      "dermofit/ALLML/D227/D227.png            0          0   nevus\n",
      "--- Load PH2 Dataset\n",
      "True\n",
      "nevus       80\n",
      "melanoma    40\n",
      "Name: classes, dtype: int64\n",
      "                                                    melanoma  keratosis  \\\n",
      "ph2dataset/PH2_Dataset_images/IMD003/IMD003_Der...         0          0   \n",
      "ph2dataset/PH2_Dataset_images/IMD009/IMD009_Der...         0          0   \n",
      "ph2dataset/PH2_Dataset_images/IMD016/IMD016_Der...         0          0   \n",
      "ph2dataset/PH2_Dataset_images/IMD022/IMD022_Der...         0          0   \n",
      "ph2dataset/PH2_Dataset_images/IMD024/IMD024_Der...         0          0   \n",
      "\n",
      "                                                   classes  \n",
      "ph2dataset/PH2_Dataset_images/IMD003/IMD003_Der...   nevus  \n",
      "ph2dataset/PH2_Dataset_images/IMD009/IMD009_Der...   nevus  \n",
      "ph2dataset/PH2_Dataset_images/IMD016/IMD016_Der...   nevus  \n",
      "ph2dataset/PH2_Dataset_images/IMD022/IMD022_Der...   nevus  \n",
      "ph2dataset/PH2_Dataset_images/IMD024/IMD024_Der...   nevus  \n",
      "--- Load ISIC 17 Validation\n",
      "nevus        78\n",
      "keratosis    42\n",
      "melanoma     30\n",
      "Name: classes, dtype: int64\n",
      "                                                 melanoma  keratosis classes\n",
      "image                                                                       \n",
      "ISIC/ISIC-2017_Validation_Data/ISIC_0001769.jpg         0          0   nevus\n",
      "ISIC/ISIC-2017_Validation_Data/ISIC_0001852.jpg         0          0   nevus\n",
      "ISIC/ISIC-2017_Validation_Data/ISIC_0001871.jpg         0          0   nevus\n",
      "ISIC/ISIC-2017_Validation_Data/ISIC_0003462.jpg         0          0   nevus\n",
      "ISIC/ISIC-2017_Validation_Data/ISIC_0003539.jpg         0          0   nevus\n",
      "\n",
      "------\n",
      "\n",
      "Multi Dataset Trainset... 5947 elements\n",
      "nevus        4164\n",
      "melanoma     1221\n",
      "keratosis     562\n",
      "Name: classes, dtype: int64\n",
      "                                               melanoma  keratosis   classes\n",
      "ISIC/ISIC-2017_Training_Data/ISIC_0000000.jpg         0          0     nevus\n",
      "ISIC/ISIC-2017_Training_Data/ISIC_0000001.jpg         0          0     nevus\n",
      "ISIC/ISIC-2017_Training_Data/ISIC_0000002.jpg         1          0  melanoma\n",
      "ISIC/ISIC-2017_Training_Data/ISIC_0000003.jpg         0          0     nevus\n",
      "ISIC/ISIC-2017_Training_Data/ISIC_0000004.jpg         1          0  melanoma\n",
      " ---- \n",
      "--- Load ISIC 17 Testset\n",
      "nevus        393\n",
      "melanoma     117\n",
      "keratosis     90\n",
      "Name: classes, dtype: int64\n",
      "                                                      classes  melanoma  \\\n",
      "ISIC/ISIC-2017_Test_v2_Data_Classification/ISIC...  keratosis         0   \n",
      "ISIC/ISIC-2017_Test_v2_Data_Classification/ISIC...      nevus         0   \n",
      "ISIC/ISIC-2017_Test_v2_Data_Classification/ISIC...      nevus         0   \n",
      "ISIC/ISIC-2017_Test_v2_Data_Classification/ISIC...  keratosis         0   \n",
      "ISIC/ISIC-2017_Test_v2_Data_Classification/ISIC...  keratosis         0   \n",
      "\n",
      "                                                    keratosis  \n",
      "ISIC/ISIC-2017_Test_v2_Data_Classification/ISIC...          1  \n",
      "ISIC/ISIC-2017_Test_v2_Data_Classification/ISIC...          0  \n",
      "ISIC/ISIC-2017_Test_v2_Data_Classification/ISIC...          0  \n",
      "ISIC/ISIC-2017_Test_v2_Data_Classification/ISIC...          1  \n",
      "ISIC/ISIC-2017_Test_v2_Data_Classification/ISIC...          1  \n"
     ]
    }
   ],
   "source": [
    "train_df, test_df = cc.create_half_nevus_datasets(PATH)"
   ]
  },
  {
   "cell_type": "code",
   "execution_count": 5,
   "metadata": {},
   "outputs": [
    {
     "name": "stdout",
     "output_type": "stream",
     "text": [
      "0    4726\n",
      "1    1221\n",
      "Name: melanoma, dtype: int64\n",
      "0    5385\n",
      "1     562\n",
      "Name: keratosis, dtype: int64\n"
     ]
    },
    {
     "data": {
      "text/plain": [
       "<matplotlib.axes._subplots.AxesSubplot at 0x7ff8460f3c18>"
      ]
     },
     "execution_count": 5,
     "metadata": {},
     "output_type": "execute_result"
    },
    {
     "data": {
      "image/png": "[encoded data removed]",
      "text/plain": [
       "<Figure size 432x288 with 1 Axes>"
      ]
     },
     "metadata": {
      "needs_background": "light"
     },
     "output_type": "display_data"
    }
   ],
   "source": [
    "print(train_df['melanoma'].value_counts())\n",
    "print(train_df['keratosis'].value_counts())\n",
    "\n",
    "train_df['classes'].value_counts().plot(kind='barh')"
   ]
  },
  {
   "cell_type": "code",
   "execution_count": 6,
   "metadata": {},
   "outputs": [
    {
     "name": "stdout",
     "output_type": "stream",
     "text": [
      "0    483\n",
      "1    117\n",
      "Name: melanoma, dtype: int64\n",
      "0    510\n",
      "1     90\n",
      "Name: keratosis, dtype: int64\n"
     ]
    },
    {
     "data": {
      "text/plain": [
       "<matplotlib.axes._subplots.AxesSubplot at 0x7ff8b8725080>"
      ]
     },
     "execution_count": 6,
     "metadata": {},
     "output_type": "execute_result"
    },
    {
     "data": {
      "image/png": "[encoded data removed]",
      "text/plain": [
       "<Figure size 432x288 with 1 Axes>"
      ]
     },
     "metadata": {
      "needs_background": "light"
     },
     "output_type": "display_data"
    }
   ],
   "source": [
    "print(test_df['melanoma'].value_counts())\n",
    "print(test_df['keratosis'].value_counts())\n",
    "\n",
    "test_df['classes'].value_counts().plot(kind='barh')"
   ]
  },
  {
   "cell_type": "markdown",
   "metadata": {},
   "source": [
    "## Segmentation of lesion images for pre-training"
   ]
  },
  {
   "cell_type": "code",
   "execution_count": 7,
   "metadata": {},
   "outputs": [
    {
     "name": "stdout",
     "output_type": "stream",
     "text": [
      "--- Load ISIC 17 Train set\n",
      "nevus        1372\n",
      "melanoma      374\n",
      "keratosis     254\n",
      "Name: classes, dtype: int64\n",
      "                                               melanoma  keratosis   classes\n",
      "image                                                                       \n",
      "ISIC/ISIC-2017_Training_Data/ISIC_0000000.jpg         0          0     nevus\n",
      "ISIC/ISIC-2017_Training_Data/ISIC_0000001.jpg         0          0     nevus\n",
      "ISIC/ISIC-2017_Training_Data/ISIC_0000002.jpg         1          0  melanoma\n",
      "ISIC/ISIC-2017_Training_Data/ISIC_0000003.jpg         0          0     nevus\n",
      "ISIC/ISIC-2017_Training_Data/ISIC_0000004.jpg         1          0  melanoma\n",
      "--- Load Dermofit Dataset\n",
      "True\n",
      "nevus        967\n",
      "keratosis    257\n",
      "melanoma      76\n",
      "Name: classes, dtype: int64\n",
      "                                 melanoma  keratosis classes\n",
      "dermofit/ALLBCC/D204a/D204a.png         0          0   nevus\n",
      "dermofit/ALLSCC/D222/D222.png           0          0   nevus\n",
      "dermofit/ALLML/D226b/D226b.png          0          0   nevus\n",
      "dermofit/ALLML/D226c/D226c.png          0          0   nevus\n",
      "dermofit/ALLML/D227/D227.png            0          0   nevus\n",
      "--- Load PH2 Dataset\n",
      "True\n",
      "nevus       80\n",
      "melanoma    40\n",
      "Name: classes, dtype: int64\n",
      "                                                    melanoma  keratosis  \\\n",
      "ph2dataset/PH2_Dataset_images/IMD003/IMD003_Der...         0          0   \n",
      "ph2dataset/PH2_Dataset_images/IMD009/IMD009_Der...         0          0   \n",
      "ph2dataset/PH2_Dataset_images/IMD016/IMD016_Der...         0          0   \n",
      "ph2dataset/PH2_Dataset_images/IMD022/IMD022_Der...         0          0   \n",
      "ph2dataset/PH2_Dataset_images/IMD024/IMD024_Der...         0          0   \n",
      "\n",
      "                                                   classes  \n",
      "ph2dataset/PH2_Dataset_images/IMD003/IMD003_Der...   nevus  \n",
      "ph2dataset/PH2_Dataset_images/IMD009/IMD009_Der...   nevus  \n",
      "ph2dataset/PH2_Dataset_images/IMD016/IMD016_Der...   nevus  \n",
      "ph2dataset/PH2_Dataset_images/IMD022/IMD022_Der...   nevus  \n",
      "ph2dataset/PH2_Dataset_images/IMD024/IMD024_Der...   nevus  \n",
      "--- Load ISIC 17 Validation\n",
      "nevus        78\n",
      "keratosis    42\n",
      "melanoma     30\n",
      "Name: classes, dtype: int64\n",
      "                                                 melanoma  keratosis classes\n",
      "image                                                                       \n",
      "ISIC/ISIC-2017_Validation_Data/ISIC_0001769.jpg         0          0   nevus\n",
      "ISIC/ISIC-2017_Validation_Data/ISIC_0001852.jpg         0          0   nevus\n",
      "ISIC/ISIC-2017_Validation_Data/ISIC_0001871.jpg         0          0   nevus\n",
      "ISIC/ISIC-2017_Validation_Data/ISIC_0003462.jpg         0          0   nevus\n",
      "ISIC/ISIC-2017_Validation_Data/ISIC_0003539.jpg         0          0   nevus\n",
      "\n",
      "------\n",
      "\n",
      "Multi Dataset Trainset... 3570 elements\n",
      "nevus        2497\n",
      "keratosis     553\n",
      "melanoma      520\n",
      "Name: classes, dtype: int64\n",
      "--- Load ISIC 17 Testset\n",
      "nevus        393\n",
      "melanoma     117\n",
      "keratosis     90\n",
      "Name: classes, dtype: int64\n",
      "                                                      classes  melanoma  \\\n",
      "ISIC/ISIC-2017_Test_v2_Data_Classification/ISIC...  keratosis         0   \n",
      "ISIC/ISIC-2017_Test_v2_Data_Classification/ISIC...      nevus         0   \n",
      "ISIC/ISIC-2017_Test_v2_Data_Classification/ISIC...      nevus         0   \n",
      "ISIC/ISIC-2017_Test_v2_Data_Classification/ISIC...  keratosis         0   \n",
      "ISIC/ISIC-2017_Test_v2_Data_Classification/ISIC...  keratosis         0   \n",
      "\n",
      "                                                    keratosis  \n",
      "ISIC/ISIC-2017_Test_v2_Data_Classification/ISIC...          1  \n",
      "ISIC/ISIC-2017_Test_v2_Data_Classification/ISIC...          0  \n",
      "ISIC/ISIC-2017_Test_v2_Data_Classification/ISIC...          0  \n",
      "ISIC/ISIC-2017_Test_v2_Data_Classification/ISIC...          1  \n",
      "ISIC/ISIC-2017_Test_v2_Data_Classification/ISIC...          1  \n",
      "nevus        393\n",
      "melanoma     117\n",
      "keratosis     90\n",
      "Name: classes, dtype: int64\n"
     ]
    }
   ],
   "source": [
    "seg_trn, seg_tst = cc.create_seg_datasets(PATH)"
   ]
  },
  {
   "cell_type": "code",
   "execution_count": 9,
   "metadata": {},
   "outputs": [
    {
     "name": "stdout",
     "output_type": "stream",
     "text": [
      "0    3050\n",
      "1     520\n",
      "Name: melanoma, dtype: int64\n",
      "0    3017\n",
      "1     553\n",
      "Name: keratosis, dtype: int64\n"
     ]
    },
    {
     "data": {
      "text/plain": [
       "<matplotlib.axes._subplots.AxesSubplot at 0x7ff8b86c19e8>"
      ]
     },
     "execution_count": 9,
     "metadata": {},
     "output_type": "execute_result"
    },
    {
     "data": {
      "image/png": "[encoded data removed]",
      "text/plain": [
       "<Figure size 432x288 with 1 Axes>"
      ]
     },
     "metadata": {
      "needs_background": "light"
     },
     "output_type": "display_data"
    }
   ],
   "source": [
    "print(seg_trn['melanoma'].value_counts())\n",
    "print(seg_trn['keratosis'].value_counts())\n",
    "\n",
    "seg_trn['classes'].value_counts().plot(kind='barh')"
   ]
  },
  {
   "cell_type": "code",
   "execution_count": 10,
   "metadata": {},
   "outputs": [
    {
     "name": "stdout",
     "output_type": "stream",
     "text": [
      "0    483\n",
      "1    117\n",
      "Name: melanoma, dtype: int64\n",
      "0    510\n",
      "1     90\n",
      "Name: keratosis, dtype: int64\n"
     ]
    },
    {
     "data": {
      "text/plain": [
       "<matplotlib.axes._subplots.AxesSubplot at 0x7ff8b85fc710>"
      ]
     },
     "execution_count": 10,
     "metadata": {},
     "output_type": "execute_result"
    },
    {
     "data": {
      "image/png": "[encoded data removed]",
      "text/plain": [
       "<Figure size 432x288 with 1 Axes>"
      ]
     },
     "metadata": {
      "needs_background": "light"
     },
     "output_type": "display_data"
    }
   ],
   "source": [
    "print(seg_tst['melanoma'].value_counts())\n",
    "print(seg_tst['keratosis'].value_counts())\n",
    "\n",
    "seg_tst['classes'].value_counts().plot(kind='barh')"
   ]
  }
 ],
 "metadata": {
  "kernelspec": {
   "display_name": "Python 3",
   "language": "python",
   "name": "python3"
  },
  "language_info": {
   "codemirror_mode": {
    "name": "ipython",
    "version": 3
   },
   "file_extension": ".py",
   "mimetype": "text/x-python",
   "name": "python",
   "nbconvert_exporter": "python",
   "pygments_lexer": "ipython3",
   "version": "3.6.5"
  }
 },
 "nbformat": 4,
 "nbformat_minor": 2
}
