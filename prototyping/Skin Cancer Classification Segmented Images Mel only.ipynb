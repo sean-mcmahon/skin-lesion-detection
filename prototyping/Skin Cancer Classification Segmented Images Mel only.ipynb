{
 "cells": [
  {
   "cell_type": "code",
   "execution_count": 2,
   "metadata": {},
   "outputs": [
    {
     "name": "stderr",
     "output_type": "stream",
     "text": [
      "/home/sean/anaconda3/envs/fastai/lib/python3.6/site-packages/sklearn/ensemble/weight_boosting.py:29: DeprecationWarning: numpy.core.umath_tests is an internal NumPy module and should not be imported. It will be removed in a future NumPy release.\n",
      "  from numpy.core.umath_tests import inner1d\n"
     ]
    },
    {
     "data": {
      "text/plain": [
       "(True, True)"
      ]
     },
     "execution_count": 2,
     "metadata": {},
     "output_type": "execute_result"
    }
   ],
   "source": [
    "%reload_ext autoreload\n",
    "%autoreload 2\n",
    "%matplotlib inline\n",
    "from segmenter import *\n",
    "from classifier import *\n",
    "from classifier import ClassifierTrainer\n",
    "torch.cuda.is_available(), torch.backends.cudnn.enabled"
   ]
  },
  {
   "cell_type": "code",
   "execution_count": 3,
   "metadata": {},
   "outputs": [
    {
     "name": "stdout",
     "output_type": "stream",
     "text": [
      "\u001b[0m\u001b[01;34mdermofit\u001b[0m/                        \u001b[01;32mtrain_multi_half_ia_nervi.csv\u001b[0m*\r\n",
      "\u001b[01;34mISIC\u001b[0m/                            \u001b[01;32mtrain_multi_mel.csv\u001b[0m*\r\n",
      "\u001b[01;32misic18_p3_test_data\u001b[0m*             \u001b[01;32mtrain_multi_no_ia_nervi.csv\u001b[0m*\r\n",
      "\u001b[01;34misic_archive\u001b[0m/                    \u001b[01;32mtrain_multi_raw.csv\u001b[0m*\r\n",
      "\u001b[01;34mmodels\u001b[0m/                          \u001b[01;32mtrain_multi_raw_half_ia_nervi.csv\u001b[0m*\r\n",
      "\u001b[01;34mph2dataset\u001b[0m/                      \u001b[01;32mtrain_multi_raw_no_ia_nervi.csv\u001b[0m*\r\n",
      "\u001b[01;32mtest_isic17_dermofitLabels.csv\u001b[0m*  \u001b[01;32mtrain_multi_sk.csv\u001b[0m*\r\n",
      "\u001b[01;34mtmp\u001b[0m/                             \u001b[01;32mtrain_seg_isic17_dermo.csv\u001b[0m*\r\n",
      "\u001b[01;32mtrain_dermofit_isic17.csv\u001b[0m*       \u001b[01;32mtrain_test_Mel_seg_isic17_dermo.csv\u001b[0m*\r\n",
      "\u001b[01;32mtrain_Mel_seg_isic17_dermo.csv\u001b[0m*  \u001b[01;32mval_isic17.csv\u001b[0m*\r\n",
      "\u001b[01;32mtrain_multi.csv\u001b[0m*\r\n"
     ]
    }
   ],
   "source": [
    "PATH = Path('/home/sean/hpc-home/skin_cancer/')\n",
    "test_folder = 'ISIC/ISIC-2017_Test_v2_Data_lesion_seg'\n",
    "# test_seg_csv = PATH / 'ISIC/test_seg_isic17.csv'\n",
    "\n",
    "# test_df_csv = PATH / 'ISIC/test_isic17.csv'\n",
    "\n",
    "# train_seg_csv = PATH / 'train_seg_isic17_dermo.csv'\n",
    "\n",
    "# test_seg_csv = PATH / 'ISIC/test_seg_isic17.csv'\n",
    "\n",
    "# train_test_csv =  PATH / 'train_test_Mel_seg_isic17_dermo.csv'\n",
    "\n",
    "\n",
    "train_mel_cls_seg_p = PATH / 'train_Mel_seg_isic17_dermo.csv'\n",
    "test_mel_cls_seg_p = PATH / 'ISIC/test_Mel_seg_isic17_dermo.csv'\n",
    "\n",
    "\n",
    "%ls $PATH"
   ]
  },
  {
   "cell_type": "code",
   "execution_count": 13,
   "metadata": {},
   "outputs": [
    {
     "data": {
      "text/html": [
       "<div>\n",
       "<style scoped>\n",
       "    .dataframe tbody tr th:only-of-type {\n",
       "        vertical-align: middle;\n",
       "    }\n",
       "\n",
       "    .dataframe tbody tr th {\n",
       "        vertical-align: top;\n",
       "    }\n",
       "\n",
       "    .dataframe thead th {\n",
       "        text-align: right;\n",
       "    }\n",
       "</style>\n",
       "<table border=\"1\" class=\"dataframe\">\n",
       "  <thead>\n",
       "    <tr style=\"text-align: right;\">\n",
       "      <th></th>\n",
       "      <th>1</th>\n",
       "      <th>mel_cls</th>\n",
       "    </tr>\n",
       "    <tr>\n",
       "      <th>0</th>\n",
       "      <th></th>\n",
       "      <th></th>\n",
       "    </tr>\n",
       "  </thead>\n",
       "  <tbody>\n",
       "    <tr>\n",
       "      <th>ISIC/ISIC-2017_Training_Data_lesion_seg/ISIC_0000000.jpg</th>\n",
       "      <td>nevus</td>\n",
       "      <td>0</td>\n",
       "    </tr>\n",
       "    <tr>\n",
       "      <th>ISIC/ISIC-2017_Training_Data_lesion_seg/ISIC_0000001.jpg</th>\n",
       "      <td>nevus</td>\n",
       "      <td>0</td>\n",
       "    </tr>\n",
       "    <tr>\n",
       "      <th>ISIC/ISIC-2017_Training_Data_lesion_seg/ISIC_0000002.jpg</th>\n",
       "      <td>melanoma</td>\n",
       "      <td>1</td>\n",
       "    </tr>\n",
       "    <tr>\n",
       "      <th>ISIC/ISIC-2017_Training_Data_lesion_seg/ISIC_0000003.jpg</th>\n",
       "      <td>nevus</td>\n",
       "      <td>0</td>\n",
       "    </tr>\n",
       "    <tr>\n",
       "      <th>ISIC/ISIC-2017_Training_Data_lesion_seg/ISIC_0000004.jpg</th>\n",
       "      <td>melanoma</td>\n",
       "      <td>1</td>\n",
       "    </tr>\n",
       "  </tbody>\n",
       "</table>\n",
       "</div>"
      ],
      "text/plain": [
       "                                                           1  mel_cls\n",
       "0                                                                    \n",
       "ISIC/ISIC-2017_Training_Data_lesion_seg/ISIC_00...     nevus        0\n",
       "ISIC/ISIC-2017_Training_Data_lesion_seg/ISIC_00...     nevus        0\n",
       "ISIC/ISIC-2017_Training_Data_lesion_seg/ISIC_00...  melanoma        1\n",
       "ISIC/ISIC-2017_Training_Data_lesion_seg/ISIC_00...     nevus        0\n",
       "ISIC/ISIC-2017_Training_Data_lesion_seg/ISIC_00...  melanoma        1"
      ]
     },
     "execution_count": 13,
     "metadata": {},
     "output_type": "execute_result"
    }
   ],
   "source": [
    "tr_df = pd.read_csv(train_df_csv, header=None, index_col=0)\n",
    "tr_df['mel_cls'] = (tr_df[1] == 'melanoma').astype(int)\n",
    "\n",
    "tr_df.head()"
   ]
  },
  {
   "cell_type": "code",
   "execution_count": 17,
   "metadata": {},
   "outputs": [],
   "source": [
    "mel_cls_seg_p = PATH / 'train_Mel_seg_isic17_dermo.csv'\n",
    "tr_df.drop(columns=1).to_csv(mel_cls_seg_p)"
   ]
  },
  {
   "cell_type": "markdown",
   "metadata": {},
   "source": [
    "### Testset"
   ]
  },
  {
   "cell_type": "code",
   "execution_count": 3,
   "metadata": {},
   "outputs": [
    {
     "data": {
      "text/html": [
       "<div>\n",
       "<style scoped>\n",
       "    .dataframe tbody tr th:only-of-type {\n",
       "        vertical-align: middle;\n",
       "    }\n",
       "\n",
       "    .dataframe tbody tr th {\n",
       "        vertical-align: top;\n",
       "    }\n",
       "\n",
       "    .dataframe thead th {\n",
       "        text-align: right;\n",
       "    }\n",
       "</style>\n",
       "<table border=\"1\" class=\"dataframe\">\n",
       "  <thead>\n",
       "    <tr style=\"text-align: right;\">\n",
       "      <th></th>\n",
       "      <th>classes</th>\n",
       "      <th>mel_cls</th>\n",
       "    </tr>\n",
       "    <tr>\n",
       "      <th>image_id</th>\n",
       "      <th></th>\n",
       "      <th></th>\n",
       "    </tr>\n",
       "  </thead>\n",
       "  <tbody>\n",
       "    <tr>\n",
       "      <th>ISIC_0012086</th>\n",
       "      <td>seborrheic_keratosis</td>\n",
       "      <td>0</td>\n",
       "    </tr>\n",
       "    <tr>\n",
       "      <th>ISIC_0012092</th>\n",
       "      <td>nevus</td>\n",
       "      <td>0</td>\n",
       "    </tr>\n",
       "    <tr>\n",
       "      <th>ISIC_0012095</th>\n",
       "      <td>nevus</td>\n",
       "      <td>0</td>\n",
       "    </tr>\n",
       "    <tr>\n",
       "      <th>ISIC_0012134</th>\n",
       "      <td>seborrheic_keratosis</td>\n",
       "      <td>0</td>\n",
       "    </tr>\n",
       "    <tr>\n",
       "      <th>ISIC_0012136</th>\n",
       "      <td>seborrheic_keratosis</td>\n",
       "      <td>0</td>\n",
       "    </tr>\n",
       "  </tbody>\n",
       "</table>\n",
       "</div>"
      ],
      "text/plain": [
       "                           classes  mel_cls\n",
       "image_id                                   \n",
       "ISIC_0012086  seborrheic_keratosis        0\n",
       "ISIC_0012092                 nevus        0\n",
       "ISIC_0012095                 nevus        0\n",
       "ISIC_0012134  seborrheic_keratosis        0\n",
       "ISIC_0012136  seborrheic_keratosis        0"
      ]
     },
     "execution_count": 3,
     "metadata": {},
     "output_type": "execute_result"
    }
   ],
   "source": [
    "tst_df = pd.read_csv(test_df_csv, index_col='image_id')\n",
    "tst_df['mel_cls'] = (tst_df['classes'] == 'melanoma').astype(int)\n",
    "# tst_df['mel_cls'].value_counts().plot(kind='barh')\n",
    "tst_df.head()"
   ]
  },
  {
   "cell_type": "code",
   "execution_count": 28,
   "metadata": {},
   "outputs": [],
   "source": [
    "tst_df.drop(columns='classes').to_csv(test_mel_cls_seg_p)"
   ]
  },
  {
   "cell_type": "code",
   "execution_count": 45,
   "metadata": {},
   "outputs": [
    {
     "data": {
      "text/html": [
       "<div>\n",
       "<style scoped>\n",
       "    .dataframe tbody tr th:only-of-type {\n",
       "        vertical-align: middle;\n",
       "    }\n",
       "\n",
       "    .dataframe tbody tr th {\n",
       "        vertical-align: top;\n",
       "    }\n",
       "\n",
       "    .dataframe thead th {\n",
       "        text-align: right;\n",
       "    }\n",
       "</style>\n",
       "<table border=\"1\" class=\"dataframe\">\n",
       "  <thead>\n",
       "    <tr style=\"text-align: right;\">\n",
       "      <th></th>\n",
       "      <th>mel_cls</th>\n",
       "    </tr>\n",
       "  </thead>\n",
       "  <tbody>\n",
       "    <tr>\n",
       "      <th>ISIC/ISIC-2017_Test_v2_Data_lesion_seg/ISIC_0016068.jpg</th>\n",
       "      <td>0</td>\n",
       "    </tr>\n",
       "    <tr>\n",
       "      <th>ISIC/ISIC-2017_Test_v2_Data_lesion_seg/ISIC_0016069.jpg</th>\n",
       "      <td>0</td>\n",
       "    </tr>\n",
       "    <tr>\n",
       "      <th>ISIC/ISIC-2017_Test_v2_Data_lesion_seg/ISIC_0016070.jpg</th>\n",
       "      <td>0</td>\n",
       "    </tr>\n",
       "    <tr>\n",
       "      <th>ISIC/ISIC-2017_Test_v2_Data_lesion_seg/ISIC_0016071.jpg</th>\n",
       "      <td>0</td>\n",
       "    </tr>\n",
       "    <tr>\n",
       "      <th>ISIC/ISIC-2017_Test_v2_Data_lesion_seg/ISIC_0016072.jpg</th>\n",
       "      <td>0</td>\n",
       "    </tr>\n",
       "  </tbody>\n",
       "</table>\n",
       "</div>"
      ],
      "text/plain": [
       "                                                    mel_cls\n",
       "ISIC/ISIC-2017_Test_v2_Data_lesion_seg/ISIC_001...        0\n",
       "ISIC/ISIC-2017_Test_v2_Data_lesion_seg/ISIC_001...        0\n",
       "ISIC/ISIC-2017_Test_v2_Data_lesion_seg/ISIC_001...        0\n",
       "ISIC/ISIC-2017_Test_v2_Data_lesion_seg/ISIC_001...        0\n",
       "ISIC/ISIC-2017_Test_v2_Data_lesion_seg/ISIC_001...        0"
      ]
     },
     "execution_count": 45,
     "metadata": {},
     "output_type": "execute_result"
    }
   ],
   "source": [
    "test_df_path = tst_df.drop(columns='classes')\n",
    "test_df_path.index = test_folder + '/' + test_df_path.index + '.jpg'\n",
    "train_test_df = pd.concat([tr_df.drop(columns=1), test_df_path])\n",
    "train_test_val_idx = range(len(tr_df.drop(columns=1)), len(train_test_df))\n",
    "\n",
    "train_test_df.to_csv(train_test_csv)\n",
    "train_test_df.tail()"
   ]
  },
  {
   "cell_type": "code",
   "execution_count": null,
   "metadata": {},
   "outputs": [],
   "source": [
    "train_test_val_idx = range(len(tr_df.drop(columns=1)), len(train_test_df))"
   ]
  },
  {
   "cell_type": "code",
   "execution_count": 4,
   "metadata": {},
   "outputs": [],
   "source": [
    "train_test_val_idx = range(3450, 4050)  # hard coded from above code"
   ]
  },
  {
   "cell_type": "markdown",
   "metadata": {},
   "source": [
    "## Setup Trainer"
   ]
  },
  {
   "cell_type": "code",
   "execution_count": 4,
   "metadata": {},
   "outputs": [
    {
     "name": "stdout",
     "output_type": "stream",
     "text": [
      "Saving model as \"resnet101_seglessions_mel\"\n",
      "Dataset has: ['0', '1'] classes\n"
     ]
    }
   ],
   "source": [
    "# The network architecture to use, resnet34 is a good start, will get better performance with resnext50 or inceptionv4\n",
    "arch=resnet101\n",
    "# image size\n",
    "sz=128\n",
    "bs=64\n",
    "train_csv = train_mel_cls_seg_p\n",
    "trlen = len(pd.read_csv(train_csv))\n",
    "val_idx = list(range(trlen - 150, trlen))\n",
    "test_csv = test_mel_cls_seg_p\n",
    "w_name = arch.__name__ + '_seglessions_mel'\n",
    "\n",
    "trainer = ClassifierTrainer(PATH, arch, sz, bs, train_csv, test_folder=test_folder, val_idx=val_idx, sn=w_name,\n",
    "                  num_workers=8, test_csv=test_csv, precom=False)\n",
    "# trainer.lr_find()"
   ]
  },
  {
   "cell_type": "code",
   "execution_count": 11,
   "metadata": {},
   "outputs": [],
   "source": [
    "trainer.load(w_name + '_1')\n",
    "trainer.learn.precompute = False"
   ]
  },
  {
   "cell_type": "code",
   "execution_count": 5,
   "metadata": {},
   "outputs": [
    {
     "data": {
      "application/vnd.jupyter.widget-view+json": {
       "model_id": "2b83aeac0a9249ff828f4206faeaef5c",
       "version_major": 2,
       "version_minor": 0
      },
      "text/plain": [
       "HBox(children=(IntProgress(value=0, description='Epoch', max=1), HTML(value='')))"
      ]
     },
     "metadata": {},
     "output_type": "display_data"
    },
    {
     "name": "stdout",
     "output_type": "stream",
     "text": [
      " 92%|█████████▏| 48/52 [00:26<00:02,  1.80it/s, loss=2.63] "
     ]
    },
    {
     "data": {
      "image/png": "[encoded data removed]",
      "text/plain": [
       "<Figure size 432x288 with 1 Axes>"
      ]
     },
     "metadata": {
      "needs_background": "light"
     },
     "output_type": "display_data"
    }
   ],
   "source": [
    "trainer.lr_find()"
   ]
  },
  {
   "cell_type": "code",
   "execution_count": 6,
   "metadata": {},
   "outputs": [],
   "source": [
    "trainer.check_test_names()"
   ]
  },
  {
   "cell_type": "code",
   "execution_count": 3,
   "metadata": {},
   "outputs": [],
   "source": [
    "# for i in range(min(len(trainer.data.classes),10)): sample_ims(PATH, i, trainer.data, numimgs=4, figsize=(10,5))"
   ]
  },
  {
   "cell_type": "code",
   "execution_count": 7,
   "metadata": {},
   "outputs": [
    {
     "data": {
      "application/vnd.jupyter.widget-view+json": {
       "model_id": "b611355e0fd549e18abead8e0f89a789",
       "version_major": 2,
       "version_minor": 0
      },
      "text/plain": [
       "HBox(children=(IntProgress(value=0, description='Epoch', max=2), HTML(value='')))"
      ]
     },
     "metadata": {},
     "output_type": "display_data"
    },
    {
     "name": "stdout",
     "output_type": "stream",
     "text": [
      "epoch      trn_loss   val_loss   accuracy                  \n",
      "    0      0.752149   0.780003   0.793333  \n",
      "    1      0.651214   0.738102   0.8                       \n"
     ]
    },
    {
     "data": {
      "application/vnd.jupyter.widget-view+json": {
       "model_id": "416cf03b95604812908a6015c0885f2c",
       "version_major": 2,
       "version_minor": 0
      },
      "text/plain": [
       "HBox(children=(IntProgress(value=0, description='Epoch', max=2), HTML(value='')))"
      ]
     },
     "metadata": {},
     "output_type": "display_data"
    },
    {
     "name": "stdout",
     "output_type": "stream",
     "text": [
      "epoch      trn_loss   val_loss   accuracy                  \n",
      "    0      0.431685   0.56053    0.793333  \n",
      "    1      0.385296   0.461483   0.813333                  \n",
      "Saved weights as \"resnet101_seglessions_mel_1\"\n"
     ]
    }
   ],
   "source": [
    "trainer.set_lr(1e-1)\n",
    "trainer.init_fit(w_name + '_1')"
   ]
  },
  {
   "cell_type": "code",
   "execution_count": 8,
   "metadata": {},
   "outputs": [
    {
     "name": "stdout",
     "output_type": "stream",
     "text": [
      "Loading ys from csv; shape (600,); vals [0 1]; in folder \"ISIC/ISIC-2017_Test_v2_Data_lesion_seg\"\n",
      "Accuracy = 0.82\n",
      "Confusion Matrix:\n",
      "[[474   9]\n",
      " [100  17]]\n",
      "AUC for class 0, id 0 = 0.76\n",
      "AUC for class 1, id 1 = 0.76\n",
      "Accuracy = 0.81\n",
      "Confusion Matrix:\n",
      "[[119   1]\n",
      " [ 27   3]]\n",
      "AUC for class 0, id 0 = 0.78\n",
      "AUC for class 1, id 1 = 0.78\n"
     ]
    }
   ],
   "source": [
    "# trainer.load(w_name + '_1')\n",
    "tst_res = trainer.test_eval(sf=False)\n",
    "val_res = trainer.test_val(sf=False)\n",
    "# print('-'*50)\n",
    "# trainer.test_eval()"
   ]
  },
  {
   "cell_type": "code",
   "execution_count": 9,
   "metadata": {},
   "outputs": [
    {
     "data": {
      "application/vnd.jupyter.widget-view+json": {
       "model_id": "1e63514a2224474ba43ddd9ffeb372ea",
       "version_major": 2,
       "version_minor": 0
      },
      "text/plain": [
       "HBox(children=(IntProgress(value=0, description='Epoch', max=3), HTML(value='')))"
      ]
     },
     "metadata": {},
     "output_type": "display_data"
    },
    {
     "name": "stdout",
     "output_type": "stream",
     "text": [
      "epoch      trn_loss   val_loss   accuracy                  \n",
      "    0      0.36542    0.475403   0.773333  \n",
      "    1      0.361989   0.468646   0.806667                  \n",
      "    2      0.339862   0.42271    0.813333                  \n",
      "Saved weights as \"resnet101_seglessions_mel_2\"\n",
      "Accuracy = 0.81\n",
      "Confusion Matrix:\n",
      "[[113   7]\n",
      " [ 21   9]]\n",
      "AUC for class 0, id 0 = 0.79\n",
      "AUC for class 1, id 1 = 0.79\n",
      "Loading ys from csv; shape (600,); vals [0 1]; in folder \"ISIC/ISIC-2017_Test_v2_Data_lesion_seg\"\n",
      "Accuracy = 0.79\n",
      "Confusion Matrix:\n",
      "[[448  35]\n",
      " [ 90  27]]\n",
      "AUC for class 0, id 0 = 0.76\n",
      "AUC for class 1, id 1 = 0.76\n"
     ]
    }
   ],
   "source": [
    "trainer.inter_fit(w_name + '_2')\n",
    "val_res_2 = trainer.test_val(tta=False, sf=False)\n",
    "tst_res_2 = trainer.test_eval(tta=False, sf=False)"
   ]
  },
  {
   "cell_type": "code",
   "execution_count": 10,
   "metadata": {},
   "outputs": [
    {
     "data": {
      "application/vnd.jupyter.widget-view+json": {
       "model_id": "463840a3bc5044f28b9e52e838899f98",
       "version_major": 2,
       "version_minor": 0
      },
      "text/plain": [
       "HBox(children=(IntProgress(value=0, description='Epoch', max=7), HTML(value='')))"
      ]
     },
     "metadata": {},
     "output_type": "display_data"
    },
    {
     "name": "stdout",
     "output_type": "stream",
     "text": [
      "epoch      trn_loss   val_loss   accuracy                  \n",
      "    0      0.376398   0.435726   0.82      \n",
      "    1      0.349229   0.41072    0.826667                  \n",
      "    2      0.29048    0.396964   0.833333                  \n",
      "    3      0.289022   0.400879   0.826667                  \n",
      "    4      0.266575   0.359628   0.84                      \n",
      "    5      0.22331    0.352205   0.86                      \n",
      "    6      0.198851   0.338217   0.88                      \n"
     ]
    },
    {
     "data": {
      "application/vnd.jupyter.widget-view+json": {
       "model_id": "891b29541bdc46d8b42567fc0aed0b12",
       "version_major": 2,
       "version_minor": 0
      },
      "text/plain": [
       "HBox(children=(IntProgress(value=0, description='Epoch', max=15), HTML(value='')))"
      ]
     },
     "metadata": {},
     "output_type": "display_data"
    },
    {
     "name": "stdout",
     "output_type": "stream",
     "text": [
      "epoch      trn_loss   val_loss   accuracy                  \n",
      "    0      0.231814   0.36715    0.846667  \n",
      "    1      0.203734   0.470119   0.853333                  \n",
      "    2      0.168023   0.408161   0.853333                  \n",
      "    3      0.185653   0.447141   0.826667                  \n",
      "    4      0.165838   0.446747   0.84                      \n",
      "    5      0.142567   0.40078    0.873333                  \n",
      "    6      0.161092   0.483807   0.84                      \n",
      "    7      0.158349   0.378106   0.853333                  \n",
      "    8      0.116552   0.379809   0.853333                  \n",
      "    9      0.139857   0.380587   0.873333                  \n",
      "    10     0.126626   0.437806   0.873333                  \n",
      "    11     0.102748   0.466645   0.853333                  \n",
      "    12     0.121723   0.420631   0.826667                   \n",
      "    13     0.117914   0.430835   0.846667                  \n",
      "    14     0.08519    0.436344   0.86                       \n",
      "Saved weights as \"resnet101_seglessions_mel_3\"\n"
     ]
    }
   ],
   "source": [
    "trainer.final_fit(w_name + '_3')"
   ]
  },
  {
   "cell_type": "code",
   "execution_count": 11,
   "metadata": {},
   "outputs": [
    {
     "name": "stdout",
     "output_type": "stream",
     "text": [
      "Accuracy = 0.86\n",
      "Confusion Matrix:\n",
      "[[115   5]\n",
      " [ 16  14]]\n",
      "AUC for class 0, id 0 = 0.88\n",
      "AUC for class 1, id 1 = 0.88\n",
      "Loading ys from csv; shape (600,); vals [0 1]; in folder \"ISIC/ISIC-2017_Test_v2_Data_lesion_seg\"\n",
      "Accuracy = 0.75\n",
      "Confusion Matrix:\n",
      "[[435  48]\n",
      " [102  15]]\n",
      "AUC for class 0, id 0 = 0.68\n",
      "AUC for class 1, id 1 = 0.68\n",
      "----------------------------------------\n",
      "[[435  48]\n",
      " [102  15]]\n"
     ]
    },
    {
     "data": {
      "image/png": "[encoded data removed]",
      "text/plain": [
       "<Figure size 432x288 with 2 Axes>"
      ]
     },
     "metadata": {
      "needs_background": "light"
     },
     "output_type": "display_data"
    },
    {
     "data": {
      "image/png": "[encoded data removed]",
      "text/plain": [
       "<Figure size 432x288 with 1 Axes>"
      ]
     },
     "metadata": {
      "needs_background": "light"
     },
     "output_type": "display_data"
    },
    {
     "data": {
      "image/png": "[encoded data removed]",
      "text/plain": [
       "<Figure size 432x288 with 1 Axes>"
      ]
     },
     "metadata": {
      "needs_background": "light"
     },
     "output_type": "display_data"
    }
   ],
   "source": [
    "val_res_3 = trainer.test_val(tta=False, sf=False)\n",
    "tst_res_3 = trainer.test_eval(tta=True, sf=True)"
   ]
  },
  {
   "cell_type": "code",
   "execution_count": 5,
   "metadata": {},
   "outputs": [],
   "source": [
    "def den_im(im):\n",
    "    den = trainer.data.trn_ds.denorm\n",
    "    im = im[np.newaxis, ...]\n",
    "    dim = den(im.squeeze()).squeeze()\n",
    "    return dim\n",
    "\n",
    "# for i in [50, 33]:\n",
    "#     show_img(den_im(voutnp[0][i,...]))\n",
    "#     show_img(den_im(toutnp[0][i,...]))"
   ]
  },
  {
   "cell_type": "code",
   "execution_count": 19,
   "metadata": {},
   "outputs": [
    {
     "data": {
      "text/plain": [
       "460"
      ]
     },
     "execution_count": 19,
     "metadata": {},
     "output_type": "execute_result"
    }
   ],
   "source": [
    "sum(val_res[0] == test_res[0])"
   ]
  },
  {
   "cell_type": "code",
   "execution_count": 20,
   "metadata": {},
   "outputs": [
    {
     "data": {
      "text/plain": [
       "(0.7183333333333334, 0.785)"
      ]
     },
     "execution_count": 20,
     "metadata": {},
     "output_type": "execute_result"
    }
   ],
   "source": [
    "test_res[2], val_res[2]"
   ]
  },
  {
   "cell_type": "code",
   "execution_count": null,
   "metadata": {},
   "outputs": [],
   "source": []
  }
 ],
 "metadata": {
  "kernelspec": {
   "display_name": "Python 3",
   "language": "python",
   "name": "python3"
  },
  "language_info": {
   "codemirror_mode": {
    "name": "ipython",
    "version": 3
   },
   "file_extension": ".py",
   "mimetype": "text/x-python",
   "name": "python",
   "nbconvert_exporter": "python",
   "pygments_lexer": "ipython3",
   "version": "3.6.5"
  }
 },
 "nbformat": 4,
 "nbformat_minor": 2
}
