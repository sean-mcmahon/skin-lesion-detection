{
 "cells": [
  {
   "cell_type": "code",
   "execution_count": 5,
   "metadata": {},
   "outputs": [
    {
     "data": {
      "text/plain": [
       "(True, True)"
      ]
     },
     "execution_count": 5,
     "metadata": {},
     "output_type": "execute_result"
    }
   ],
   "source": [
    "%reload_ext autoreload\n",
    "%autoreload 2\n",
    "%matplotlib inline\n",
    "from classifier import *\n",
    "torch.cuda.is_available(), torch.backends.cudnn.enabled"
   ]
  },
  {
   "cell_type": "code",
   "execution_count": 6,
   "metadata": {},
   "outputs": [
    {
     "name": "stdout",
     "output_type": "stream",
     "text": [
      "\u001b[0m\u001b[01;34mdermofit\u001b[0m/             \u001b[01;34mph2dataset\u001b[0m/                      \u001b[01;32mtrain_multi_mel.csv\u001b[0m*\r\n",
      "\u001b[01;34mISIC\u001b[0m/                 \u001b[01;32mtest_isic17_dermofitLabels.csv\u001b[0m*  \u001b[01;32mtrain_multi_raw.csv\u001b[0m*\r\n",
      "\u001b[01;32misic18_p3_test_data\u001b[0m*  \u001b[01;34mtmp\u001b[0m/                             \u001b[01;32mtrain_multi_sk.csv\u001b[0m*\r\n",
      "\u001b[01;34misic_archive\u001b[0m/         \u001b[01;32mtrain_dermofit_isic17.csv\u001b[0m*       \u001b[01;32mval_isic17.csv\u001b[0m*\r\n",
      "\u001b[01;34mmodels\u001b[0m/               \u001b[01;32mtrain_multi.csv\u001b[0m*\r\n"
     ]
    }
   ],
   "source": [
    "PATH = Path('/home/sean/hpc-home/skin_cancer/')\n",
    "test_folder = 'ISIC/ISIC-2017_Test_v2_Data_Classification/'\n",
    "test_csv = PATH / 'ISIC/test_isic17.csv'\n",
    "\n",
    "test_mel_p = PATH / 'ISIC/test_mel_17.csv'\n",
    "test_ker_p = PATH / 'ISIC/test_ker_17.csv'\n",
    "test_all_p = PATH / 'ISIC/test_all_17.csv'\n",
    "test_raw_p = PATH / 'ISIC/test_raw_17.csv'\n",
    "\n",
    "train_skp = PATH / 'train_multi_sk.csv'\n",
    "train_melp = PATH / 'train_multi_mel.csv'\n",
    "train_all = PATH / 'train_multi.csv'\n",
    "train_raw = PATH / 'train_multi_raw.csv'\n",
    "\n",
    "%ls $PATH"
   ]
  },
  {
   "cell_type": "markdown",
   "metadata": {},
   "source": [
    "## Setup Trainer"
   ]
  },
  {
   "cell_type": "code",
   "execution_count": null,
   "metadata": {},
   "outputs": [
    {
     "name": "stdout",
     "output_type": "stream",
     "text": [
      "Saving model as \"inceptionv4_all\"\n",
      "Dataset has: ['0', '1'] classes\n",
      "  0%|          | 0/86 [00:00<?, ?it/s]"
     ]
    }
   ],
   "source": [
    "# The network architecture to use, resnet34 is a good start, will get better performance with resnext50 or inceptionv4\n",
    "arch=inceptionv4\n",
    "# image size\n",
    "sz=224\n",
    "bs=64\n",
    "train_csv = train_melp\n",
    "val_idx = list(range(5615 - 150, 5615))\n",
    "# len(train_df) = 5615\n",
    "test_csv = test_mel_p\n",
    "w_name = arch.__name__ + '_all'\n",
    "\n",
    "trainer = Trainer(PATH, arch, sz, bs, train_csv, test_folder=test_folder, val_idx=val_idx, sn=w_name, \n",
    "                  num_workers=2, test_csv=test_csv)\n",
    "trainer.lr_find()"
   ]
  },
  {
   "cell_type": "code",
   "execution_count": null,
   "metadata": {},
   "outputs": [],
   "source": [
    "trainer.set_lr(1e-2)\n",
    "trainer.init_fit(w_name + '_1')"
   ]
  },
  {
   "cell_type": "code",
   "execution_count": null,
   "metadata": {},
   "outputs": [
    {
     "data": {
      "application/vnd.jupyter.widget-view+json": {
       "model_id": "26ba0e62d5f34870b40ba7e292e8368d",
       "version_major": 2,
       "version_minor": 0
      },
      "text/plain": [
       "HBox(children=(IntProgress(value=0, description='Epoch', max=3), HTML(value='')))"
      ]
     },
     "metadata": {},
     "output_type": "display_data"
    },
    {
     "name": "stdout",
     "output_type": "stream",
     "text": [
      "\r",
      "  0%|          | 0/86 [00:00<?, ?it/s]"
     ]
    }
   ],
   "source": [
    "trainer.inter_fit(w_name + '_2')"
   ]
  },
  {
   "cell_type": "code",
   "execution_count": null,
   "metadata": {},
   "outputs": [],
   "source": [
    "trainer.set_lr(1e-3)\n",
    "trainer.final_fit(w_name + '_3')\n",
    "trainer.test_eval()"
   ]
  }
 ],
 "metadata": {
  "kernelspec": {
   "display_name": "Python 3",
   "language": "python",
   "name": "python3"
  },
  "language_info": {
   "codemirror_mode": {
    "name": "ipython",
    "version": 3
   },
   "file_extension": ".py",
   "mimetype": "text/x-python",
   "name": "python",
   "nbconvert_exporter": "python",
   "pygments_lexer": "ipython3",
   "version": "3.6.5"
  }
 },
 "nbformat": 4,
 "nbformat_minor": 2
}
