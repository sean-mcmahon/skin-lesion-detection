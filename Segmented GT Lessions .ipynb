{
 "cells": [
  {
   "cell_type": "code",
   "execution_count": 1,
   "metadata": {},
   "outputs": [
    {
     "name": "stderr",
     "output_type": "stream",
     "text": [
      "/home/sean/anaconda3/envs/fastai/lib/python3.6/site-packages/sklearn/ensemble/weight_boosting.py:29: DeprecationWarning: numpy.core.umath_tests is an internal NumPy module and should not be imported. It will be removed in a future NumPy release.\n",
      "  from numpy.core.umath_tests import inner1d\n"
     ]
    },
    {
     "data": {
      "text/plain": [
       "(True, True)"
      ]
     },
     "execution_count": 1,
     "metadata": {},
     "output_type": "execute_result"
    }
   ],
   "source": [
    "%matplotlib inline\n",
    "%reload_ext autoreload\n",
    "%autoreload 2\n",
    "# from jupyterthemes import jtplot\n",
    "# jtplot.style()\n",
    "from segmenter import *\n",
    "from IPython.core.debugger import set_trace\n",
    "from fastai.conv_learner import *\n",
    "torch.cuda.is_available(), torch.backends.cudnn.enabled"
   ]
  },
  {
   "cell_type": "code",
   "execution_count": 2,
   "metadata": {},
   "outputs": [
    {
     "name": "stdout",
     "output_type": "stream",
     "text": [
      "\u001b[0m\u001b[01;34mAK\u001b[0m/      \u001b[01;34mALLIEC\u001b[0m/  \u001b[01;34mALLSK\u001b[0m/    \u001b[01;32miec.zip\u001b[0m*         \u001b[01;34mmodels\u001b[0m/   \u001b[01;32msk.zip\u001b[0m*\r\n",
      "\u001b[01;32mak.zip\u001b[0m*  \u001b[01;34mALLMEL\u001b[0m/  \u001b[01;34mALLVASC\u001b[0m/  \u001b[01;32mlesionlist.txt\u001b[0m*  \u001b[01;34mPYO\u001b[0m/      \u001b[01;34mtmp\u001b[0m/\r\n",
      "\u001b[01;34mALLBCC\u001b[0m/  \u001b[01;34mALLML\u001b[0m/   \u001b[01;32mbcc.zip\u001b[0m*  \u001b[01;32mmel.zip\u001b[0m*         \u001b[01;32mpyo.zip\u001b[0m*  \u001b[01;32mtrain.csv\u001b[0m*\r\n",
      "\u001b[01;34mALLDF\u001b[0m/   \u001b[01;34mALLSCC\u001b[0m/  \u001b[01;32mdf.zip\u001b[0m*   \u001b[01;32mml.zip\u001b[0m*          \u001b[01;32mscc.zip\u001b[0m*  \u001b[01;32mvasc.zip\u001b[0m*\r\n"
     ]
    }
   ],
   "source": [
    "PATH = Path('/home/sean/hpc-home/skin_cancer/')\n",
    "\n",
    "%ls $PATH/'dermofit'"
   ]
  },
  {
   "cell_type": "code",
   "execution_count": 18,
   "metadata": {},
   "outputs": [
    {
     "data": {
      "text/plain": [
       "((3300,), (3300,), (150,), (150,))"
      ]
     },
     "execution_count": 18,
     "metadata": {},
     "output_type": "execute_result"
    }
   ],
   "source": [
    "xtrn_i = PATH / 'ISIC/ISIC-2017_Training_Data'\n",
    "ytrn_i = PATH / 'ISIC/ISIC-2017_Training_Part1_GroundTruth'\n",
    "\n",
    "xtrn_d = PATH / 'dermofit/'\n",
    "\n",
    "xval_path = PATH / 'ISIC/ISIC-2017_Validation_Data'\n",
    "yval_path = PATH / 'ISIC/ISIC-2017_Validation_Part1_GroundTruth'\n",
    "\n",
    "# xtrn_path.exists(), ytrn_path.exists(), xval_path.exists(), ytrn_path.exists()\n",
    "def get_all_files(p, fl, ext):\n",
    "    ims = []\n",
    "    for root, dirs, files in os.walk(p):\n",
    "        for fn in files:\n",
    "            if fn.endswith(ext) and fl in fn:\n",
    "                # The right filetype and the image we want!\n",
    "                ims.append(os.path.join(root, fn))\n",
    "    if len(ims) == 0:\n",
    "        print('No images found')\n",
    "    return ims\n",
    "\n",
    "d_files = get_all_files(xtrn_d, '', '.png')\n",
    "assert all([os.path.isfile(x) for x in d_files]), 'Some invalid files'\n",
    "\n",
    "xd = np.array(sorted([x for x in d_files if not 'mask' in x]))\n",
    "yd = np.array(sorted([x for x in d_files if 'mask' in x]))\n",
    "\n",
    "j='.jpg'\n",
    "p='.png'\n",
    "\n",
    "trn_x = np.append(g_fns(xtrn_i, j), xd)\n",
    "val_x = g_fns(xval_path, j)\n",
    "\n",
    "trn_y = np.append(g_fns(ytrn_i, p), yd)\n",
    "val_y = g_fns(yval_path, p)\n",
    "trn_x.shape, trn_y.shape, val_x.shape, val_y.shape"
   ]
  },
  {
   "cell_type": "code",
   "execution_count": 23,
   "metadata": {},
   "outputs": [
    {
     "data": {
      "text/plain": [
       "((600,),\n",
       " (600,),\n",
       " array([PosixPath('/home/sean/hpc-home/skin_cancer/ISIC/ISIC-2017_Test_v2_Data/ISIC_0015264.jpg'),\n",
       "        PosixPath('/home/sean/hpc-home/skin_cancer/ISIC/ISIC-2017_Test_v2_Data/ISIC_0013577.jpg'),\n",
       "        PosixPath('/home/sean/hpc-home/skin_cancer/ISIC/ISIC-2017_Test_v2_Data/ISIC_0014634.jpg')],\n",
       "       dtype=object),\n",
       " array([PosixPath('/home/sean/hpc-home/skin_cancer/ISIC/ISIC-2017_Test_v2_Part1_GroundTruth/ISIC_0015264_segmentation.png'),\n",
       "        PosixPath('/home/sean/hpc-home/skin_cancer/ISIC/ISIC-2017_Test_v2_Part1_GroundTruth/ISIC_0013577_segmentation.png'),\n",
       "        PosixPath('/home/sean/hpc-home/skin_cancer/ISIC/ISIC-2017_Test_v2_Part1_GroundTruth/ISIC_0014634_segmentation.png')],\n",
       "       dtype=object))"
      ]
     },
     "execution_count": 23,
     "metadata": {},
     "output_type": "execute_result"
    }
   ],
   "source": [
    "xtest_i = PATH / 'ISIC' / 'ISIC-2017_Test_v2_Data'\n",
    "ytest_i = PATH / 'ISIC' / 'ISIC-2017_Test_v2_Part1_GroundTruth'\n",
    "test_x = g_fns(xtest_i, '.jpg')\n",
    "test_y = g_fns(ytest_i, '.png')\n",
    "rr = np.random.randint(0, len(test_y), size=(3))\n",
    "test_x.shape, test_y.shape, test_x[rr], test_y[rr]"
   ]
  },
  {
   "cell_type": "markdown",
   "metadata": {},
   "source": [
    "### Now we have the images and masks, lets get segmenting"
   ]
  },
  {
   "cell_type": "code",
   "execution_count": 5,
   "metadata": {},
   "outputs": [
    {
     "name": "stdout",
     "output_type": "stream",
     "text": [
      "[0. 1.] (767, 1022)\n"
     ]
    },
    {
     "data": {
      "image/png": "[encoded data removed]",
      "text/plain": [
       "<Figure size 360x360 with 1 Axes>"
      ]
     },
     "metadata": {
      "needs_background": "light"
     },
     "output_type": "display_data"
    }
   ],
   "source": [
    "im = open_image(trn_y[2])[:,:,0]\n",
    "ax = show_img(im)\n",
    "ax.set_axis_on()\n",
    "ax.grid()\n",
    "print(np.unique(im), im.shape)"
   ]
  },
  {
   "cell_type": "code",
   "execution_count": 6,
   "metadata": {},
   "outputs": [
    {
     "name": "stdout",
     "output_type": "stream",
     "text": [
      "y lower and upper 136,733\n",
      "x lower and upper 247,864\n"
     ]
    }
   ],
   "source": [
    "blob_coords = np.where(im == 1)\n",
    "blob_ys = blob_coords[0]\n",
    "blob_xs = blob_coords[1]\n",
    "\n",
    "ly = min(blob_ys)\n",
    "uy = max(blob_ys)\n",
    "\n",
    "lx = min(blob_xs)\n",
    "ux = max(blob_xs)\n",
    "print(f'y lower and upper {ly},{uy}')\n",
    "print(f'x lower and upper {lx},{ux}')"
   ]
  },
  {
   "cell_type": "code",
   "execution_count": 7,
   "metadata": {},
   "outputs": [
    {
     "data": {
      "text/plain": [
       "array([[0., 1., 2.],\n",
       "       [3., 4., 5.],\n",
       "       [6., 7., 8.]])"
      ]
     },
     "execution_count": 7,
     "metadata": {},
     "output_type": "execute_result"
    }
   ],
   "source": [
    "x = np.arange(9.).reshape(3, 3)\n",
    "x"
   ]
  },
  {
   "cell_type": "code",
   "execution_count": 8,
   "metadata": {},
   "outputs": [
    {
     "data": {
      "text/plain": [
       "(array([2, 2, 2]), array([0, 1, 2]))"
      ]
     },
     "execution_count": 8,
     "metadata": {},
     "output_type": "execute_result"
    }
   ],
   "source": [
    "np.where(x > 5)"
   ]
  },
  {
   "cell_type": "code",
   "execution_count": 9,
   "metadata": {},
   "outputs": [],
   "source": [
    "b_left = [lx, uy]\n",
    "b_right= [ux, uy]\n",
    "\n",
    "t_right = [ux, ly]\n",
    "t_left = [lx, ly]\n",
    "\n",
    "h = uy - ly\n",
    "w = ux - lx"
   ]
  },
  {
   "cell_type": "code",
   "execution_count": 10,
   "metadata": {},
   "outputs": [
    {
     "data": {
      "text/plain": [
       "<matplotlib.patches.Rectangle at 0x7f962a913080>"
      ]
     },
     "execution_count": 10,
     "metadata": {},
     "output_type": "execute_result"
    },
    {
     "data": {
      "image/png": "[encoded data removed]",
      "text/plain": [
       "<Figure size 360x360 with 1 Axes>"
      ]
     },
     "metadata": {
      "needs_background": "light"
     },
     "output_type": "display_data"
    }
   ],
   "source": [
    "import matplotlib.patches as patches\n",
    "rect = patches.Rectangle((t_left), w, h, linewidth=1, edgecolor='r', facecolor='none')\n",
    "ax = show_img(im)\n",
    "ax.set_axis_on()\n",
    "ax.grid()\n",
    "ax.add_patch(rect)\n"
   ]
  },
  {
   "cell_type": "code",
   "execution_count": 17,
   "metadata": {},
   "outputs": [
    {
     "data": {
      "text/plain": [
       "<matplotlib.axes._subplots.AxesSubplot at 0x7f962a93eb00>"
      ]
     },
     "execution_count": 17,
     "metadata": {},
     "output_type": "execute_result"
    },
    {
     "data": {
      "image/png": "[encoded data removed]",
      "text/plain": [
       "<Figure size 360x360 with 1 Axes>"
      ]
     },
     "metadata": {
      "needs_background": "light"
     },
     "output_type": "display_data"
    }
   ],
   "source": [
    "lesion = im[t_left[1]:t_left[1]+h, t_left[0]:t_left[0]+w]\n",
    "show_img(lesion)"
   ]
  },
  {
   "cell_type": "code",
   "execution_count": 6,
   "metadata": {},
   "outputs": [
    {
     "data": {
      "text/plain": [
       "<matplotlib.axes._subplots.AxesSubplot at 0x7ff328d25438>"
      ]
     },
     "execution_count": 6,
     "metadata": {},
     "output_type": "execute_result"
    },
    {
     "data": {
      "image/png": "[encoded data removed]",
      "text/plain": [
       "<Figure size 360x360 with 1 Axes>"
      ]
     },
     "metadata": {
      "needs_background": "light"
     },
     "output_type": "display_data"
    }
   ],
   "source": [
    "def seg_lesion(im, mask):\n",
    "    im = im if isinstance(im, np.ndarray) else open_image(im)\n",
    "    mask = mask if isinstance(mask, np.ndarray) else open_image(mask)\n",
    "    mask = mask[:,:,0] if mask.ndim > 2 else mask\n",
    "    blob_coords = np.where(mask == 1)   \n",
    "    blob_ys = blob_coords[0]\n",
    "    blob_xs = blob_coords[1]\n",
    "\n",
    "    ly = min(blob_ys)\n",
    "    uy = max(blob_ys)\n",
    "    lx = min(blob_xs)\n",
    "    ux = max(blob_xs)\n",
    "    \n",
    "    t_left = [lx, ly]\n",
    "    h = uy - ly\n",
    "    w = ux - lx\n",
    "    \n",
    "    return im[t_left[1]:t_left[1]+h, t_left[0]:t_left[0]+w]\n",
    "\n",
    "segs = seg_lesion(trn_x[200], trn_y[200])\n",
    "show_img(segs)"
   ]
  },
  {
   "cell_type": "code",
   "execution_count": 26,
   "metadata": {},
   "outputs": [
    {
     "name": "stdout",
     "output_type": "stream",
     "text": [
      "Saved 0/3300 images\n",
      "Saved 100/3300 images\n",
      "Saved 200/3300 images\n",
      "Saved 300/3300 images\n",
      "Saved 400/3300 images\n",
      "Saved 500/3300 images\n",
      "Saved 600/3300 images\n",
      "Saved 700/3300 images\n",
      "Saved 800/3300 images\n",
      "Saved 900/3300 images\n",
      "Saved 1000/3300 images\n",
      "Saved 1100/3300 images\n",
      "Saved 1200/3300 images\n",
      "Saved 1300/3300 images\n",
      "Saved 1400/3300 images\n",
      "Saved 1500/3300 images\n",
      "Saved 1600/3300 images\n",
      "Saved 1700/3300 images\n",
      "Saved 1800/3300 images\n",
      "Saved 1900/3300 images\n",
      "Saved 2000/3300 images\n",
      "Saved 2100/3300 images\n",
      "Saved 2200/3300 images\n",
      "Saved 2300/3300 images\n",
      "Saved 2400/3300 images\n",
      "Saved 2500/3300 images\n",
      "Saved 2600/3300 images\n",
      "Saved 2700/3300 images\n",
      "Saved 2800/3300 images\n",
      "Saved 2900/3300 images\n",
      "Saved 3000/3300 images\n",
      "Saved 3100/3300 images\n",
      "Saved 3200/3300 images\n"
     ]
    }
   ],
   "source": [
    "trn_fns = []\n",
    "for count, (im, mask) in enumerate(zip(trn_x, trn_y)):\n",
    "    if count % 100 == 0:\n",
    "        print('Saved {}/{} images'.format(count, len(trn_x)))\n",
    "    im = str(im)\n",
    "    par_dir = str(os.path.dirname(im))\n",
    "    n_par_dir = par_dir + '_lesion_seg'\n",
    "    nname = im.replace(par_dir, n_par_dir)\n",
    "    if not os.path.isdir(os.path.dirname(nname)): os.mkdir(os.path.dirname(nname))\n",
    "    trn_fns.append(nname)\n",
    "    if os.path.exists(nname): continue\n",
    "    seg_im = seg_lesion(im, mask)\n",
    "    scipy.misc.imsave(nname, seg_im)"
   ]
  },
  {
   "cell_type": "code",
   "execution_count": 27,
   "metadata": {},
   "outputs": [
    {
     "name": "stdout",
     "output_type": "stream",
     "text": [
      "Saved 0/600 images\n",
      "Saved 100/600 images\n",
      "Saved 200/600 images\n",
      "Saved 300/600 images\n",
      "Saved 400/600 images\n",
      "Saved 500/600 images\n"
     ]
    }
   ],
   "source": [
    "tst_fns = []\n",
    "for count, (im, mask) in enumerate(zip(test_x, test_y)):\n",
    "    if count % 100 == 0:\n",
    "        print('Saved {}/{} images'.format(count, len(test_x)))\n",
    "    im = str(im)\n",
    "    par_dir = str(os.path.dirname(im))\n",
    "    n_par_dir = par_dir + '_lesion_seg'\n",
    "    nname = im.replace(par_dir, n_par_dir)\n",
    "    if not os.path.isdir(os.path.dirname(nname)): os.mkdir(os.path.dirname(nname))\n",
    "    tst_fns.append(nname)\n",
    "    if os.path.exists(nname): continue\n",
    "    seg_im = seg_lesion(im, mask)\n",
    "    scipy.misc.imsave(nname, seg_im)"
   ]
  },
  {
   "cell_type": "code",
   "execution_count": 28,
   "metadata": {},
   "outputs": [
    {
     "name": "stdout",
     "output_type": "stream",
     "text": [
      "Saved 0/150 images\n"
     ]
    },
    {
     "name": "stderr",
     "output_type": "stream",
     "text": [
      "/home/sean/anaconda3/envs/fastai/lib/python3.6/site-packages/ipykernel_launcher.py:13: DeprecationWarning: `imsave` is deprecated!\n",
      "`imsave` is deprecated in SciPy 1.0.0, and will be removed in 1.2.0.\n",
      "Use ``imageio.imwrite`` instead.\n",
      "  del sys.path[0]\n"
     ]
    },
    {
     "name": "stdout",
     "output_type": "stream",
     "text": [
      "Saved 100/150 images\n"
     ]
    }
   ],
   "source": [
    "val_fns = []\n",
    "for count, (im, mask) in enumerate(zip(val_x, val_y)):\n",
    "    if count % 100 == 0:\n",
    "        print('Saved {}/{} images'.format(count, len(val_x)))\n",
    "    im = str(im)\n",
    "    par_dir = str(os.path.dirname(im))\n",
    "    n_par_dir = par_dir + '_lesion_seg'\n",
    "    nname = im.replace(par_dir, n_par_dir)\n",
    "    if not os.path.isdir(os.path.dirname(nname)): os.mkdir(os.path.dirname(nname))\n",
    "    val_fns.append(nname)\n",
    "    if os.path.exists(nname): continue\n",
    "    seg_im = seg_lesion(im, mask)\n",
    "    scipy.misc.imsave(nname, seg_im)"
   ]
  },
  {
   "cell_type": "code",
   "execution_count": 31,
   "metadata": {},
   "outputs": [
    {
     "data": {
      "text/plain": [
       "(3300, 150, 600)"
      ]
     },
     "execution_count": 31,
     "metadata": {},
     "output_type": "execute_result"
    }
   ],
   "source": [
    "len(trn_fns), len(val_fns), len(tst_fns)"
   ]
  },
  {
   "cell_type": "markdown",
   "metadata": {},
   "source": [
    "### Create CSVs"
   ]
  },
  {
   "cell_type": "code",
   "execution_count": 35,
   "metadata": {},
   "outputs": [
    {
     "name": "stdout",
     "output_type": "stream",
     "text": [
      "    image      case type age  has_age     sex  has_sex  melanoma  keratosis  \\\n",
      "0  adl379  4A378379    d  45        1  female        1         0          0   \n",
      "1  ael455  4A454455    d  57        1    male        1         0          0   \n",
      "2  ael469  4A468469    d  68        1  female        1         0          0   \n",
      "3  ael502  4A501502    d  40        1  female        1         0          0   \n",
      "4  ael505  4A505505    d  65        1    male        1         0          0   \n",
      "\n",
      "   schedule  weight dataset  \n",
      "0         2       3   atlas  \n",
      "1         2       3   atlas  \n",
      "2         1       3   atlas  \n",
      "3         2       3   atlas  \n",
      "4         2       3   atlas  \n"
     ]
    }
   ],
   "source": [
    "sk_path = Path('/home/sean/hpc-home/skin_cancer/')\n",
    "dep = sk_path / 'isic_archive/recod_titans_sub/data/deploy2017.txt'\n",
    "rec = pd.read_csv(dep)\n",
    "rec.columns = [ss.strip() for ss in rec.columns]\n",
    "rec = rec.apply(lambda x: x.str.strip() if x.dtype == \"object\" else x)\n",
    "print(rec.head())\n",
    "def getds(data): return rec.loc[rec['dataset'] == data][['image', 'melanoma', 'keratosis']]\n",
    "def add_class_col(df, cats=['melanoma', 'keratosis']):\n",
    "    df['classes'] = np.nan\n",
    "    for c in cats:\n",
    "        print('adding %s to class' % c)\n",
    "        df['classes'].iloc[df[c].nonzero()[0]] = c\n",
    "    df['classes'].fillna('nevus', inplace=True)\n",
    "    df.head()\n",
    "    return df\n",
    "\n",
    "def vis_classes(df, col='classes'):\n",
    "    df[col].value_counts().plot(kind='barh')\n",
    "    print(df[col].value_counts())\n",
    "    \n",
    "def check_paths(iterable): return all([os.path.exists(PATH /i) for i in list(iterable)])"
   ]
  },
  {
   "cell_type": "markdown",
   "metadata": {},
   "source": [
    "#### Load ISIC 17 Training Data"
   ]
  },
  {
   "cell_type": "code",
   "execution_count": 45,
   "metadata": {},
   "outputs": [
    {
     "name": "stdout",
     "output_type": "stream",
     "text": [
      "adding melanoma to class\n",
      "adding keratosis to class\n"
     ]
    },
    {
     "name": "stderr",
     "output_type": "stream",
     "text": [
      "/home/sean/anaconda3/envs/fastai/lib/python3.6/site-packages/pandas/core/indexing.py:189: SettingWithCopyWarning: \n",
      "A value is trying to be set on a copy of a slice from a DataFrame\n",
      "\n",
      "See the caveats in the documentation: http://pandas.pydata.org/pandas-docs/stable/indexing.html#indexing-view-versus-copy\n",
      "  self._setitem_with_indexer(indexer, value)\n"
     ]
    },
    {
     "data": {
      "text/html": [
       "<div>\n",
       "<style scoped>\n",
       "    .dataframe tbody tr th:only-of-type {\n",
       "        vertical-align: middle;\n",
       "    }\n",
       "\n",
       "    .dataframe tbody tr th {\n",
       "        vertical-align: top;\n",
       "    }\n",
       "\n",
       "    .dataframe thead th {\n",
       "        text-align: right;\n",
       "    }\n",
       "</style>\n",
       "<table border=\"1\" class=\"dataframe\">\n",
       "  <thead>\n",
       "    <tr style=\"text-align: right;\">\n",
       "      <th></th>\n",
       "      <th>melanoma</th>\n",
       "      <th>keratosis</th>\n",
       "      <th>classes</th>\n",
       "    </tr>\n",
       "    <tr>\n",
       "      <th>image</th>\n",
       "      <th></th>\n",
       "      <th></th>\n",
       "      <th></th>\n",
       "    </tr>\n",
       "  </thead>\n",
       "  <tbody>\n",
       "    <tr>\n",
       "      <th>ISIC/ISIC-2017_Training_Data_lesion_seg/ISIC_0000000.jpg</th>\n",
       "      <td>0</td>\n",
       "      <td>0</td>\n",
       "      <td>nevus</td>\n",
       "    </tr>\n",
       "    <tr>\n",
       "      <th>ISIC/ISIC-2017_Training_Data_lesion_seg/ISIC_0000001.jpg</th>\n",
       "      <td>0</td>\n",
       "      <td>0</td>\n",
       "      <td>nevus</td>\n",
       "    </tr>\n",
       "    <tr>\n",
       "      <th>ISIC/ISIC-2017_Training_Data_lesion_seg/ISIC_0000002.jpg</th>\n",
       "      <td>1</td>\n",
       "      <td>0</td>\n",
       "      <td>melanoma</td>\n",
       "    </tr>\n",
       "    <tr>\n",
       "      <th>ISIC/ISIC-2017_Training_Data_lesion_seg/ISIC_0000003.jpg</th>\n",
       "      <td>0</td>\n",
       "      <td>0</td>\n",
       "      <td>nevus</td>\n",
       "    </tr>\n",
       "    <tr>\n",
       "      <th>ISIC/ISIC-2017_Training_Data_lesion_seg/ISIC_0000004.jpg</th>\n",
       "      <td>1</td>\n",
       "      <td>0</td>\n",
       "      <td>melanoma</td>\n",
       "    </tr>\n",
       "  </tbody>\n",
       "</table>\n",
       "</div>"
      ],
      "text/plain": [
       "                                                    melanoma  keratosis  \\\n",
       "image                                                                     \n",
       "ISIC/ISIC-2017_Training_Data_lesion_seg/ISIC_00...         0          0   \n",
       "ISIC/ISIC-2017_Training_Data_lesion_seg/ISIC_00...         0          0   \n",
       "ISIC/ISIC-2017_Training_Data_lesion_seg/ISIC_00...         1          0   \n",
       "ISIC/ISIC-2017_Training_Data_lesion_seg/ISIC_00...         0          0   \n",
       "ISIC/ISIC-2017_Training_Data_lesion_seg/ISIC_00...         1          0   \n",
       "\n",
       "                                                     classes  \n",
       "image                                                         \n",
       "ISIC/ISIC-2017_Training_Data_lesion_seg/ISIC_00...     nevus  \n",
       "ISIC/ISIC-2017_Training_Data_lesion_seg/ISIC_00...     nevus  \n",
       "ISIC/ISIC-2017_Training_Data_lesion_seg/ISIC_00...  melanoma  \n",
       "ISIC/ISIC-2017_Training_Data_lesion_seg/ISIC_00...     nevus  \n",
       "ISIC/ISIC-2017_Training_Data_lesion_seg/ISIC_00...  melanoma  "
      ]
     },
     "execution_count": 45,
     "metadata": {},
     "output_type": "execute_result"
    }
   ],
   "source": [
    "ict = getds('challenge')\n",
    "ict.index = 'ISIC/ISIC-2017_Training_Data_lesion_seg/' + ict['image'] + '.jpg'\n",
    "ict = ict[['melanoma', 'keratosis']]\n",
    "ict = add_class_col(ict)\n",
    "ict.head()"
   ]
  },
  {
   "cell_type": "code",
   "execution_count": 51,
   "metadata": {},
   "outputs": [
    {
     "data": {
      "text/plain": [
       "True"
      ]
     },
     "execution_count": 51,
     "metadata": {},
     "output_type": "execute_result"
    }
   ],
   "source": [
    "check_paths(ict.index)"
   ]
  },
  {
   "cell_type": "markdown",
   "metadata": {},
   "source": [
    "#### Load Dermofit Data"
   ]
  },
  {
   "cell_type": "code",
   "execution_count": 49,
   "metadata": {},
   "outputs": [
    {
     "name": "stdout",
     "output_type": "stream",
     "text": [
      "adding melanoma to class\n",
      "adding keratosis to class\n"
     ]
    },
    {
     "name": "stderr",
     "output_type": "stream",
     "text": [
      "/home/sean/anaconda3/envs/fastai/lib/python3.6/site-packages/pandas/core/indexing.py:189: SettingWithCopyWarning: \n",
      "A value is trying to be set on a copy of a slice from a DataFrame\n",
      "\n",
      "See the caveats in the documentation: http://pandas.pydata.org/pandas-docs/stable/indexing.html#indexing-view-versus-copy\n",
      "  self._setitem_with_indexer(indexer, value)\n"
     ]
    },
    {
     "name": "stdout",
     "output_type": "stream",
     "text": [
      "True\n"
     ]
    },
    {
     "data": {
      "text/html": [
       "<div>\n",
       "<style scoped>\n",
       "    .dataframe tbody tr th:only-of-type {\n",
       "        vertical-align: middle;\n",
       "    }\n",
       "\n",
       "    .dataframe tbody tr th {\n",
       "        vertical-align: top;\n",
       "    }\n",
       "\n",
       "    .dataframe thead th {\n",
       "        text-align: right;\n",
       "    }\n",
       "</style>\n",
       "<table border=\"1\" class=\"dataframe\">\n",
       "  <thead>\n",
       "    <tr style=\"text-align: right;\">\n",
       "      <th></th>\n",
       "      <th>image</th>\n",
       "      <th>melanoma</th>\n",
       "      <th>keratosis</th>\n",
       "      <th>classes</th>\n",
       "    </tr>\n",
       "  </thead>\n",
       "  <tbody>\n",
       "    <tr>\n",
       "      <th>dermofit/ALLBCC/D204a_lesion_seg/D204a.png</th>\n",
       "      <td>D204a</td>\n",
       "      <td>0</td>\n",
       "      <td>0</td>\n",
       "      <td>nevus</td>\n",
       "    </tr>\n",
       "    <tr>\n",
       "      <th>dermofit/ALLSCC/D222_lesion_seg/D222.png</th>\n",
       "      <td>D222</td>\n",
       "      <td>0</td>\n",
       "      <td>0</td>\n",
       "      <td>nevus</td>\n",
       "    </tr>\n",
       "    <tr>\n",
       "      <th>dermofit/ALLML/D226b_lesion_seg/D226b.png</th>\n",
       "      <td>D226b</td>\n",
       "      <td>0</td>\n",
       "      <td>0</td>\n",
       "      <td>nevus</td>\n",
       "    </tr>\n",
       "    <tr>\n",
       "      <th>dermofit/ALLML/D226c_lesion_seg/D226c.png</th>\n",
       "      <td>D226c</td>\n",
       "      <td>0</td>\n",
       "      <td>0</td>\n",
       "      <td>nevus</td>\n",
       "    </tr>\n",
       "    <tr>\n",
       "      <th>dermofit/ALLML/D227_lesion_seg/D227.png</th>\n",
       "      <td>D227</td>\n",
       "      <td>0</td>\n",
       "      <td>0</td>\n",
       "      <td>nevus</td>\n",
       "    </tr>\n",
       "  </tbody>\n",
       "</table>\n",
       "</div>"
      ],
      "text/plain": [
       "                                            image  melanoma  keratosis classes\n",
       "dermofit/ALLBCC/D204a_lesion_seg/D204a.png  D204a         0          0   nevus\n",
       "dermofit/ALLSCC/D222_lesion_seg/D222.png     D222         0          0   nevus\n",
       "dermofit/ALLML/D226b_lesion_seg/D226b.png   D226b         0          0   nevus\n",
       "dermofit/ALLML/D226c_lesion_seg/D226c.png   D226c         0          0   nevus\n",
       "dermofit/ALLML/D227_lesion_seg/D227.png      D227         0          0   nevus"
      ]
     },
     "execution_count": 49,
     "metadata": {},
     "output_type": "execute_result"
    }
   ],
   "source": [
    "ddf = getds('dermofit')\n",
    "ddf = add_class_col(ddf)\n",
    "ddf_t = pd.read_csv(PATH / 'dermofit/train.csv')\n",
    "ddf_t.columns = ['image', 'class']\n",
    "\n",
    "ddf_ids = ddf['image'].tolist()\n",
    "ddf_pths = ddf_t['image'].tolist()\n",
    "# [os.path.basename(ss) for ss in ddf_pths] == ddf_ids\n",
    "new_ddfp = []\n",
    "for pp in ddf_pths:\n",
    "    d, b = os.path.split(pp)\n",
    "    d += '_lesion_seg'\n",
    "    new_ddfp.append(os.path.join(d, b))\n",
    "dermfit_image_id = ['dermofit/' + i + '.png' for i in new_ddfp]\n",
    "print(all([(PATH / i).exists() for i in dermfit_image_id]))\n",
    "ddf.index = dermfit_image_id\n",
    "ddf.head()"
   ]
  },
  {
   "cell_type": "code",
   "execution_count": 50,
   "metadata": {},
   "outputs": [
    {
     "data": {
      "text/plain": [
       "True"
      ]
     },
     "execution_count": 50,
     "metadata": {},
     "output_type": "execute_result"
    }
   ],
   "source": [
    "check_paths(ddf.index)"
   ]
  },
  {
   "cell_type": "markdown",
   "metadata": {},
   "source": [
    "#### Load ISIC Validation Data"
   ]
  },
  {
   "cell_type": "code",
   "execution_count": 60,
   "metadata": {},
   "outputs": [
    {
     "name": "stdout",
     "output_type": "stream",
     "text": [
      "adding melanoma to class\n",
      "adding keratosis to class\n"
     ]
    },
    {
     "name": "stderr",
     "output_type": "stream",
     "text": [
      "/home/sean/anaconda3/envs/fastai/lib/python3.6/site-packages/pandas/core/indexing.py:189: SettingWithCopyWarning: \n",
      "A value is trying to be set on a copy of a slice from a DataFrame\n",
      "\n",
      "See the caveats in the documentation: http://pandas.pydata.org/pandas-docs/stable/indexing.html#indexing-view-versus-copy\n",
      "  self._setitem_with_indexer(indexer, value)\n"
     ]
    },
    {
     "data": {
      "text/html": [
       "<div>\n",
       "<style scoped>\n",
       "    .dataframe tbody tr th:only-of-type {\n",
       "        vertical-align: middle;\n",
       "    }\n",
       "\n",
       "    .dataframe tbody tr th {\n",
       "        vertical-align: top;\n",
       "    }\n",
       "\n",
       "    .dataframe thead th {\n",
       "        text-align: right;\n",
       "    }\n",
       "</style>\n",
       "<table border=\"1\" class=\"dataframe\">\n",
       "  <thead>\n",
       "    <tr style=\"text-align: right;\">\n",
       "      <th></th>\n",
       "      <th>melanoma</th>\n",
       "      <th>keratosis</th>\n",
       "      <th>classes</th>\n",
       "    </tr>\n",
       "  </thead>\n",
       "  <tbody>\n",
       "    <tr>\n",
       "      <th>ISIC/ISIC-2017_Validation_Data_lesion_seg/ISIC_0001769.jpg</th>\n",
       "      <td>0</td>\n",
       "      <td>0</td>\n",
       "      <td>nevus</td>\n",
       "    </tr>\n",
       "    <tr>\n",
       "      <th>ISIC/ISIC-2017_Validation_Data_lesion_seg/ISIC_0001852.jpg</th>\n",
       "      <td>0</td>\n",
       "      <td>0</td>\n",
       "      <td>nevus</td>\n",
       "    </tr>\n",
       "    <tr>\n",
       "      <th>ISIC/ISIC-2017_Validation_Data_lesion_seg/ISIC_0001871.jpg</th>\n",
       "      <td>0</td>\n",
       "      <td>0</td>\n",
       "      <td>nevus</td>\n",
       "    </tr>\n",
       "    <tr>\n",
       "      <th>ISIC/ISIC-2017_Validation_Data_lesion_seg/ISIC_0003462.jpg</th>\n",
       "      <td>0</td>\n",
       "      <td>0</td>\n",
       "      <td>nevus</td>\n",
       "    </tr>\n",
       "    <tr>\n",
       "      <th>ISIC/ISIC-2017_Validation_Data_lesion_seg/ISIC_0003539.jpg</th>\n",
       "      <td>0</td>\n",
       "      <td>0</td>\n",
       "      <td>nevus</td>\n",
       "    </tr>\n",
       "  </tbody>\n",
       "</table>\n",
       "</div>"
      ],
      "text/plain": [
       "                                                    melanoma  keratosis  \\\n",
       "ISIC/ISIC-2017_Validation_Data_lesion_seg/ISIC_...         0          0   \n",
       "ISIC/ISIC-2017_Validation_Data_lesion_seg/ISIC_...         0          0   \n",
       "ISIC/ISIC-2017_Validation_Data_lesion_seg/ISIC_...         0          0   \n",
       "ISIC/ISIC-2017_Validation_Data_lesion_seg/ISIC_...         0          0   \n",
       "ISIC/ISIC-2017_Validation_Data_lesion_seg/ISIC_...         0          0   \n",
       "\n",
       "                                                   classes  \n",
       "ISIC/ISIC-2017_Validation_Data_lesion_seg/ISIC_...   nevus  \n",
       "ISIC/ISIC-2017_Validation_Data_lesion_seg/ISIC_...   nevus  \n",
       "ISIC/ISIC-2017_Validation_Data_lesion_seg/ISIC_...   nevus  \n",
       "ISIC/ISIC-2017_Validation_Data_lesion_seg/ISIC_...   nevus  \n",
       "ISIC/ISIC-2017_Validation_Data_lesion_seg/ISIC_...   nevus  "
      ]
     },
     "execution_count": 60,
     "metadata": {},
     "output_type": "execute_result"
    }
   ],
   "source": [
    "icv = pd.read_csv(PATH / 'val_isic17.csv')\n",
    "icv.columns = ['image', 'class']\n",
    "\n",
    "icv['melanoma'] = (icv['class'] == 'MEL').astype(int)\n",
    "icv['keratosis'] = (icv['class'] == 'SK').astype(int)\n",
    "icv.set_index(icv['image'], inplace=True)\n",
    "new_icvp = []\n",
    "for pp in list(icv.index):\n",
    "    d, b = os.path.split(pp)\n",
    "    d += '_lesion_seg'\n",
    "    new_icvp.append(os.path.join(d, b))\n",
    "icv.index = new_icvp\n",
    "\n",
    "icv.drop(columns=['class', 'image'], inplace=True)\n",
    "icv = add_class_col(icv)\n",
    "icv.head()"
   ]
  },
  {
   "cell_type": "code",
   "execution_count": 61,
   "metadata": {},
   "outputs": [
    {
     "data": {
      "text/plain": [
       "True"
      ]
     },
     "execution_count": 61,
     "metadata": {},
     "output_type": "execute_result"
    }
   ],
   "source": [
    "check_paths(icv.index)"
   ]
  },
  {
   "cell_type": "markdown",
   "metadata": {},
   "source": [
    "#### Load ISIC 17 Test Data"
   ]
  },
  {
   "cell_type": "code",
   "execution_count": 68,
   "metadata": {},
   "outputs": [
    {
     "data": {
      "text/html": [
       "<div>\n",
       "<style scoped>\n",
       "    .dataframe tbody tr th:only-of-type {\n",
       "        vertical-align: middle;\n",
       "    }\n",
       "\n",
       "    .dataframe tbody tr th {\n",
       "        vertical-align: top;\n",
       "    }\n",
       "\n",
       "    .dataframe thead th {\n",
       "        text-align: right;\n",
       "    }\n",
       "</style>\n",
       "<table border=\"1\" class=\"dataframe\">\n",
       "  <thead>\n",
       "    <tr style=\"text-align: right;\">\n",
       "      <th></th>\n",
       "      <th>classes</th>\n",
       "    </tr>\n",
       "  </thead>\n",
       "  <tbody>\n",
       "    <tr>\n",
       "      <th>ISIC/ISIC-2017_Test_v2_Data_lesion_seg/ISIC_0012086.jpg</th>\n",
       "      <td>seborrheic_keratosis</td>\n",
       "    </tr>\n",
       "    <tr>\n",
       "      <th>ISIC/ISIC-2017_Test_v2_Data_lesion_seg/ISIC_0012092.jpg</th>\n",
       "      <td>nevus</td>\n",
       "    </tr>\n",
       "    <tr>\n",
       "      <th>ISIC/ISIC-2017_Test_v2_Data_lesion_seg/ISIC_0012095.jpg</th>\n",
       "      <td>nevus</td>\n",
       "    </tr>\n",
       "    <tr>\n",
       "      <th>ISIC/ISIC-2017_Test_v2_Data_lesion_seg/ISIC_0012134.jpg</th>\n",
       "      <td>seborrheic_keratosis</td>\n",
       "    </tr>\n",
       "    <tr>\n",
       "      <th>ISIC/ISIC-2017_Test_v2_Data_lesion_seg/ISIC_0012136.jpg</th>\n",
       "      <td>seborrheic_keratosis</td>\n",
       "    </tr>\n",
       "  </tbody>\n",
       "</table>\n",
       "</div>"
      ],
      "text/plain": [
       "                                                                 classes\n",
       "ISIC/ISIC-2017_Test_v2_Data_lesion_seg/ISIC_001...  seborrheic_keratosis\n",
       "ISIC/ISIC-2017_Test_v2_Data_lesion_seg/ISIC_001...                 nevus\n",
       "ISIC/ISIC-2017_Test_v2_Data_lesion_seg/ISIC_001...                 nevus\n",
       "ISIC/ISIC-2017_Test_v2_Data_lesion_seg/ISIC_001...  seborrheic_keratosis\n",
       "ISIC/ISIC-2017_Test_v2_Data_lesion_seg/ISIC_001...  seborrheic_keratosis"
      ]
     },
     "execution_count": 68,
     "metadata": {},
     "output_type": "execute_result"
    }
   ],
   "source": [
    "test_all_p = PATH / 'ISIC/test_all_17.csv'\n",
    "test_df = pd.read_csv(test_all_p)\n",
    "\n",
    "new_testicv = []\n",
    "for pp in list(test_df['image_id']):\n",
    "    d, b = os.path.split(pp)\n",
    "    d += '_lesion_seg'\n",
    "    new_testicv.append(os.path.join(d, b))\n",
    "test_df.index = new_testicv\n",
    "test_df.drop(columns='image_id', inplace=True)\n",
    "test_df.head()"
   ]
  },
  {
   "cell_type": "code",
   "execution_count": 69,
   "metadata": {},
   "outputs": [
    {
     "data": {
      "text/plain": [
       "True"
      ]
     },
     "execution_count": 69,
     "metadata": {},
     "output_type": "execute_result"
    }
   ],
   "source": [
    "check_paths(test_df.index)"
   ]
  },
  {
   "cell_type": "markdown",
   "metadata": {},
   "source": [
    "### Fold into Train datafram and save"
   ]
  },
  {
   "cell_type": "code",
   "execution_count": 71,
   "metadata": {},
   "outputs": [],
   "source": [
    "train_df_csv = PATH / 'train_seg_isic17_dermo.csv'\n",
    "train_df = pd.concat([ict['classes'], ddf['classes'], icv['classes']])\n",
    "train_df.to_csv(train_df_csv)"
   ]
  },
  {
   "cell_type": "code",
   "execution_count": 72,
   "metadata": {},
   "outputs": [],
   "source": [
    "test_df_csv = PATH / 'ISIC/test_seg_isic17.csv'\n",
    "test_df.to_csv(test_df_csv)"
   ]
  },
  {
   "cell_type": "code",
   "execution_count": 78,
   "metadata": {},
   "outputs": [
    {
     "name": "stdout",
     "output_type": "stream",
     "text": [
      "Min row size 74; Min col size 77\n"
     ]
    },
    {
     "data": {
      "image/png": "[encoded data removed]",
      "text/plain": [
       "<Figure size 432x288 with 1 Axes>"
      ]
     },
     "metadata": {
      "needs_background": "light"
     },
     "output_type": "display_data"
    },
    {
     "data": {
      "image/png": "[encoded data removed]",
      "text/plain": [
       "<Figure size 432x288 with 1 Axes>"
      ]
     },
     "metadata": {
      "needs_background": "light"
     },
     "output_type": "display_data"
    }
   ],
   "source": [
    "im_hist(list(train_df.index), name='train images', path=str(PATH))"
   ]
  },
  {
   "cell_type": "markdown",
   "metadata": {},
   "source": [
    "## Load The CSVs as Data Frames"
   ]
  },
  {
   "cell_type": "code",
   "execution_count": 6,
   "metadata": {},
   "outputs": [
    {
     "data": {
      "text/plain": [
       "(True, True)"
      ]
     },
     "execution_count": 6,
     "metadata": {},
     "output_type": "execute_result"
    }
   ],
   "source": [
    "train_csv = PATH / 'train_seg_isic17_dermo.csv'\n",
    "test_csv = PATH / 'ISIC/test_seg_isic17.csv'\n",
    "train_csv.exists(), test_csv.exists()"
   ]
  },
  {
   "cell_type": "code",
   "execution_count": 13,
   "metadata": {},
   "outputs": [
    {
     "data": {
      "text/html": [
       "<div>\n",
       "<style scoped>\n",
       "    .dataframe tbody tr th:only-of-type {\n",
       "        vertical-align: middle;\n",
       "    }\n",
       "\n",
       "    .dataframe tbody tr th {\n",
       "        vertical-align: top;\n",
       "    }\n",
       "\n",
       "    .dataframe thead th {\n",
       "        text-align: right;\n",
       "    }\n",
       "</style>\n",
       "<table border=\"1\" class=\"dataframe\">\n",
       "  <thead>\n",
       "    <tr style=\"text-align: right;\">\n",
       "      <th></th>\n",
       "      <th>classes</th>\n",
       "    </tr>\n",
       "    <tr>\n",
       "      <th>0</th>\n",
       "      <th></th>\n",
       "    </tr>\n",
       "  </thead>\n",
       "  <tbody>\n",
       "    <tr>\n",
       "      <th>ISIC/ISIC-2017_Training_Data_lesion_seg/ISIC_0000000.jpg</th>\n",
       "      <td>nevus</td>\n",
       "    </tr>\n",
       "    <tr>\n",
       "      <th>ISIC/ISIC-2017_Training_Data_lesion_seg/ISIC_0000001.jpg</th>\n",
       "      <td>nevus</td>\n",
       "    </tr>\n",
       "    <tr>\n",
       "      <th>ISIC/ISIC-2017_Training_Data_lesion_seg/ISIC_0000002.jpg</th>\n",
       "      <td>melanoma</td>\n",
       "    </tr>\n",
       "    <tr>\n",
       "      <th>ISIC/ISIC-2017_Training_Data_lesion_seg/ISIC_0000003.jpg</th>\n",
       "      <td>nevus</td>\n",
       "    </tr>\n",
       "    <tr>\n",
       "      <th>ISIC/ISIC-2017_Training_Data_lesion_seg/ISIC_0000004.jpg</th>\n",
       "      <td>melanoma</td>\n",
       "    </tr>\n",
       "  </tbody>\n",
       "</table>\n",
       "</div>"
      ],
      "text/plain": [
       "                                                     classes\n",
       "0                                                           \n",
       "ISIC/ISIC-2017_Training_Data_lesion_seg/ISIC_00...     nevus\n",
       "ISIC/ISIC-2017_Training_Data_lesion_seg/ISIC_00...     nevus\n",
       "ISIC/ISIC-2017_Training_Data_lesion_seg/ISIC_00...  melanoma\n",
       "ISIC/ISIC-2017_Training_Data_lesion_seg/ISIC_00...     nevus\n",
       "ISIC/ISIC-2017_Training_Data_lesion_seg/ISIC_00...  melanoma"
      ]
     },
     "execution_count": 13,
     "metadata": {},
     "output_type": "execute_result"
    }
   ],
   "source": [
    "train_seg_df = pd.read_csv(train_csv, header=None, index_col=[0])\n",
    "test_seg_df = pd.read_csv(test_csv, index_col=[0])\n",
    "train_seg_df.columns = ['classes']\n",
    "train_seg_df.head()"
   ]
  },
  {
   "cell_type": "code",
   "execution_count": 21,
   "metadata": {},
   "outputs": [
    {
     "data": {
      "text/plain": [
       "nevus        2417\n",
       "keratosis     553\n",
       "melanoma      480\n",
       "Name: classes, dtype: int64"
      ]
     },
     "execution_count": 21,
     "metadata": {},
     "output_type": "execute_result"
    }
   ],
   "source": [
    "train_seg_df['classes'].value_counts()"
   ]
  },
  {
   "cell_type": "code",
   "execution_count": 11,
   "metadata": {},
   "outputs": [
    {
     "data": {
      "text/html": [
       "<div>\n",
       "<style scoped>\n",
       "    .dataframe tbody tr th:only-of-type {\n",
       "        vertical-align: middle;\n",
       "    }\n",
       "\n",
       "    .dataframe tbody tr th {\n",
       "        vertical-align: top;\n",
       "    }\n",
       "\n",
       "    .dataframe thead th {\n",
       "        text-align: right;\n",
       "    }\n",
       "</style>\n",
       "<table border=\"1\" class=\"dataframe\">\n",
       "  <thead>\n",
       "    <tr style=\"text-align: right;\">\n",
       "      <th></th>\n",
       "      <th>classes</th>\n",
       "    </tr>\n",
       "  </thead>\n",
       "  <tbody>\n",
       "    <tr>\n",
       "      <th>ISIC/ISIC-2017_Test_v2_Data_lesion_seg/ISIC_0012086.jpg</th>\n",
       "      <td>seborrheic_keratosis</td>\n",
       "    </tr>\n",
       "    <tr>\n",
       "      <th>ISIC/ISIC-2017_Test_v2_Data_lesion_seg/ISIC_0012092.jpg</th>\n",
       "      <td>nevus</td>\n",
       "    </tr>\n",
       "    <tr>\n",
       "      <th>ISIC/ISIC-2017_Test_v2_Data_lesion_seg/ISIC_0012095.jpg</th>\n",
       "      <td>nevus</td>\n",
       "    </tr>\n",
       "    <tr>\n",
       "      <th>ISIC/ISIC-2017_Test_v2_Data_lesion_seg/ISIC_0012134.jpg</th>\n",
       "      <td>seborrheic_keratosis</td>\n",
       "    </tr>\n",
       "    <tr>\n",
       "      <th>ISIC/ISIC-2017_Test_v2_Data_lesion_seg/ISIC_0012136.jpg</th>\n",
       "      <td>seborrheic_keratosis</td>\n",
       "    </tr>\n",
       "  </tbody>\n",
       "</table>\n",
       "</div>"
      ],
      "text/plain": [
       "                                                                 classes\n",
       "ISIC/ISIC-2017_Test_v2_Data_lesion_seg/ISIC_001...  seborrheic_keratosis\n",
       "ISIC/ISIC-2017_Test_v2_Data_lesion_seg/ISIC_001...                 nevus\n",
       "ISIC/ISIC-2017_Test_v2_Data_lesion_seg/ISIC_001...                 nevus\n",
       "ISIC/ISIC-2017_Test_v2_Data_lesion_seg/ISIC_001...  seborrheic_keratosis\n",
       "ISIC/ISIC-2017_Test_v2_Data_lesion_seg/ISIC_001...  seborrheic_keratosis"
      ]
     },
     "execution_count": 11,
     "metadata": {},
     "output_type": "execute_result"
    }
   ],
   "source": [
    "test_seg_df.head()"
   ]
  },
  {
   "cell_type": "markdown",
   "metadata": {},
   "source": [
    "#### SK Split"
   ]
  },
  {
   "cell_type": "code",
   "execution_count": 14,
   "metadata": {},
   "outputs": [],
   "source": [
    "train_sk_seg_csv = PATH / 'train_SK_seg_isic17_dermo.csv'\n",
    "test_sk_seg_csv = PATH / 'ISIC/test_SK_seg_isic17_dermo'"
   ]
  },
  {
   "cell_type": "code",
   "execution_count": 17,
   "metadata": {},
   "outputs": [],
   "source": [
    "def save_bin_df(df, bin_label, dfcsv, class_col='classes'):\n",
    "    df['bin_class'] = (df[class_col] == bin_label).astype(int)\n",
    "    df.drop(columns=class_col).to_csv(dfcsv)\n",
    "    print(df.drop(columns=class_col)['bin_class'].value_counts())"
   ]
  },
  {
   "cell_type": "code",
   "execution_count": 22,
   "metadata": {},
   "outputs": [
    {
     "name": "stdout",
     "output_type": "stream",
     "text": [
      "0    2897\n",
      "1     553\n",
      "Name: bin_class, dtype: int64\n"
     ]
    }
   ],
   "source": [
    "save_bin_df(train_seg_df, 'keratosis', train_sk_seg_csv)"
   ]
  },
  {
   "cell_type": "code",
   "execution_count": 23,
   "metadata": {},
   "outputs": [
    {
     "name": "stdout",
     "output_type": "stream",
     "text": [
      "0    510\n",
      "1     90\n",
      "Name: bin_class, dtype: int64\n"
     ]
    }
   ],
   "source": [
    "save_bin_df(test_seg_df, 'seborrheic_keratosis', test_sk_seg_csv)"
   ]
  }
 ],
 "metadata": {
  "kernelspec": {
   "display_name": "Python 3",
   "language": "python",
   "name": "python3"
  },
  "language_info": {
   "codemirror_mode": {
    "name": "ipython",
    "version": 3
   },
   "file_extension": ".py",
   "mimetype": "text/x-python",
   "name": "python",
   "nbconvert_exporter": "python",
   "pygments_lexer": "ipython3",
   "version": "3.6.5"
  }
 },
 "nbformat": 4,
 "nbformat_minor": 2
}
