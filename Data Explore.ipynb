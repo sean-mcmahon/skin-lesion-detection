{
 "cells": [
  {
   "cell_type": "code",
   "execution_count": 1,
   "metadata": {},
   "outputs": [
    {
     "name": "stderr",
     "output_type": "stream",
     "text": [
      "/home/sean/anaconda3/envs/fastai/lib/python3.6/site-packages/sklearn/ensemble/weight_boosting.py:29: DeprecationWarning: numpy.core.umath_tests is an internal NumPy module and should not be imported. It will be removed in a future NumPy release.\n",
      "  from numpy.core.umath_tests import inner1d\n"
     ]
    },
    {
     "data": {
      "text/plain": [
       "(True, True)"
      ]
     },
     "execution_count": 1,
     "metadata": {},
     "output_type": "execute_result"
    }
   ],
   "source": [
    "%reload_ext autoreload\n",
    "%autoreload 2\n",
    "%matplotlib inline\n",
    "from classifier import *\n",
    "torch.cuda.is_available(), torch.backends.cudnn.enabled"
   ]
  },
  {
   "cell_type": "code",
   "execution_count": 2,
   "metadata": {},
   "outputs": [],
   "source": [
    "def add_class_col(df, cats=['melanoma', 'keratosis']):\n",
    "    df['classes'] = np.nan\n",
    "    for c in cats:\n",
    "        print('adding %s to class' % c)\n",
    "        df['classes'].iloc[df[c].nonzero()[0]] = c\n",
    "    df['classes'].fillna('nevus', inplace=True)\n",
    "    df.head()\n",
    "    return df\n",
    "\n",
    "def vis_classes(df, col='classes'):\n",
    "    df[col].value_counts().plot(kind='barh')\n",
    "    print(df[col].value_counts())"
   ]
  },
  {
   "cell_type": "code",
   "execution_count": 3,
   "metadata": {},
   "outputs": [
    {
     "name": "stdout",
     "output_type": "stream",
     "text": [
      "\u001b[0m\u001b[01;34mdermofit\u001b[0m/                        \u001b[01;32mtrain_multi_half_ia_nervi.csv\u001b[0m*\r\n",
      "\u001b[01;34mISIC\u001b[0m/                            \u001b[01;32mtrain_multi_mel.csv\u001b[0m*\r\n",
      "\u001b[01;32misic18_p3_test_data\u001b[0m*             \u001b[01;32mtrain_multi_no_ia_nervi.csv\u001b[0m*\r\n",
      "\u001b[01;34misic_archive\u001b[0m/                    \u001b[01;32mtrain_multi_raw.csv\u001b[0m*\r\n",
      "\u001b[01;34mmodels\u001b[0m/                          \u001b[01;32mtrain_multi_raw_half_ia_nervi.csv\u001b[0m*\r\n",
      "\u001b[01;34mph2dataset\u001b[0m/                      \u001b[01;32mtrain_multi_raw_no_ia_nervi.csv\u001b[0m*\r\n",
      "\u001b[01;32mtest_isic17_dermofitLabels.csv\u001b[0m*  \u001b[01;32mtrain_multi_sk.csv\u001b[0m*\r\n",
      "\u001b[01;34mtmp\u001b[0m/                             \u001b[01;32mtrain_seg_isic17_dermo.csv\u001b[0m*\r\n",
      "\u001b[01;32mtrain_dermofit_isic17.csv\u001b[0m*       \u001b[01;32mtrain_test_Mel_seg_isic17_dermo.csv\u001b[0m*\r\n",
      "\u001b[01;32mtrain_Mel_seg_isic17_dermo.csv\u001b[0m*  \u001b[01;32mval_isic17.csv\u001b[0m*\r\n",
      "\u001b[01;32mtrain_multi.csv\u001b[0m*\r\n"
     ]
    }
   ],
   "source": [
    "PATH = Path('/home/sean/hpc-home/skin_cancer/')\n",
    "test_folder = 'ISIC/ISIC-2017_Test_v2_Data_Classification/'\n",
    "test_csv = PATH / 'ISIC/test_isic17.csv'\n",
    "\n",
    "test_mel_p = PATH / 'ISIC/test_mel_17.csv'\n",
    "test_ker_p = PATH / 'ISIC/test_ker_17.csv'\n",
    "test_all_p = PATH / 'ISIC/test_all_17.csv'\n",
    "test_raw_p = PATH / 'ISIC/test_raw_17.csv'\n",
    "\n",
    "train_skp = PATH / 'train_multi_sk.csv'\n",
    "train_melp = PATH / 'train_multi_mel.csv'\n",
    "train_all = PATH / 'train_multi.csv'\n",
    "train_raw = PATH / 'train_multi_raw.csv'\n",
    "\n",
    "train_raw_half_ia_nervi = PATH / 'train_multi_raw_half_ia_nervi.csv'\n",
    "train_all_half_ia_nervi = PATH / 'train_multi_half_ia_nervi.csv'\n",
    "\n",
    "train_raw_no_ia_nervi = PATH / 'train_multi_raw_no_ia_nervi.csv'\n",
    "train_all_no_ia_nervi = PATH / 'train_multi_half_no_nervi.csv'\n",
    "\n",
    "%ls $PATH"
   ]
  },
  {
   "cell_type": "markdown",
   "metadata": {},
   "source": [
    "### Testset all"
   ]
  },
  {
   "cell_type": "code",
   "execution_count": 21,
   "metadata": {},
   "outputs": [
    {
     "name": "stdout",
     "output_type": "stream",
     "text": [
      "nevus                   393\n",
      "melanoma                117\n",
      "seborrheic_keratosis     90\n",
      "Name: classes, dtype: int64\n"
     ]
    },
    {
     "data": {
      "text/html": [
       "<div>\n",
       "<style scoped>\n",
       "    .dataframe tbody tr th:only-of-type {\n",
       "        vertical-align: middle;\n",
       "    }\n",
       "\n",
       "    .dataframe tbody tr th {\n",
       "        vertical-align: top;\n",
       "    }\n",
       "\n",
       "    .dataframe thead th {\n",
       "        text-align: right;\n",
       "    }\n",
       "</style>\n",
       "<table border=\"1\" class=\"dataframe\">\n",
       "  <thead>\n",
       "    <tr style=\"text-align: right;\">\n",
       "      <th></th>\n",
       "      <th>classes</th>\n",
       "    </tr>\n",
       "  </thead>\n",
       "  <tbody>\n",
       "    <tr>\n",
       "      <th>ISIC/ISIC-2017_Test_v2_Data_Classification/ISIC_0012086.jpg</th>\n",
       "      <td>seborrheic_keratosis</td>\n",
       "    </tr>\n",
       "    <tr>\n",
       "      <th>ISIC/ISIC-2017_Test_v2_Data_Classification/ISIC_0012092.jpg</th>\n",
       "      <td>nevus</td>\n",
       "    </tr>\n",
       "    <tr>\n",
       "      <th>ISIC/ISIC-2017_Test_v2_Data_Classification/ISIC_0012095.jpg</th>\n",
       "      <td>nevus</td>\n",
       "    </tr>\n",
       "    <tr>\n",
       "      <th>ISIC/ISIC-2017_Test_v2_Data_Classification/ISIC_0012134.jpg</th>\n",
       "      <td>seborrheic_keratosis</td>\n",
       "    </tr>\n",
       "    <tr>\n",
       "      <th>ISIC/ISIC-2017_Test_v2_Data_Classification/ISIC_0012136.jpg</th>\n",
       "      <td>seborrheic_keratosis</td>\n",
       "    </tr>\n",
       "  </tbody>\n",
       "</table>\n",
       "</div>"
      ],
      "text/plain": [
       "                                                                 classes\n",
       "ISIC/ISIC-2017_Test_v2_Data_Classification/ISIC...  seborrheic_keratosis\n",
       "ISIC/ISIC-2017_Test_v2_Data_Classification/ISIC...                 nevus\n",
       "ISIC/ISIC-2017_Test_v2_Data_Classification/ISIC...                 nevus\n",
       "ISIC/ISIC-2017_Test_v2_Data_Classification/ISIC...  seborrheic_keratosis\n",
       "ISIC/ISIC-2017_Test_v2_Data_Classification/ISIC...  seborrheic_keratosis"
      ]
     },
     "execution_count": 21,
     "metadata": {},
     "output_type": "execute_result"
    },
    {
     "data": {
      "image/png": "[encoded data removed]",
      "text/plain": [
       "<Figure size 432x288 with 1 Axes>"
      ]
     },
     "metadata": {
      "needs_background": "light"
     },
     "output_type": "display_data"
    }
   ],
   "source": [
    "test_df = pd.read_csv(test_all_p, index_col=0)\n",
    "# df_idl = list(test_df.index)\n",
    "# new_index = [i.replace('/ISIC-2017_Test_v2_Data/', '/ISIC-2017_Test_v2_Data_Classification/') for i in df_idl]\n",
    "# val_paths = all([(PATH / i).exists() for i in new_index])\n",
    "# print('Are the paths valid: ', val_paths)\n",
    "# test_df.index = new_index\n",
    "\n",
    "# test_df.to_csv(test_all_p)\n",
    "vis_classes(test_df, 'classes')\n",
    "test_df.head()"
   ]
  },
  {
   "cell_type": "code",
   "execution_count": 5,
   "metadata": {},
   "outputs": [
    {
     "name": "stdout",
     "output_type": "stream",
     "text": [
      "nevus                   393\n",
      "melanoma                117\n",
      "seborrheic_keratosis     90\n",
      "Name: classes, dtype: int64\n"
     ]
    },
    {
     "data": {
      "text/html": [
       "<div>\n",
       "<style scoped>\n",
       "    .dataframe tbody tr th:only-of-type {\n",
       "        vertical-align: middle;\n",
       "    }\n",
       "\n",
       "    .dataframe tbody tr th {\n",
       "        vertical-align: top;\n",
       "    }\n",
       "\n",
       "    .dataframe thead th {\n",
       "        text-align: right;\n",
       "    }\n",
       "</style>\n",
       "<table border=\"1\" class=\"dataframe\">\n",
       "  <thead>\n",
       "    <tr style=\"text-align: right;\">\n",
       "      <th></th>\n",
       "      <th>image_id</th>\n",
       "      <th>classes</th>\n",
       "    </tr>\n",
       "  </thead>\n",
       "  <tbody>\n",
       "    <tr>\n",
       "      <th>0</th>\n",
       "      <td>ISIC_0012086</td>\n",
       "      <td>seborrheic_keratosis</td>\n",
       "    </tr>\n",
       "    <tr>\n",
       "      <th>1</th>\n",
       "      <td>ISIC_0012092</td>\n",
       "      <td>nevus</td>\n",
       "    </tr>\n",
       "    <tr>\n",
       "      <th>2</th>\n",
       "      <td>ISIC_0012095</td>\n",
       "      <td>nevus</td>\n",
       "    </tr>\n",
       "    <tr>\n",
       "      <th>3</th>\n",
       "      <td>ISIC_0012134</td>\n",
       "      <td>seborrheic_keratosis</td>\n",
       "    </tr>\n",
       "    <tr>\n",
       "      <th>4</th>\n",
       "      <td>ISIC_0012136</td>\n",
       "      <td>seborrheic_keratosis</td>\n",
       "    </tr>\n",
       "  </tbody>\n",
       "</table>\n",
       "</div>"
      ],
      "text/plain": [
       "       image_id               classes\n",
       "0  ISIC_0012086  seborrheic_keratosis\n",
       "1  ISIC_0012092                 nevus\n",
       "2  ISIC_0012095                 nevus\n",
       "3  ISIC_0012134  seborrheic_keratosis\n",
       "4  ISIC_0012136  seborrheic_keratosis"
      ]
     },
     "execution_count": 5,
     "metadata": {},
     "output_type": "execute_result"
    },
    {
     "data": {
      "image/png": "[encoded data removed]",
      "text/plain": [
       "<Figure size 432x288 with 1 Axes>"
      ]
     },
     "metadata": {
      "needs_background": "light"
     },
     "output_type": "display_data"
    }
   ],
   "source": [
    "test_df2 = pd.read_csv(test_csv)\n",
    "vis_classes(test_df2, 'classes')\n",
    "test_df2.head()"
   ]
  },
  {
   "cell_type": "code",
   "execution_count": 11,
   "metadata": {},
   "outputs": [
    {
     "name": "stdout",
     "output_type": "stream",
     "text": [
      "nevus        4460\n",
      "melanoma      847\n",
      "keratosis     308\n",
      "Name: class, dtype: int64\n"
     ]
    },
    {
     "data": {
      "image/png": "[encoded data removed]",
      "text/plain": [
       "<Figure size 432x288 with 1 Axes>"
      ]
     },
     "metadata": {
      "needs_background": "light"
     },
     "output_type": "display_data"
    }
   ],
   "source": [
    "train_df = pd.read_csv(train_all)\n",
    "vis_classes(train_df, 'class')\n",
    "# train_df.columns"
   ]
  },
  {
   "cell_type": "code",
   "execution_count": 17,
   "metadata": {},
   "outputs": [
    {
     "data": {
      "text/html": [
       "<div>\n",
       "<style scoped>\n",
       "    .dataframe tbody tr th:only-of-type {\n",
       "        vertical-align: middle;\n",
       "    }\n",
       "\n",
       "    .dataframe tbody tr th {\n",
       "        vertical-align: top;\n",
       "    }\n",
       "\n",
       "    .dataframe thead th {\n",
       "        text-align: right;\n",
       "    }\n",
       "</style>\n",
       "<table border=\"1\" class=\"dataframe\">\n",
       "  <thead>\n",
       "    <tr style=\"text-align: right;\">\n",
       "      <th></th>\n",
       "      <th>image</th>\n",
       "      <th>class</th>\n",
       "    </tr>\n",
       "  </thead>\n",
       "  <tbody>\n",
       "    <tr>\n",
       "      <th>0</th>\n",
       "      <td>isic_archive/images/5436e3acbae478396759f0e5.jpg</td>\n",
       "      <td>nevus</td>\n",
       "    </tr>\n",
       "    <tr>\n",
       "      <th>1</th>\n",
       "      <td>isic_archive/images/5593f47b9fc3c131551460fc.jpg</td>\n",
       "      <td>nevus</td>\n",
       "    </tr>\n",
       "    <tr>\n",
       "      <th>2</th>\n",
       "      <td>isic_archive/images/5436e3f4bae478396759f4a6.jpg</td>\n",
       "      <td>nevus</td>\n",
       "    </tr>\n",
       "    <tr>\n",
       "      <th>3</th>\n",
       "      <td>isic_archive/images/558d637cbae47801cf734dbc.jpg</td>\n",
       "      <td>melanoma</td>\n",
       "    </tr>\n",
       "    <tr>\n",
       "      <th>4</th>\n",
       "      <td>isic_archive/images/558d60e8bae47801cf7345b2.jpg</td>\n",
       "      <td>melanoma</td>\n",
       "    </tr>\n",
       "  </tbody>\n",
       "</table>\n",
       "</div>"
      ],
      "text/plain": [
       "                                              image     class\n",
       "0  isic_archive/images/5436e3acbae478396759f0e5.jpg     nevus\n",
       "1  isic_archive/images/5593f47b9fc3c131551460fc.jpg     nevus\n",
       "2  isic_archive/images/5436e3f4bae478396759f4a6.jpg     nevus\n",
       "3  isic_archive/images/558d637cbae47801cf734dbc.jpg  melanoma\n",
       "4  isic_archive/images/558d60e8bae47801cf7345b2.jpg  melanoma"
      ]
     },
     "execution_count": 17,
     "metadata": {},
     "output_type": "execute_result"
    }
   ],
   "source": [
    "train_df.columns = ['image', 'class']\n",
    "train_df.head()"
   ]
  },
  {
   "cell_type": "markdown",
   "metadata": {},
   "source": [
    "## Rec dataset load"
   ]
  },
  {
   "cell_type": "code",
   "execution_count": 18,
   "metadata": {},
   "outputs": [
    {
     "data": {
      "text/html": [
       "<div>\n",
       "<style scoped>\n",
       "    .dataframe tbody tr th:only-of-type {\n",
       "        vertical-align: middle;\n",
       "    }\n",
       "\n",
       "    .dataframe tbody tr th {\n",
       "        vertical-align: top;\n",
       "    }\n",
       "\n",
       "    .dataframe thead th {\n",
       "        text-align: right;\n",
       "    }\n",
       "</style>\n",
       "<table border=\"1\" class=\"dataframe\">\n",
       "  <thead>\n",
       "    <tr style=\"text-align: right;\">\n",
       "      <th></th>\n",
       "      <th>image</th>\n",
       "      <th>case</th>\n",
       "      <th>type</th>\n",
       "      <th>age</th>\n",
       "      <th>has_age</th>\n",
       "      <th>sex</th>\n",
       "      <th>has_sex</th>\n",
       "      <th>melanoma</th>\n",
       "      <th>keratosis</th>\n",
       "      <th>schedule</th>\n",
       "      <th>weight</th>\n",
       "      <th>dataset</th>\n",
       "    </tr>\n",
       "  </thead>\n",
       "  <tbody>\n",
       "    <tr>\n",
       "      <th>0</th>\n",
       "      <td>adl379</td>\n",
       "      <td>4A378379</td>\n",
       "      <td>d</td>\n",
       "      <td>45</td>\n",
       "      <td>1</td>\n",
       "      <td>female</td>\n",
       "      <td>1</td>\n",
       "      <td>0</td>\n",
       "      <td>0</td>\n",
       "      <td>2</td>\n",
       "      <td>3</td>\n",
       "      <td>atlas</td>\n",
       "    </tr>\n",
       "    <tr>\n",
       "      <th>1</th>\n",
       "      <td>ael455</td>\n",
       "      <td>4A454455</td>\n",
       "      <td>d</td>\n",
       "      <td>57</td>\n",
       "      <td>1</td>\n",
       "      <td>male</td>\n",
       "      <td>1</td>\n",
       "      <td>0</td>\n",
       "      <td>0</td>\n",
       "      <td>2</td>\n",
       "      <td>3</td>\n",
       "      <td>atlas</td>\n",
       "    </tr>\n",
       "    <tr>\n",
       "      <th>2</th>\n",
       "      <td>ael469</td>\n",
       "      <td>4A468469</td>\n",
       "      <td>d</td>\n",
       "      <td>68</td>\n",
       "      <td>1</td>\n",
       "      <td>female</td>\n",
       "      <td>1</td>\n",
       "      <td>0</td>\n",
       "      <td>0</td>\n",
       "      <td>1</td>\n",
       "      <td>3</td>\n",
       "      <td>atlas</td>\n",
       "    </tr>\n",
       "    <tr>\n",
       "      <th>3</th>\n",
       "      <td>ael502</td>\n",
       "      <td>4A501502</td>\n",
       "      <td>d</td>\n",
       "      <td>40</td>\n",
       "      <td>1</td>\n",
       "      <td>female</td>\n",
       "      <td>1</td>\n",
       "      <td>0</td>\n",
       "      <td>0</td>\n",
       "      <td>2</td>\n",
       "      <td>3</td>\n",
       "      <td>atlas</td>\n",
       "    </tr>\n",
       "    <tr>\n",
       "      <th>4</th>\n",
       "      <td>ael505</td>\n",
       "      <td>4A505505</td>\n",
       "      <td>d</td>\n",
       "      <td>65</td>\n",
       "      <td>1</td>\n",
       "      <td>male</td>\n",
       "      <td>1</td>\n",
       "      <td>0</td>\n",
       "      <td>0</td>\n",
       "      <td>2</td>\n",
       "      <td>3</td>\n",
       "      <td>atlas</td>\n",
       "    </tr>\n",
       "  </tbody>\n",
       "</table>\n",
       "</div>"
      ],
      "text/plain": [
       "    image      case type age  has_age     sex  has_sex  melanoma  keratosis  \\\n",
       "0  adl379  4A378379    d  45        1  female        1         0          0   \n",
       "1  ael455  4A454455    d  57        1    male        1         0          0   \n",
       "2  ael469  4A468469    d  68        1  female        1         0          0   \n",
       "3  ael502  4A501502    d  40        1  female        1         0          0   \n",
       "4  ael505  4A505505    d  65        1    male        1         0          0   \n",
       "\n",
       "   schedule  weight dataset  \n",
       "0         2       3   atlas  \n",
       "1         2       3   atlas  \n",
       "2         1       3   atlas  \n",
       "3         2       3   atlas  \n",
       "4         2       3   atlas  "
      ]
     },
     "execution_count": 18,
     "metadata": {},
     "output_type": "execute_result"
    }
   ],
   "source": [
    "dep = PATH / 'isic_archive/recod_titans_sub/data/deploy2017.txt'\n",
    "rec = pd.read_csv(dep)\n",
    "rec.columns = [ss.strip() for ss in rec.columns]\n",
    "rec = rec.apply(lambda x: x.str.strip() if x.dtype == \"object\" else x)\n",
    "rec.head()"
   ]
  },
  {
   "cell_type": "markdown",
   "metadata": {},
   "source": [
    "## ISIC Archive"
   ]
  },
  {
   "cell_type": "code",
   "execution_count": 45,
   "metadata": {},
   "outputs": [
    {
     "name": "stdout",
     "output_type": "stream",
     "text": [
      "adding melanoma to class\n",
      "adding keratosis to class\n"
     ]
    },
    {
     "name": "stderr",
     "output_type": "stream",
     "text": [
      "/home/sean/anaconda3/envs/fastai/lib/python3.6/site-packages/pandas/core/indexing.py:189: SettingWithCopyWarning: \n",
      "A value is trying to be set on a copy of a slice from a DataFrame\n",
      "\n",
      "See the caveats in the documentation: http://pandas.pydata.org/pandas-docs/stable/indexing.html#indexing-view-versus-copy\n",
      "  self._setitem_with_indexer(indexer, value)\n"
     ]
    },
    {
     "data": {
      "text/html": [
       "<div>\n",
       "<style scoped>\n",
       "    .dataframe tbody tr th:only-of-type {\n",
       "        vertical-align: middle;\n",
       "    }\n",
       "\n",
       "    .dataframe tbody tr th {\n",
       "        vertical-align: top;\n",
       "    }\n",
       "\n",
       "    .dataframe thead th {\n",
       "        text-align: right;\n",
       "    }\n",
       "</style>\n",
       "<table border=\"1\" class=\"dataframe\">\n",
       "  <thead>\n",
       "    <tr style=\"text-align: right;\">\n",
       "      <th></th>\n",
       "      <th>melanoma</th>\n",
       "      <th>keratosis</th>\n",
       "      <th>classes</th>\n",
       "    </tr>\n",
       "    <tr>\n",
       "      <th>image</th>\n",
       "      <th></th>\n",
       "      <th></th>\n",
       "      <th></th>\n",
       "    </tr>\n",
       "  </thead>\n",
       "  <tbody>\n",
       "    <tr>\n",
       "      <th>isic_archive/images/5436e3acbae478396759f0e5.jpg</th>\n",
       "      <td>0</td>\n",
       "      <td>0</td>\n",
       "      <td>nevus</td>\n",
       "    </tr>\n",
       "    <tr>\n",
       "      <th>isic_archive/images/5593f47b9fc3c131551460fc.jpg</th>\n",
       "      <td>0</td>\n",
       "      <td>0</td>\n",
       "      <td>nevus</td>\n",
       "    </tr>\n",
       "    <tr>\n",
       "      <th>isic_archive/images/5436e3f4bae478396759f4a6.jpg</th>\n",
       "      <td>0</td>\n",
       "      <td>0</td>\n",
       "      <td>nevus</td>\n",
       "    </tr>\n",
       "    <tr>\n",
       "      <th>isic_archive/images/558d637cbae47801cf734dbc.jpg</th>\n",
       "      <td>1</td>\n",
       "      <td>0</td>\n",
       "      <td>melanoma</td>\n",
       "    </tr>\n",
       "    <tr>\n",
       "      <th>isic_archive/images/558d60e8bae47801cf7345b2.jpg</th>\n",
       "      <td>1</td>\n",
       "      <td>0</td>\n",
       "      <td>melanoma</td>\n",
       "    </tr>\n",
       "  </tbody>\n",
       "</table>\n",
       "</div>"
      ],
      "text/plain": [
       "                                                  melanoma  keratosis  \\\n",
       "image                                                                   \n",
       "isic_archive/images/5436e3acbae478396759f0e5.jpg         0          0   \n",
       "isic_archive/images/5593f47b9fc3c131551460fc.jpg         0          0   \n",
       "isic_archive/images/5436e3f4bae478396759f4a6.jpg         0          0   \n",
       "isic_archive/images/558d637cbae47801cf734dbc.jpg         1          0   \n",
       "isic_archive/images/558d60e8bae47801cf7345b2.jpg         1          0   \n",
       "\n",
       "                                                   classes  \n",
       "image                                                       \n",
       "isic_archive/images/5436e3acbae478396759f0e5.jpg     nevus  \n",
       "isic_archive/images/5593f47b9fc3c131551460fc.jpg     nevus  \n",
       "isic_archive/images/5436e3f4bae478396759f4a6.jpg     nevus  \n",
       "isic_archive/images/558d637cbae47801cf734dbc.jpg  melanoma  \n",
       "isic_archive/images/558d60e8bae47801cf7345b2.jpg  melanoma  "
      ]
     },
     "execution_count": 45,
     "metadata": {},
     "output_type": "execute_result"
    }
   ],
   "source": [
    "def getds(data): return rec.loc[rec['dataset'] == data][['image', 'melanoma', 'keratosis']]\n",
    "ia = getds('isic')\n",
    "ia = ia[['melanoma', 'keratosis']].set_index('isic_archive/images/' + ia['image'] + '.jpg')\n",
    "ia = add_class_col(ia)\n",
    "ia.head()"
   ]
  },
  {
   "cell_type": "code",
   "execution_count": 65,
   "metadata": {},
   "outputs": [
    {
     "name": "stdout",
     "output_type": "stream",
     "text": [
      "nevus        3335\n",
      "melanoma      701\n",
      "keratosis       9\n",
      "Name: classes, dtype: int64\n"
     ]
    },
    {
     "data": {
      "image/png": "[encoded data removed]",
      "text/plain": [
       "<Figure size 432x288 with 1 Axes>"
      ]
     },
     "metadata": {
      "needs_background": "light"
     },
     "output_type": "display_data"
    }
   ],
   "source": [
    "vis_classes(ia)"
   ]
  },
  {
   "cell_type": "code",
   "execution_count": 30,
   "metadata": {},
   "outputs": [
    {
     "data": {
      "text/plain": [
       "0    4036\n",
       "1       9\n",
       "Name: keratosis, dtype: int64"
      ]
     },
     "execution_count": 30,
     "metadata": {},
     "output_type": "execute_result"
    }
   ],
   "source": [
    "ia['keratosis'].value_counts()"
   ]
  },
  {
   "cell_type": "code",
   "execution_count": 69,
   "metadata": {},
   "outputs": [
    {
     "name": "stdout",
     "output_type": "stream",
     "text": [
      "[False False False ... False False False] 710\n"
     ]
    }
   ],
   "source": [
    "ia_nervi_id = np.array((ia['classes'] != 'nevus'))\n",
    "print(ia_nervi_id, sum(ia_nervi_id))"
   ]
  },
  {
   "cell_type": "code",
   "execution_count": 109,
   "metadata": {},
   "outputs": [
    {
     "data": {
      "text/plain": [
       "(array([False, False, False, ..., False, False, False]), 4045)"
      ]
     },
     "execution_count": 109,
     "metadata": {},
     "output_type": "execute_result"
    }
   ],
   "source": [
    "ia_nervi_id, len(ia_neri_id)"
   ]
  },
  {
   "cell_type": "code",
   "execution_count": 60,
   "metadata": {},
   "outputs": [
    {
     "data": {
      "text/html": [
       "<div>\n",
       "<style scoped>\n",
       "    .dataframe tbody tr th:only-of-type {\n",
       "        vertical-align: middle;\n",
       "    }\n",
       "\n",
       "    .dataframe tbody tr th {\n",
       "        vertical-align: top;\n",
       "    }\n",
       "\n",
       "    .dataframe thead th {\n",
       "        text-align: right;\n",
       "    }\n",
       "</style>\n",
       "<table border=\"1\" class=\"dataframe\">\n",
       "  <thead>\n",
       "    <tr style=\"text-align: right;\">\n",
       "      <th></th>\n",
       "      <th>melanoma</th>\n",
       "      <th>keratosis</th>\n",
       "      <th>classes</th>\n",
       "    </tr>\n",
       "    <tr>\n",
       "      <th>image</th>\n",
       "      <th></th>\n",
       "      <th></th>\n",
       "      <th></th>\n",
       "    </tr>\n",
       "  </thead>\n",
       "  <tbody>\n",
       "    <tr>\n",
       "      <th>isic_archive/images/558d637cbae47801cf734dbc.jpg</th>\n",
       "      <td>1</td>\n",
       "      <td>0</td>\n",
       "      <td>melanoma</td>\n",
       "    </tr>\n",
       "    <tr>\n",
       "      <th>isic_archive/images/558d60e8bae47801cf7345b2.jpg</th>\n",
       "      <td>1</td>\n",
       "      <td>0</td>\n",
       "      <td>melanoma</td>\n",
       "    </tr>\n",
       "    <tr>\n",
       "      <th>isic_archive/images/558d60a0bae47801cf73440e.jpg</th>\n",
       "      <td>1</td>\n",
       "      <td>0</td>\n",
       "      <td>melanoma</td>\n",
       "    </tr>\n",
       "    <tr>\n",
       "      <th>isic_archive/images/5592cfca9fc3c131551458c6.jpg</th>\n",
       "      <td>1</td>\n",
       "      <td>0</td>\n",
       "      <td>melanoma</td>\n",
       "    </tr>\n",
       "    <tr>\n",
       "      <th>isic_archive/images/558d6367bae47801cf734d38.jpg</th>\n",
       "      <td>1</td>\n",
       "      <td>0</td>\n",
       "      <td>melanoma</td>\n",
       "    </tr>\n",
       "  </tbody>\n",
       "</table>\n",
       "</div>"
      ],
      "text/plain": [
       "                                                  melanoma  keratosis  \\\n",
       "image                                                                   \n",
       "isic_archive/images/558d637cbae47801cf734dbc.jpg         1          0   \n",
       "isic_archive/images/558d60e8bae47801cf7345b2.jpg         1          0   \n",
       "isic_archive/images/558d60a0bae47801cf73440e.jpg         1          0   \n",
       "isic_archive/images/5592cfca9fc3c131551458c6.jpg         1          0   \n",
       "isic_archive/images/558d6367bae47801cf734d38.jpg         1          0   \n",
       "\n",
       "                                                   classes  \n",
       "image                                                       \n",
       "isic_archive/images/558d637cbae47801cf734dbc.jpg  melanoma  \n",
       "isic_archive/images/558d60e8bae47801cf7345b2.jpg  melanoma  \n",
       "isic_archive/images/558d60a0bae47801cf73440e.jpg  melanoma  \n",
       "isic_archive/images/5592cfca9fc3c131551458c6.jpg  melanoma  \n",
       "isic_archive/images/558d6367bae47801cf734d38.jpg  melanoma  "
      ]
     },
     "execution_count": 60,
     "metadata": {},
     "output_type": "execute_result"
    }
   ],
   "source": [
    "ia_no_nerus = ia.iloc[ia_nervi_id,:]\n",
    "ia_no_nerus.head()"
   ]
  },
  {
   "cell_type": "code",
   "execution_count": 61,
   "metadata": {},
   "outputs": [
    {
     "name": "stdout",
     "output_type": "stream",
     "text": [
      "melanoma     701\n",
      "keratosis      9\n",
      "Name: classes, dtype: int64\n"
     ]
    },
    {
     "data": {
      "image/png": "[encoded data removed]",
      "text/plain": [
       "<Figure size 432x288 with 1 Axes>"
      ]
     },
     "metadata": {
      "needs_background": "light"
     },
     "output_type": "display_data"
    }
   ],
   "source": [
    "vis_classes(ia_no_nerus)"
   ]
  },
  {
   "cell_type": "code",
   "execution_count": 117,
   "metadata": {},
   "outputs": [
    {
     "data": {
      "text/html": [
       "<div>\n",
       "<style scoped>\n",
       "    .dataframe tbody tr th:only-of-type {\n",
       "        vertical-align: middle;\n",
       "    }\n",
       "\n",
       "    .dataframe tbody tr th {\n",
       "        vertical-align: top;\n",
       "    }\n",
       "\n",
       "    .dataframe thead th {\n",
       "        text-align: right;\n",
       "    }\n",
       "</style>\n",
       "<table border=\"1\" class=\"dataframe\">\n",
       "  <thead>\n",
       "    <tr style=\"text-align: right;\">\n",
       "      <th></th>\n",
       "      <th>melanoma</th>\n",
       "      <th>keratosis</th>\n",
       "      <th>classes</th>\n",
       "    </tr>\n",
       "    <tr>\n",
       "      <th>image</th>\n",
       "      <th></th>\n",
       "      <th></th>\n",
       "      <th></th>\n",
       "    </tr>\n",
       "  </thead>\n",
       "  <tbody>\n",
       "    <tr>\n",
       "      <th>isic_archive/images/558d637cbae47801cf734dbc.jpg</th>\n",
       "      <td>1</td>\n",
       "      <td>0</td>\n",
       "      <td>melanoma</td>\n",
       "    </tr>\n",
       "    <tr>\n",
       "      <th>isic_archive/images/558d60e8bae47801cf7345b2.jpg</th>\n",
       "      <td>1</td>\n",
       "      <td>0</td>\n",
       "      <td>melanoma</td>\n",
       "    </tr>\n",
       "    <tr>\n",
       "      <th>isic_archive/images/5508fed2bae47817cee4d183.jpg</th>\n",
       "      <td>0</td>\n",
       "      <td>0</td>\n",
       "      <td>nevus</td>\n",
       "    </tr>\n",
       "    <tr>\n",
       "      <th>isic_archive/images/558d60a0bae47801cf73440e.jpg</th>\n",
       "      <td>1</td>\n",
       "      <td>0</td>\n",
       "      <td>melanoma</td>\n",
       "    </tr>\n",
       "    <tr>\n",
       "      <th>isic_archive/images/5592cfca9fc3c131551458c6.jpg</th>\n",
       "      <td>1</td>\n",
       "      <td>0</td>\n",
       "      <td>melanoma</td>\n",
       "    </tr>\n",
       "  </tbody>\n",
       "</table>\n",
       "</div>"
      ],
      "text/plain": [
       "                                                  melanoma  keratosis  \\\n",
       "image                                                                   \n",
       "isic_archive/images/558d637cbae47801cf734dbc.jpg         1          0   \n",
       "isic_archive/images/558d60e8bae47801cf7345b2.jpg         1          0   \n",
       "isic_archive/images/5508fed2bae47817cee4d183.jpg         0          0   \n",
       "isic_archive/images/558d60a0bae47801cf73440e.jpg         1          0   \n",
       "isic_archive/images/5592cfca9fc3c131551458c6.jpg         1          0   \n",
       "\n",
       "                                                   classes  \n",
       "image                                                       \n",
       "isic_archive/images/558d637cbae47801cf734dbc.jpg  melanoma  \n",
       "isic_archive/images/558d60e8bae47801cf7345b2.jpg  melanoma  \n",
       "isic_archive/images/5508fed2bae47817cee4d183.jpg     nevus  \n",
       "isic_archive/images/558d60a0bae47801cf73440e.jpg  melanoma  \n",
       "isic_archive/images/5592cfca9fc3c131551458c6.jpg  melanoma  "
      ]
     },
     "execution_count": 117,
     "metadata": {},
     "output_type": "execute_result"
    }
   ],
   "source": [
    "nervi_id = np.where(ia_nervi_id==False)[0]\n",
    "non_n_id = np.where(ia_nervi_id)[0]\n",
    "half_nervi = np.array(random.sample(nervi_id.tolist(), len(nervi_id)//2))\n",
    "new_idxs = np.concatenate([half_nervi, non_n_id])\n",
    "\n",
    "half_nervi_id = np.zeros(np.shape(ia_nervi_id)).astype(bool)\n",
    "half_nervi_id[new_idxs] = True\n",
    "\n",
    "half_nervi_df = ia.iloc[half_nervi_id,:]\n",
    "half_nervi_df.head()"
   ]
  },
  {
   "cell_type": "code",
   "execution_count": 121,
   "metadata": {},
   "outputs": [
    {
     "name": "stdout",
     "output_type": "stream",
     "text": [
      "nevus        1667\n",
      "melanoma      701\n",
      "keratosis       9\n",
      "Name: classes, dtype: int64\n"
     ]
    },
    {
     "data": {
      "image/png": "[encoded data removed]",
      "text/plain": [
       "<Figure size 432x288 with 1 Axes>"
      ]
     },
     "metadata": {
      "needs_background": "light"
     },
     "output_type": "display_data"
    }
   ],
   "source": [
    "vis_classes(half_nervi_df)"
   ]
  },
  {
   "cell_type": "markdown",
   "metadata": {},
   "source": [
    "## ISIC Challenge 17 Training Data"
   ]
  },
  {
   "cell_type": "code",
   "execution_count": 32,
   "metadata": {},
   "outputs": [
    {
     "name": "stdout",
     "output_type": "stream",
     "text": [
      "adding melanoma to class\n",
      "adding keratosis to class\n"
     ]
    },
    {
     "name": "stderr",
     "output_type": "stream",
     "text": [
      "/home/sean/anaconda3/envs/fastai/lib/python3.6/site-packages/pandas/core/indexing.py:189: SettingWithCopyWarning: \n",
      "A value is trying to be set on a copy of a slice from a DataFrame\n",
      "\n",
      "See the caveats in the documentation: http://pandas.pydata.org/pandas-docs/stable/indexing.html#indexing-view-versus-copy\n",
      "  self._setitem_with_indexer(indexer, value)\n"
     ]
    },
    {
     "data": {
      "text/html": [
       "<div>\n",
       "<style scoped>\n",
       "    .dataframe tbody tr th:only-of-type {\n",
       "        vertical-align: middle;\n",
       "    }\n",
       "\n",
       "    .dataframe tbody tr th {\n",
       "        vertical-align: top;\n",
       "    }\n",
       "\n",
       "    .dataframe thead th {\n",
       "        text-align: right;\n",
       "    }\n",
       "</style>\n",
       "<table border=\"1\" class=\"dataframe\">\n",
       "  <thead>\n",
       "    <tr style=\"text-align: right;\">\n",
       "      <th></th>\n",
       "      <th>melanoma</th>\n",
       "      <th>keratosis</th>\n",
       "      <th>classes</th>\n",
       "    </tr>\n",
       "    <tr>\n",
       "      <th>image</th>\n",
       "      <th></th>\n",
       "      <th></th>\n",
       "      <th></th>\n",
       "    </tr>\n",
       "  </thead>\n",
       "  <tbody>\n",
       "    <tr>\n",
       "      <th>ISIC/ISIC-2017_Training_Data/ISIC_0000000.jpg</th>\n",
       "      <td>0</td>\n",
       "      <td>0</td>\n",
       "      <td>nevus</td>\n",
       "    </tr>\n",
       "    <tr>\n",
       "      <th>ISIC/ISIC-2017_Training_Data/ISIC_0000001.jpg</th>\n",
       "      <td>0</td>\n",
       "      <td>0</td>\n",
       "      <td>nevus</td>\n",
       "    </tr>\n",
       "    <tr>\n",
       "      <th>ISIC/ISIC-2017_Training_Data/ISIC_0000002.jpg</th>\n",
       "      <td>1</td>\n",
       "      <td>0</td>\n",
       "      <td>melanoma</td>\n",
       "    </tr>\n",
       "    <tr>\n",
       "      <th>ISIC/ISIC-2017_Training_Data/ISIC_0000003.jpg</th>\n",
       "      <td>0</td>\n",
       "      <td>0</td>\n",
       "      <td>nevus</td>\n",
       "    </tr>\n",
       "    <tr>\n",
       "      <th>ISIC/ISIC-2017_Training_Data/ISIC_0000004.jpg</th>\n",
       "      <td>1</td>\n",
       "      <td>0</td>\n",
       "      <td>melanoma</td>\n",
       "    </tr>\n",
       "  </tbody>\n",
       "</table>\n",
       "</div>"
      ],
      "text/plain": [
       "                                               melanoma  keratosis   classes\n",
       "image                                                                       \n",
       "ISIC/ISIC-2017_Training_Data/ISIC_0000000.jpg         0          0     nevus\n",
       "ISIC/ISIC-2017_Training_Data/ISIC_0000001.jpg         0          0     nevus\n",
       "ISIC/ISIC-2017_Training_Data/ISIC_0000002.jpg         1          0  melanoma\n",
       "ISIC/ISIC-2017_Training_Data/ISIC_0000003.jpg         0          0     nevus\n",
       "ISIC/ISIC-2017_Training_Data/ISIC_0000004.jpg         1          0  melanoma"
      ]
     },
     "execution_count": 32,
     "metadata": {},
     "output_type": "execute_result"
    }
   ],
   "source": [
    "ict = getds('challenge')\n",
    "ict.index = 'ISIC/ISIC-2017_Training_Data/' + ict['image'] + '.jpg'\n",
    "ict = ict[['melanoma', 'keratosis']]\n",
    "ict = add_class_col(ict)\n",
    "ict.head()"
   ]
  },
  {
   "cell_type": "code",
   "execution_count": 33,
   "metadata": {},
   "outputs": [
    {
     "name": "stdout",
     "output_type": "stream",
     "text": [
      "nevus        1372\n",
      "melanoma      374\n",
      "keratosis     254\n",
      "Name: classes, dtype: int64\n"
     ]
    },
    {
     "data": {
      "image/png": "[encoded data removed]",
      "text/plain": [
       "<Figure size 432x288 with 1 Axes>"
      ]
     },
     "metadata": {
      "needs_background": "light"
     },
     "output_type": "display_data"
    }
   ],
   "source": [
    "vis_classes(ict)"
   ]
  },
  {
   "cell_type": "markdown",
   "metadata": {},
   "source": [
    "## Dermofit"
   ]
  },
  {
   "cell_type": "code",
   "execution_count": 171,
   "metadata": {},
   "outputs": [
    {
     "name": "stdout",
     "output_type": "stream",
     "text": [
      "adding melanoma to class\n",
      "adding keratosis to class\n"
     ]
    },
    {
     "data": {
      "text/html": [
       "<div>\n",
       "<style scoped>\n",
       "    .dataframe tbody tr th:only-of-type {\n",
       "        vertical-align: middle;\n",
       "    }\n",
       "\n",
       "    .dataframe tbody tr th {\n",
       "        vertical-align: top;\n",
       "    }\n",
       "\n",
       "    .dataframe thead th {\n",
       "        text-align: right;\n",
       "    }\n",
       "</style>\n",
       "<table border=\"1\" class=\"dataframe\">\n",
       "  <thead>\n",
       "    <tr style=\"text-align: right;\">\n",
       "      <th></th>\n",
       "      <th>image</th>\n",
       "      <th>melanoma</th>\n",
       "      <th>keratosis</th>\n",
       "      <th>classes</th>\n",
       "    </tr>\n",
       "    <tr>\n",
       "      <th>image</th>\n",
       "      <th></th>\n",
       "      <th></th>\n",
       "      <th></th>\n",
       "      <th></th>\n",
       "    </tr>\n",
       "  </thead>\n",
       "  <tbody>\n",
       "    <tr>\n",
       "      <th>D204a</th>\n",
       "      <td>D204a</td>\n",
       "      <td>0</td>\n",
       "      <td>0</td>\n",
       "      <td>nevus</td>\n",
       "    </tr>\n",
       "    <tr>\n",
       "      <th>D222</th>\n",
       "      <td>D222</td>\n",
       "      <td>0</td>\n",
       "      <td>0</td>\n",
       "      <td>nevus</td>\n",
       "    </tr>\n",
       "    <tr>\n",
       "      <th>D226b</th>\n",
       "      <td>D226b</td>\n",
       "      <td>0</td>\n",
       "      <td>0</td>\n",
       "      <td>nevus</td>\n",
       "    </tr>\n",
       "    <tr>\n",
       "      <th>D226c</th>\n",
       "      <td>D226c</td>\n",
       "      <td>0</td>\n",
       "      <td>0</td>\n",
       "      <td>nevus</td>\n",
       "    </tr>\n",
       "    <tr>\n",
       "      <th>D227</th>\n",
       "      <td>D227</td>\n",
       "      <td>0</td>\n",
       "      <td>0</td>\n",
       "      <td>nevus</td>\n",
       "    </tr>\n",
       "  </tbody>\n",
       "</table>\n",
       "</div>"
      ],
      "text/plain": [
       "       image  melanoma  keratosis classes\n",
       "image                                    \n",
       "D204a  D204a         0          0   nevus\n",
       "D222    D222         0          0   nevus\n",
       "D226b  D226b         0          0   nevus\n",
       "D226c  D226c         0          0   nevus\n",
       "D227    D227         0          0   nevus"
      ]
     },
     "execution_count": 171,
     "metadata": {},
     "output_type": "execute_result"
    }
   ],
   "source": [
    "ddf = getds('dermofit')\n",
    "ddf = add_class_col(ddf)\n",
    "# ddf.set_index(ddf['image'], inplace=True)\n",
    "ddf.head()"
   ]
  },
  {
   "cell_type": "code",
   "execution_count": 174,
   "metadata": {},
   "outputs": [
    {
     "data": {
      "text/html": [
       "<div>\n",
       "<style scoped>\n",
       "    .dataframe tbody tr th:only-of-type {\n",
       "        vertical-align: middle;\n",
       "    }\n",
       "\n",
       "    .dataframe tbody tr th {\n",
       "        vertical-align: top;\n",
       "    }\n",
       "\n",
       "    .dataframe thead th {\n",
       "        text-align: right;\n",
       "    }\n",
       "</style>\n",
       "<table border=\"1\" class=\"dataframe\">\n",
       "  <thead>\n",
       "    <tr style=\"text-align: right;\">\n",
       "      <th></th>\n",
       "      <th>image</th>\n",
       "      <th>melanoma</th>\n",
       "      <th>keratosis</th>\n",
       "      <th>classes</th>\n",
       "    </tr>\n",
       "  </thead>\n",
       "  <tbody>\n",
       "    <tr>\n",
       "      <th>dermofit/ALLBCC/D204a/D204a.png</th>\n",
       "      <td>D204a</td>\n",
       "      <td>0</td>\n",
       "      <td>0</td>\n",
       "      <td>nevus</td>\n",
       "    </tr>\n",
       "    <tr>\n",
       "      <th>dermofit/ALLSCC/D222/D222.png</th>\n",
       "      <td>D222</td>\n",
       "      <td>0</td>\n",
       "      <td>0</td>\n",
       "      <td>nevus</td>\n",
       "    </tr>\n",
       "    <tr>\n",
       "      <th>dermofit/ALLML/D226b/D226b.png</th>\n",
       "      <td>D226b</td>\n",
       "      <td>0</td>\n",
       "      <td>0</td>\n",
       "      <td>nevus</td>\n",
       "    </tr>\n",
       "    <tr>\n",
       "      <th>dermofit/ALLML/D226c/D226c.png</th>\n",
       "      <td>D226c</td>\n",
       "      <td>0</td>\n",
       "      <td>0</td>\n",
       "      <td>nevus</td>\n",
       "    </tr>\n",
       "    <tr>\n",
       "      <th>dermofit/ALLML/D227/D227.png</th>\n",
       "      <td>D227</td>\n",
       "      <td>0</td>\n",
       "      <td>0</td>\n",
       "      <td>nevus</td>\n",
       "    </tr>\n",
       "  </tbody>\n",
       "</table>\n",
       "</div>"
      ],
      "text/plain": [
       "                                 image  melanoma  keratosis classes\n",
       "dermofit/ALLBCC/D204a/D204a.png  D204a         0          0   nevus\n",
       "dermofit/ALLSCC/D222/D222.png     D222         0          0   nevus\n",
       "dermofit/ALLML/D226b/D226b.png   D226b         0          0   nevus\n",
       "dermofit/ALLML/D226c/D226c.png   D226c         0          0   nevus\n",
       "dermofit/ALLML/D227/D227.png      D227         0          0   nevus"
      ]
     },
     "execution_count": 174,
     "metadata": {},
     "output_type": "execute_result"
    }
   ],
   "source": [
    "ddf_t = pd.read_csv(PATH / 'dermofit/train.csv')\n",
    "ddf_t.columns = ['image', 'class']\n",
    "\n",
    "ddf_ids = ddf['image'].tolist()\n",
    "ddf_pths = ddf_t['image'].tolist()\n",
    "[os.path.basename(ss) for ss in ddf_pths] == ddf_ids\n",
    "dermfit_image_id = ['dermofit/' + i + '.png' for i in ddf_pths]\n",
    "print(all([(PATH / i).exists() for i in dermfit_image_id]))\n",
    "ddf.index = dermfit_image_id\n",
    "ddf.head()"
   ]
  },
  {
   "cell_type": "code",
   "execution_count": 175,
   "metadata": {},
   "outputs": [
    {
     "name": "stdout",
     "output_type": "stream",
     "text": [
      "nevus        967\n",
      "keratosis    257\n",
      "melanoma      76\n",
      "Name: classes, dtype: int64\n"
     ]
    },
    {
     "data": {
      "image/png": "[encoded data removed]",
      "text/plain": [
       "<Figure size 432x288 with 1 Axes>"
      ]
     },
     "metadata": {
      "needs_background": "light"
     },
     "output_type": "display_data"
    }
   ],
   "source": [
    "vis_classes(ddf)"
   ]
  },
  {
   "cell_type": "markdown",
   "metadata": {},
   "source": [
    "## PH2 Dataset"
   ]
  },
  {
   "cell_type": "code",
   "execution_count": 176,
   "metadata": {},
   "outputs": [
    {
     "name": "stdout",
     "output_type": "stream",
     "text": [
      "adding melanoma to class\n",
      "adding keratosis to class\n",
      "True\n"
     ]
    },
    {
     "data": {
      "text/html": [
       "<div>\n",
       "<style scoped>\n",
       "    .dataframe tbody tr th:only-of-type {\n",
       "        vertical-align: middle;\n",
       "    }\n",
       "\n",
       "    .dataframe tbody tr th {\n",
       "        vertical-align: top;\n",
       "    }\n",
       "\n",
       "    .dataframe thead th {\n",
       "        text-align: right;\n",
       "    }\n",
       "</style>\n",
       "<table border=\"1\" class=\"dataframe\">\n",
       "  <thead>\n",
       "    <tr style=\"text-align: right;\">\n",
       "      <th></th>\n",
       "      <th>image</th>\n",
       "      <th>melanoma</th>\n",
       "      <th>keratosis</th>\n",
       "      <th>classes</th>\n",
       "    </tr>\n",
       "  </thead>\n",
       "  <tbody>\n",
       "    <tr>\n",
       "      <th>ph2dataset/PH2_Dataset_images/IMD003/IMD003_Dermoscopic_Image/IMD003.bmp</th>\n",
       "      <td>IMD003</td>\n",
       "      <td>0</td>\n",
       "      <td>0</td>\n",
       "      <td>nevus</td>\n",
       "    </tr>\n",
       "    <tr>\n",
       "      <th>ph2dataset/PH2_Dataset_images/IMD009/IMD009_Dermoscopic_Image/IMD009.bmp</th>\n",
       "      <td>IMD009</td>\n",
       "      <td>0</td>\n",
       "      <td>0</td>\n",
       "      <td>nevus</td>\n",
       "    </tr>\n",
       "    <tr>\n",
       "      <th>ph2dataset/PH2_Dataset_images/IMD016/IMD016_Dermoscopic_Image/IMD016.bmp</th>\n",
       "      <td>IMD016</td>\n",
       "      <td>0</td>\n",
       "      <td>0</td>\n",
       "      <td>nevus</td>\n",
       "    </tr>\n",
       "    <tr>\n",
       "      <th>ph2dataset/PH2_Dataset_images/IMD022/IMD022_Dermoscopic_Image/IMD022.bmp</th>\n",
       "      <td>IMD022</td>\n",
       "      <td>0</td>\n",
       "      <td>0</td>\n",
       "      <td>nevus</td>\n",
       "    </tr>\n",
       "    <tr>\n",
       "      <th>ph2dataset/PH2_Dataset_images/IMD024/IMD024_Dermoscopic_Image/IMD024.bmp</th>\n",
       "      <td>IMD024</td>\n",
       "      <td>0</td>\n",
       "      <td>0</td>\n",
       "      <td>nevus</td>\n",
       "    </tr>\n",
       "  </tbody>\n",
       "</table>\n",
       "</div>"
      ],
      "text/plain": [
       "                                                     image  melanoma  \\\n",
       "ph2dataset/PH2_Dataset_images/IMD003/IMD003_Der...  IMD003         0   \n",
       "ph2dataset/PH2_Dataset_images/IMD009/IMD009_Der...  IMD009         0   \n",
       "ph2dataset/PH2_Dataset_images/IMD016/IMD016_Der...  IMD016         0   \n",
       "ph2dataset/PH2_Dataset_images/IMD022/IMD022_Der...  IMD022         0   \n",
       "ph2dataset/PH2_Dataset_images/IMD024/IMD024_Der...  IMD024         0   \n",
       "\n",
       "                                                    keratosis classes  \n",
       "ph2dataset/PH2_Dataset_images/IMD003/IMD003_Der...          0   nevus  \n",
       "ph2dataset/PH2_Dataset_images/IMD009/IMD009_Der...          0   nevus  \n",
       "ph2dataset/PH2_Dataset_images/IMD016/IMD016_Der...          0   nevus  \n",
       "ph2dataset/PH2_Dataset_images/IMD022/IMD022_Der...          0   nevus  \n",
       "ph2dataset/PH2_Dataset_images/IMD024/IMD024_Der...          0   nevus  "
      ]
     },
     "execution_count": 176,
     "metadata": {},
     "output_type": "execute_result"
    }
   ],
   "source": [
    "pdf = getds('ph2')\n",
    "pdf = add_class_col(pdf)\n",
    "# pdf.set_index(pdf['image'], inplace=True)\n",
    "pims = pdf['image'].tolist()\n",
    "pims = ['ph2dataset/PH2_Dataset_images/'+i+f'/{i}_Dermoscopic_Image/{i}.bmp' for i in pims]\n",
    "print(all([(PATH / ss).exists() for ss in pims]))\n",
    "pdf.index = pims\n",
    "# pdf = pdf[['melanoma', 'keratosis']]\n",
    "pdf.head()"
   ]
  },
  {
   "cell_type": "code",
   "execution_count": 177,
   "metadata": {},
   "outputs": [
    {
     "name": "stdout",
     "output_type": "stream",
     "text": [
      "nevus       80\n",
      "melanoma    40\n",
      "Name: classes, dtype: int64\n"
     ]
    },
    {
     "data": {
      "image/png": "[encoded data removed]",
      "text/plain": [
       "<Figure size 432x288 with 1 Axes>"
      ]
     },
     "metadata": {
      "needs_background": "light"
     },
     "output_type": "display_data"
    }
   ],
   "source": [
    "vis_classes(pdf)"
   ]
  },
  {
   "cell_type": "markdown",
   "metadata": {},
   "source": [
    "## ISIC 17 Valdiation set"
   ]
  },
  {
   "cell_type": "code",
   "execution_count": 43,
   "metadata": {},
   "outputs": [
    {
     "name": "stdout",
     "output_type": "stream",
     "text": [
      "adding melanoma to class\n",
      "adding keratosis to class\n"
     ]
    },
    {
     "name": "stderr",
     "output_type": "stream",
     "text": [
      "/home/sean/anaconda3/envs/fastai/lib/python3.6/site-packages/pandas/core/indexing.py:189: SettingWithCopyWarning: \n",
      "A value is trying to be set on a copy of a slice from a DataFrame\n",
      "\n",
      "See the caveats in the documentation: http://pandas.pydata.org/pandas-docs/stable/indexing.html#indexing-view-versus-copy\n",
      "  self._setitem_with_indexer(indexer, value)\n"
     ]
    },
    {
     "data": {
      "text/html": [
       "<div>\n",
       "<style scoped>\n",
       "    .dataframe tbody tr th:only-of-type {\n",
       "        vertical-align: middle;\n",
       "    }\n",
       "\n",
       "    .dataframe tbody tr th {\n",
       "        vertical-align: top;\n",
       "    }\n",
       "\n",
       "    .dataframe thead th {\n",
       "        text-align: right;\n",
       "    }\n",
       "</style>\n",
       "<table border=\"1\" class=\"dataframe\">\n",
       "  <thead>\n",
       "    <tr style=\"text-align: right;\">\n",
       "      <th></th>\n",
       "      <th>melanoma</th>\n",
       "      <th>keratosis</th>\n",
       "      <th>classes</th>\n",
       "    </tr>\n",
       "    <tr>\n",
       "      <th>image</th>\n",
       "      <th></th>\n",
       "      <th></th>\n",
       "      <th></th>\n",
       "    </tr>\n",
       "  </thead>\n",
       "  <tbody>\n",
       "    <tr>\n",
       "      <th>ISIC/ISIC-2017_Validation_Data/ISIC_0001769.jpg</th>\n",
       "      <td>0</td>\n",
       "      <td>0</td>\n",
       "      <td>nevus</td>\n",
       "    </tr>\n",
       "    <tr>\n",
       "      <th>ISIC/ISIC-2017_Validation_Data/ISIC_0001852.jpg</th>\n",
       "      <td>0</td>\n",
       "      <td>0</td>\n",
       "      <td>nevus</td>\n",
       "    </tr>\n",
       "    <tr>\n",
       "      <th>ISIC/ISIC-2017_Validation_Data/ISIC_0001871.jpg</th>\n",
       "      <td>0</td>\n",
       "      <td>0</td>\n",
       "      <td>nevus</td>\n",
       "    </tr>\n",
       "    <tr>\n",
       "      <th>ISIC/ISIC-2017_Validation_Data/ISIC_0003462.jpg</th>\n",
       "      <td>0</td>\n",
       "      <td>0</td>\n",
       "      <td>nevus</td>\n",
       "    </tr>\n",
       "    <tr>\n",
       "      <th>ISIC/ISIC-2017_Validation_Data/ISIC_0003539.jpg</th>\n",
       "      <td>0</td>\n",
       "      <td>0</td>\n",
       "      <td>nevus</td>\n",
       "    </tr>\n",
       "  </tbody>\n",
       "</table>\n",
       "</div>"
      ],
      "text/plain": [
       "                                                 melanoma  keratosis classes\n",
       "image                                                                       \n",
       "ISIC/ISIC-2017_Validation_Data/ISIC_0001769.jpg         0          0   nevus\n",
       "ISIC/ISIC-2017_Validation_Data/ISIC_0001852.jpg         0          0   nevus\n",
       "ISIC/ISIC-2017_Validation_Data/ISIC_0001871.jpg         0          0   nevus\n",
       "ISIC/ISIC-2017_Validation_Data/ISIC_0003462.jpg         0          0   nevus\n",
       "ISIC/ISIC-2017_Validation_Data/ISIC_0003539.jpg         0          0   nevus"
      ]
     },
     "execution_count": 43,
     "metadata": {},
     "output_type": "execute_result"
    }
   ],
   "source": [
    "icv = pd.read_csv(PATH / 'val_isic17.csv')\n",
    "icv.columns = ['image', 'class']\n",
    "\n",
    "icv['melanoma'] = (icv['class'] == 'MEL').astype(int)\n",
    "icv['keratosis'] = (icv['class'] == 'SK').astype(int)\n",
    "icv.set_index(icv['image'], inplace=True)\n",
    "\n",
    "icv.drop(columns=['class', 'image'], inplace=True)\n",
    "icv = add_class_col(icv)\n",
    "icv.head()"
   ]
  },
  {
   "cell_type": "code",
   "execution_count": 44,
   "metadata": {},
   "outputs": [
    {
     "name": "stdout",
     "output_type": "stream",
     "text": [
      "nevus        78\n",
      "keratosis    42\n",
      "melanoma     30\n",
      "Name: classes, dtype: int64\n"
     ]
    },
    {
     "data": {
      "image/png": "[encoded data removed]",
      "text/plain": [
       "<Figure size 432x288 with 1 Axes>"
      ]
     },
     "metadata": {
      "needs_background": "light"
     },
     "output_type": "display_data"
    }
   ],
   "source": [
    "vis_classes(icv)"
   ]
  },
  {
   "cell_type": "markdown",
   "metadata": {},
   "source": [
    "# Combine Datasets"
   ]
  },
  {
   "cell_type": "code",
   "execution_count": 178,
   "metadata": {},
   "outputs": [
    {
     "name": "stdout",
     "output_type": "stream",
     "text": [
      "nevus        4460\n",
      "melanoma      847\n",
      "keratosis     308\n",
      "Name: classes, dtype: int64\n",
      "5615\n"
     ]
    },
    {
     "name": "stderr",
     "output_type": "stream",
     "text": [
      "/home/sean/anaconda3/envs/fastai/lib/python3.6/site-packages/ipykernel_launcher.py:1: FutureWarning: Sorting because non-concatenation axis is not aligned. A future version\n",
      "of pandas will change to not sort by default.\n",
      "\n",
      "To accept the future behavior, pass 'sort=False'.\n",
      "\n",
      "To retain the current behavior and silence the warning, pass 'sort=True'.\n",
      "\n",
      "  \"\"\"Entry point for launching an IPython kernel.\n"
     ]
    },
    {
     "data": {
      "image/png": "[encoded data removed]",
      "text/plain": [
       "<Figure size 432x288 with 1 Axes>"
      ]
     },
     "metadata": {
      "needs_background": "light"
     },
     "output_type": "display_data"
    }
   ],
   "source": [
    "comb_all = pd.concat([ia, ddf, pdf, icv])\n",
    "vis_classes(comb_all)\n",
    "print(len(comb_all))"
   ]
  },
  {
   "cell_type": "code",
   "execution_count": 179,
   "metadata": {},
   "outputs": [
    {
     "name": "stdout",
     "output_type": "stream",
     "text": [
      "nevus        1125\n",
      "melanoma      847\n",
      "keratosis     308\n",
      "Name: classes, dtype: int64\n",
      "2280\n"
     ]
    },
    {
     "name": "stderr",
     "output_type": "stream",
     "text": [
      "/home/sean/anaconda3/envs/fastai/lib/python3.6/site-packages/ipykernel_launcher.py:1: FutureWarning: Sorting because non-concatenation axis is not aligned. A future version\n",
      "of pandas will change to not sort by default.\n",
      "\n",
      "To accept the future behavior, pass 'sort=False'.\n",
      "\n",
      "To retain the current behavior and silence the warning, pass 'sort=True'.\n",
      "\n",
      "  \"\"\"Entry point for launching an IPython kernel.\n"
     ]
    },
    {
     "data": {
      "image/png": "[encoded data removed]",
      "text/plain": [
       "<Figure size 432x288 with 1 Axes>"
      ]
     },
     "metadata": {
      "needs_background": "light"
     },
     "output_type": "display_data"
    }
   ],
   "source": [
    "comb_no_ia_nervis = pd.concat([ia_no_nerus, ddf, pdf, icv])\n",
    "vis_classes(comb_no_ia_nervis)\n",
    "print(len(comb_no_ia_nervis))"
   ]
  },
  {
   "cell_type": "code",
   "execution_count": 187,
   "metadata": {},
   "outputs": [
    {
     "data": {
      "text/html": [
       "<div>\n",
       "<style scoped>\n",
       "    .dataframe tbody tr th:only-of-type {\n",
       "        vertical-align: middle;\n",
       "    }\n",
       "\n",
       "    .dataframe tbody tr th {\n",
       "        vertical-align: top;\n",
       "    }\n",
       "\n",
       "    .dataframe thead th {\n",
       "        text-align: right;\n",
       "    }\n",
       "</style>\n",
       "<table border=\"1\" class=\"dataframe\">\n",
       "  <thead>\n",
       "    <tr style=\"text-align: right;\">\n",
       "      <th></th>\n",
       "      <th>classes</th>\n",
       "      <th>image</th>\n",
       "      <th>keratosis</th>\n",
       "      <th>melanoma</th>\n",
       "    </tr>\n",
       "  </thead>\n",
       "  <tbody>\n",
       "    <tr>\n",
       "      <th>isic_archive/images/558d637cbae47801cf734dbc.jpg</th>\n",
       "      <td>melanoma</td>\n",
       "      <td>NaN</td>\n",
       "      <td>0</td>\n",
       "      <td>1</td>\n",
       "    </tr>\n",
       "    <tr>\n",
       "      <th>isic_archive/images/558d60e8bae47801cf7345b2.jpg</th>\n",
       "      <td>melanoma</td>\n",
       "      <td>NaN</td>\n",
       "      <td>0</td>\n",
       "      <td>1</td>\n",
       "    </tr>\n",
       "    <tr>\n",
       "      <th>isic_archive/images/558d60a0bae47801cf73440e.jpg</th>\n",
       "      <td>melanoma</td>\n",
       "      <td>NaN</td>\n",
       "      <td>0</td>\n",
       "      <td>1</td>\n",
       "    </tr>\n",
       "    <tr>\n",
       "      <th>isic_archive/images/5592cfca9fc3c131551458c6.jpg</th>\n",
       "      <td>melanoma</td>\n",
       "      <td>NaN</td>\n",
       "      <td>0</td>\n",
       "      <td>1</td>\n",
       "    </tr>\n",
       "    <tr>\n",
       "      <th>isic_archive/images/558d6367bae47801cf734d38.jpg</th>\n",
       "      <td>melanoma</td>\n",
       "      <td>NaN</td>\n",
       "      <td>0</td>\n",
       "      <td>1</td>\n",
       "    </tr>\n",
       "  </tbody>\n",
       "</table>\n",
       "</div>"
      ],
      "text/plain": [
       "                                                   classes image  keratosis  \\\n",
       "isic_archive/images/558d637cbae47801cf734dbc.jpg  melanoma   NaN          0   \n",
       "isic_archive/images/558d60e8bae47801cf7345b2.jpg  melanoma   NaN          0   \n",
       "isic_archive/images/558d60a0bae47801cf73440e.jpg  melanoma   NaN          0   \n",
       "isic_archive/images/5592cfca9fc3c131551458c6.jpg  melanoma   NaN          0   \n",
       "isic_archive/images/558d6367bae47801cf734d38.jpg  melanoma   NaN          0   \n",
       "\n",
       "                                                  melanoma  \n",
       "isic_archive/images/558d637cbae47801cf734dbc.jpg         1  \n",
       "isic_archive/images/558d60e8bae47801cf7345b2.jpg         1  \n",
       "isic_archive/images/558d60a0bae47801cf73440e.jpg         1  \n",
       "isic_archive/images/5592cfca9fc3c131551458c6.jpg         1  \n",
       "isic_archive/images/558d6367bae47801cf734d38.jpg         1  "
      ]
     },
     "execution_count": 187,
     "metadata": {},
     "output_type": "execute_result"
    }
   ],
   "source": [
    "train_raw_no_ia_nervi = PATH / 'train_multi_raw_no_ia_nervi.csv'\n",
    "comb_no_ia_nervis.drop(columns='image').to_csv(train_raw_no_ia_nervi)\n",
    "\n",
    "train_all_no_ia_nervi = PATH / 'train_multi_no_ia_nervi.csv'\n",
    "comb_no_ia_nervis.drop(columns=['image', 'keratosis', 'melanoma']).to_csv(train_all_no_ia_nervi)\n",
    "\n",
    "\n",
    "comb_no_ia_nervis.head()"
   ]
  },
  {
   "cell_type": "code",
   "execution_count": 180,
   "metadata": {},
   "outputs": [
    {
     "name": "stdout",
     "output_type": "stream",
     "text": [
      "nevus        2792\n",
      "melanoma      847\n",
      "keratosis     308\n",
      "Name: classes, dtype: int64\n",
      "3947\n"
     ]
    },
    {
     "name": "stderr",
     "output_type": "stream",
     "text": [
      "/home/sean/anaconda3/envs/fastai/lib/python3.6/site-packages/ipykernel_launcher.py:1: FutureWarning: Sorting because non-concatenation axis is not aligned. A future version\n",
      "of pandas will change to not sort by default.\n",
      "\n",
      "To accept the future behavior, pass 'sort=False'.\n",
      "\n",
      "To retain the current behavior and silence the warning, pass 'sort=True'.\n",
      "\n",
      "  \"\"\"Entry point for launching an IPython kernel.\n"
     ]
    },
    {
     "data": {
      "image/png": "[encoded data removed]",
      "text/plain": [
       "<Figure size 432x288 with 1 Axes>"
      ]
     },
     "metadata": {
      "needs_background": "light"
     },
     "output_type": "display_data"
    }
   ],
   "source": [
    "comb_half_ia_nervis = pd.concat([half_nervi_df, ddf, pdf, icv])\n",
    "vis_classes(comb_half_ia_nervis)\n",
    "print(len(comb_half_ia_nervis))\n",
    "comb_half_ia_nervis.to_csv(train_raw_half_ia_nervi)"
   ]
  },
  {
   "cell_type": "code",
   "execution_count": 181,
   "metadata": {},
   "outputs": [
    {
     "name": "stdout",
     "output_type": "stream",
     "text": [
      "                                                   classes\n",
      "isic_archive/images/558d637cbae47801cf734dbc.jpg  melanoma\n",
      "isic_archive/images/558d60e8bae47801cf7345b2.jpg  melanoma\n",
      "isic_archive/images/5508fed2bae47817cee4d183.jpg     nevus\n",
      "isic_archive/images/558d60a0bae47801cf73440e.jpg  melanoma\n",
      "isic_archive/images/5592cfca9fc3c131551458c6.jpg  melanoma\n"
     ]
    }
   ],
   "source": [
    "print(comb_half_ia_nervis.drop(columns=['image', 'keratosis', 'melanoma']).head())\n",
    "train_all_half_ia_nervi = PATH / 'train_multi_half_ia_nervi.csv'\n",
    "comb_half_ia_nervis.drop(columns=['image', 'keratosis', 'melanoma']).to_csv(train_all_half_ia_nervi)"
   ]
  },
  {
   "cell_type": "code",
   "execution_count": 182,
   "metadata": {},
   "outputs": [
    {
     "data": {
      "text/plain": [
       "0"
      ]
     },
     "execution_count": 182,
     "metadata": {},
     "output_type": "execute_result"
    }
   ],
   "source": [
    "os.path.exists(os.path.join(str(PATH), comb_half_ia_nervis.index[1]))\n",
    "inv_idx =  [n for n in comb_half_ia_nervis.index if not isinstance(n, str)]\n",
    "len(inv_idx)"
   ]
  },
  {
   "cell_type": "markdown",
   "metadata": {},
   "source": [
    "# ISIC 17 Testset"
   ]
  },
  {
   "cell_type": "code",
   "execution_count": 125,
   "metadata": {},
   "outputs": [
    {
     "name": "stdout",
     "output_type": "stream",
     "text": [
      "nevus                   393\n",
      "melanoma                117\n",
      "seborrheic_keratosis     90\n",
      "Name: classes, dtype: int64\n"
     ]
    },
    {
     "data": {
      "image/png": "[encoded data removed]",
      "text/plain": [
       "<Figure size 432x288 with 1 Axes>"
      ]
     },
     "metadata": {
      "needs_background": "light"
     },
     "output_type": "display_data"
    }
   ],
   "source": [
    "test_raw_p = PATH / 'ISIC/test_raw_17.csv'\n",
    "test_df = pd.read_csv(test_raw_p)\n",
    "vis_classes(test_df)"
   ]
  },
  {
   "cell_type": "code",
   "execution_count": 136,
   "metadata": {},
   "outputs": [
    {
     "name": "stdout",
     "output_type": "stream",
     "text": [
      "nevus                   393\n",
      "melanoma                117\n",
      "seborrheic_keratosis     90\n",
      "Name: classes, dtype: int64\n"
     ]
    },
    {
     "data": {
      "image/png": "[encoded data removed]",
      "text/plain": [
       "<Figure size 432x288 with 1 Axes>"
      ]
     },
     "metadata": {
      "needs_background": "light"
     },
     "output_type": "display_data"
    }
   ],
   "source": [
    "test_cls_p = PATH / 'ISIC/test_all_17.csv'\n",
    "test_df = pd.read_csv(test_cls_p)\n",
    "vis_classes(test_df)"
   ]
  }
 ],
 "metadata": {
  "kernelspec": {
   "display_name": "Python 3",
   "language": "python",
   "name": "python3"
  },
  "language_info": {
   "codemirror_mode": {
    "name": "ipython",
    "version": 3
   },
   "file_extension": ".py",
   "mimetype": "text/x-python",
   "name": "python",
   "nbconvert_exporter": "python",
   "pygments_lexer": "ipython3",
   "version": "3.6.5"
  }
 },
 "nbformat": 4,
 "nbformat_minor": 2
}
